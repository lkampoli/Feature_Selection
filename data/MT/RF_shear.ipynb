{
 "cells": [
  {
   "cell_type": "code",
   "execution_count": 51,
   "id": "7302ca99",
   "metadata": {},
   "outputs": [],
   "source": [
    "import csv\n",
    "import matplotlib.pyplot as plt\n",
    "import numpy as np\n",
    "from sklearn.linear_model import LassoCV\n",
    "from sklearn.feature_selection import SelectFromModel\n",
    "from time import time\n",
    "import pandas as pd\n",
    "\n",
    "\n",
    "import sys\n",
    "sys.path.insert(0, './')\n",
    "\n",
    "#from plotting import newfig, savefig\n",
    "import matplotlib as mpl\n",
    "import matplotlib.gridspec as gridspec\n",
    "from mpl_toolkits.axes_grid1 import make_axes_locatable\n",
    "\n",
    "import seaborn as sns\n",
    "\n",
    "import operator\n",
    "import itertools\n",
    "\n",
    "from sklearn import metrics\n",
    "from sklearn.metrics import *\n",
    "from sklearn.pipeline import make_pipeline\n",
    "\n",
    "from sklearn.preprocessing import StandardScaler\n",
    "\n",
    "from sklearn.model_selection import train_test_split, GridSearchCV, KFold, cross_val_score\n",
    "\n",
    "from sklearn.inspection import permutation_importance\n",
    "\n",
    "from sklearn import ensemble\n",
    "from sklearn.ensemble import ExtraTreesRegressor\n",
    "from sklearn.ensemble import RandomForestRegressor\n",
    "\n",
    "from sklearn.decomposition import PCA, KernelPCA, FastICA\n",
    "\n",
    "from joblib import dump, load\n",
    "import pickle\n",
    "\n",
    "import time\n",
    "\n",
    "\n"
   ]
  },
  {
   "cell_type": "code",
   "execution_count": null,
   "id": "1cbd4076",
   "metadata": {},
   "outputs": [],
   "source": [
    "\n"
   ]
  },
  {
   "cell_type": "markdown",
   "id": "70395687",
   "metadata": {},
   "source": [
    "Reading file\n"
   ]
  },
  {
   "cell_type": "code",
   "execution_count": null,
   "id": "4c066c93",
   "metadata": {},
   "outputs": [],
   "source": [
    "\n",
    "# # read flash.dat to a list of lists\n",
    "datContent = [i.strip().split() for i in open(\"C:/Users/user/Feature_Selection/data/MT/shear_viscosity_lite.dat\").readlines()]\n",
    "\n",
    "# write it as a new CSV file\n",
    "# with open(\"C:/Users/user/Feature_Selection/data/MT/shear_viscosity_lite.csv\", \"w\") as f:\n",
    "#     writer = csv.writer(f)\n",
    "#     writer.writerows(datContent)"
   ]
  },
  {
   "cell_type": "code",
   "execution_count": 3,
   "id": "eeb7204c",
   "metadata": {},
   "outputs": [],
   "source": [
    "#write it as a new CSV file\n",
    "with open(\"C:/Users/user/Feature_Selection/data/MT/shear_viscosity_lite.csv\", \"w\") as f:\n",
    "    writer = csv.writer(f)\n",
    "    writer.writerows(datContent)"
   ]
  },
  {
   "cell_type": "code",
   "execution_count": null,
   "id": "cc4b58ca",
   "metadata": {},
   "outputs": [],
   "source": []
  },
  {
   "cell_type": "code",
   "execution_count": null,
   "id": "bb3f2eaf",
   "metadata": {},
   "outputs": [],
   "source": []
  },
  {
   "cell_type": "code",
   "execution_count": null,
   "id": "239bac17",
   "metadata": {},
   "outputs": [],
   "source": []
  },
  {
   "cell_type": "code",
   "execution_count": 11,
   "id": "a6dd8e02",
   "metadata": {},
   "outputs": [],
   "source": [
    "cols = [\"T0\",\"T1\", \"T2\", \"T3\",\"TVO2\",\"TVCO\",\"x1\",\"x2\",\"x3\",\"x4\",\"x5\",\"visc\"] "
   ]
  },
  {
   "cell_type": "code",
   "execution_count": 12,
   "id": "72230a83",
   "metadata": {},
   "outputs": [],
   "source": [
    "cols = [i for i in range(12)]"
   ]
  },
  {
   "cell_type": "code",
   "execution_count": 13,
   "id": "f92ecba5",
   "metadata": {},
   "outputs": [
    {
     "data": {
      "text/html": [
       "<div>\n",
       "<style scoped>\n",
       "    .dataframe tbody tr th:only-of-type {\n",
       "        vertical-align: middle;\n",
       "    }\n",
       "\n",
       "    .dataframe tbody tr th {\n",
       "        vertical-align: top;\n",
       "    }\n",
       "\n",
       "    .dataframe thead th {\n",
       "        text-align: right;\n",
       "    }\n",
       "</style>\n",
       "<table border=\"1\" class=\"dataframe\">\n",
       "  <thead>\n",
       "    <tr style=\"text-align: right;\">\n",
       "      <th></th>\n",
       "      <th>0</th>\n",
       "      <th>1</th>\n",
       "      <th>2</th>\n",
       "      <th>3</th>\n",
       "      <th>4</th>\n",
       "      <th>5</th>\n",
       "      <th>6</th>\n",
       "      <th>7</th>\n",
       "      <th>8</th>\n",
       "      <th>9</th>\n",
       "      <th>10</th>\n",
       "      <th>11</th>\n",
       "    </tr>\n",
       "  </thead>\n",
       "  <tbody>\n",
       "    <tr>\n",
       "      <th>0</th>\n",
       "      <td>2500.0</td>\n",
       "      <td>2500.0</td>\n",
       "      <td>2500.0</td>\n",
       "      <td>2500.0</td>\n",
       "      <td>2500.0</td>\n",
       "      <td>2500.0</td>\n",
       "      <td>0.2</td>\n",
       "      <td>0.2</td>\n",
       "      <td>0.2</td>\n",
       "      <td>0.2</td>\n",
       "      <td>0.2</td>\n",
       "      <td>0.000087</td>\n",
       "    </tr>\n",
       "    <tr>\n",
       "      <th>1</th>\n",
       "      <td>2500.0</td>\n",
       "      <td>2500.0</td>\n",
       "      <td>2500.0</td>\n",
       "      <td>2500.0</td>\n",
       "      <td>2500.0</td>\n",
       "      <td>2500.0</td>\n",
       "      <td>0.2</td>\n",
       "      <td>0.2</td>\n",
       "      <td>0.2</td>\n",
       "      <td>0.2</td>\n",
       "      <td>0.4</td>\n",
       "      <td>0.000088</td>\n",
       "    </tr>\n",
       "    <tr>\n",
       "      <th>2</th>\n",
       "      <td>2500.0</td>\n",
       "      <td>2500.0</td>\n",
       "      <td>2500.0</td>\n",
       "      <td>2500.0</td>\n",
       "      <td>2500.0</td>\n",
       "      <td>2500.0</td>\n",
       "      <td>0.2</td>\n",
       "      <td>0.2</td>\n",
       "      <td>0.2</td>\n",
       "      <td>0.2</td>\n",
       "      <td>0.6</td>\n",
       "      <td>0.000089</td>\n",
       "    </tr>\n",
       "    <tr>\n",
       "      <th>3</th>\n",
       "      <td>2500.0</td>\n",
       "      <td>2500.0</td>\n",
       "      <td>2500.0</td>\n",
       "      <td>2500.0</td>\n",
       "      <td>2500.0</td>\n",
       "      <td>2500.0</td>\n",
       "      <td>0.2</td>\n",
       "      <td>0.2</td>\n",
       "      <td>0.2</td>\n",
       "      <td>0.2</td>\n",
       "      <td>0.8</td>\n",
       "      <td>0.000090</td>\n",
       "    </tr>\n",
       "    <tr>\n",
       "      <th>4</th>\n",
       "      <td>2500.0</td>\n",
       "      <td>2500.0</td>\n",
       "      <td>2500.0</td>\n",
       "      <td>2500.0</td>\n",
       "      <td>2500.0</td>\n",
       "      <td>2500.0</td>\n",
       "      <td>0.2</td>\n",
       "      <td>0.2</td>\n",
       "      <td>0.2</td>\n",
       "      <td>0.2</td>\n",
       "      <td>1.0</td>\n",
       "      <td>0.000090</td>\n",
       "    </tr>\n",
       "  </tbody>\n",
       "</table>\n",
       "</div>"
      ],
      "text/plain": [
       "       0       1       2       3       4       5    6    7    8    9    10  \\\n",
       "0  2500.0  2500.0  2500.0  2500.0  2500.0  2500.0  0.2  0.2  0.2  0.2  0.2   \n",
       "1  2500.0  2500.0  2500.0  2500.0  2500.0  2500.0  0.2  0.2  0.2  0.2  0.4   \n",
       "2  2500.0  2500.0  2500.0  2500.0  2500.0  2500.0  0.2  0.2  0.2  0.2  0.6   \n",
       "3  2500.0  2500.0  2500.0  2500.0  2500.0  2500.0  0.2  0.2  0.2  0.2  0.8   \n",
       "4  2500.0  2500.0  2500.0  2500.0  2500.0  2500.0  0.2  0.2  0.2  0.2  1.0   \n",
       "\n",
       "         11  \n",
       "0  0.000087  \n",
       "1  0.000088  \n",
       "2  0.000089  \n",
       "3  0.000090  \n",
       "4  0.000090  "
      ]
     },
     "execution_count": 13,
     "metadata": {},
     "output_type": "execute_result"
    }
   ],
   "source": [
    "df = pd.read_csv(\"C:/Users/user/Feature_Selection/data/MT/shear_viscosity_lite.csv\",sep=',', names=cols, dtype=\"float32\")\n",
    "df.head()"
   ]
  },
  {
   "cell_type": "code",
   "execution_count": 14,
   "id": "68b7b203",
   "metadata": {},
   "outputs": [],
   "source": [
    "df.rename(columns={0: \"T0\",1: \"T1\",2: \"T2\",3: \"T3\",4: \"TVO2\",5:\"TVCO\",6:\"x1\",7:\"x2\",8:\"x3\",9:\"x4\",10:\"x5\",11:\"visc\"}, inplace=True)"
   ]
  },
  {
   "cell_type": "code",
   "execution_count": 15,
   "id": "93b3e832",
   "metadata": {},
   "outputs": [
    {
     "data": {
      "text/html": [
       "<div>\n",
       "<style scoped>\n",
       "    .dataframe tbody tr th:only-of-type {\n",
       "        vertical-align: middle;\n",
       "    }\n",
       "\n",
       "    .dataframe tbody tr th {\n",
       "        vertical-align: top;\n",
       "    }\n",
       "\n",
       "    .dataframe thead th {\n",
       "        text-align: right;\n",
       "    }\n",
       "</style>\n",
       "<table border=\"1\" class=\"dataframe\">\n",
       "  <thead>\n",
       "    <tr style=\"text-align: right;\">\n",
       "      <th></th>\n",
       "      <th>T0</th>\n",
       "      <th>T1</th>\n",
       "      <th>T2</th>\n",
       "      <th>T3</th>\n",
       "      <th>TVO2</th>\n",
       "      <th>TVCO</th>\n",
       "      <th>x1</th>\n",
       "      <th>x2</th>\n",
       "      <th>x3</th>\n",
       "      <th>x4</th>\n",
       "      <th>x5</th>\n",
       "      <th>visc</th>\n",
       "    </tr>\n",
       "  </thead>\n",
       "  <tbody>\n",
       "    <tr>\n",
       "      <th>0</th>\n",
       "      <td>2500.0</td>\n",
       "      <td>2500.0</td>\n",
       "      <td>2500.0</td>\n",
       "      <td>2500.0</td>\n",
       "      <td>2500.0</td>\n",
       "      <td>2500.0</td>\n",
       "      <td>0.2</td>\n",
       "      <td>0.2</td>\n",
       "      <td>0.2</td>\n",
       "      <td>0.2</td>\n",
       "      <td>0.2</td>\n",
       "      <td>0.000087</td>\n",
       "    </tr>\n",
       "    <tr>\n",
       "      <th>1</th>\n",
       "      <td>2500.0</td>\n",
       "      <td>2500.0</td>\n",
       "      <td>2500.0</td>\n",
       "      <td>2500.0</td>\n",
       "      <td>2500.0</td>\n",
       "      <td>2500.0</td>\n",
       "      <td>0.2</td>\n",
       "      <td>0.2</td>\n",
       "      <td>0.2</td>\n",
       "      <td>0.2</td>\n",
       "      <td>0.4</td>\n",
       "      <td>0.000088</td>\n",
       "    </tr>\n",
       "    <tr>\n",
       "      <th>2</th>\n",
       "      <td>2500.0</td>\n",
       "      <td>2500.0</td>\n",
       "      <td>2500.0</td>\n",
       "      <td>2500.0</td>\n",
       "      <td>2500.0</td>\n",
       "      <td>2500.0</td>\n",
       "      <td>0.2</td>\n",
       "      <td>0.2</td>\n",
       "      <td>0.2</td>\n",
       "      <td>0.2</td>\n",
       "      <td>0.6</td>\n",
       "      <td>0.000089</td>\n",
       "    </tr>\n",
       "    <tr>\n",
       "      <th>3</th>\n",
       "      <td>2500.0</td>\n",
       "      <td>2500.0</td>\n",
       "      <td>2500.0</td>\n",
       "      <td>2500.0</td>\n",
       "      <td>2500.0</td>\n",
       "      <td>2500.0</td>\n",
       "      <td>0.2</td>\n",
       "      <td>0.2</td>\n",
       "      <td>0.2</td>\n",
       "      <td>0.2</td>\n",
       "      <td>0.8</td>\n",
       "      <td>0.000090</td>\n",
       "    </tr>\n",
       "    <tr>\n",
       "      <th>4</th>\n",
       "      <td>2500.0</td>\n",
       "      <td>2500.0</td>\n",
       "      <td>2500.0</td>\n",
       "      <td>2500.0</td>\n",
       "      <td>2500.0</td>\n",
       "      <td>2500.0</td>\n",
       "      <td>0.2</td>\n",
       "      <td>0.2</td>\n",
       "      <td>0.2</td>\n",
       "      <td>0.2</td>\n",
       "      <td>1.0</td>\n",
       "      <td>0.000090</td>\n",
       "    </tr>\n",
       "    <tr>\n",
       "      <th>...</th>\n",
       "      <td>...</td>\n",
       "      <td>...</td>\n",
       "      <td>...</td>\n",
       "      <td>...</td>\n",
       "      <td>...</td>\n",
       "      <td>...</td>\n",
       "      <td>...</td>\n",
       "      <td>...</td>\n",
       "      <td>...</td>\n",
       "      <td>...</td>\n",
       "      <td>...</td>\n",
       "      <td>...</td>\n",
       "    </tr>\n",
       "    <tr>\n",
       "      <th>524283</th>\n",
       "      <td>2500.0</td>\n",
       "      <td>2500.0</td>\n",
       "      <td>7500.0</td>\n",
       "      <td>7500.0</td>\n",
       "      <td>5000.0</td>\n",
       "      <td>10000.0</td>\n",
       "      <td>0.8</td>\n",
       "      <td>1.0</td>\n",
       "      <td>0.4</td>\n",
       "      <td>0.4</td>\n",
       "      <td>0.8</td>\n",
       "      <td>0.000087</td>\n",
       "    </tr>\n",
       "    <tr>\n",
       "      <th>524284</th>\n",
       "      <td>2500.0</td>\n",
       "      <td>2500.0</td>\n",
       "      <td>7500.0</td>\n",
       "      <td>7500.0</td>\n",
       "      <td>5000.0</td>\n",
       "      <td>10000.0</td>\n",
       "      <td>0.8</td>\n",
       "      <td>1.0</td>\n",
       "      <td>0.4</td>\n",
       "      <td>0.4</td>\n",
       "      <td>1.0</td>\n",
       "      <td>0.000087</td>\n",
       "    </tr>\n",
       "    <tr>\n",
       "      <th>524285</th>\n",
       "      <td>2500.0</td>\n",
       "      <td>2500.0</td>\n",
       "      <td>7500.0</td>\n",
       "      <td>7500.0</td>\n",
       "      <td>5000.0</td>\n",
       "      <td>10000.0</td>\n",
       "      <td>0.8</td>\n",
       "      <td>1.0</td>\n",
       "      <td>0.4</td>\n",
       "      <td>0.6</td>\n",
       "      <td>0.2</td>\n",
       "      <td>0.000087</td>\n",
       "    </tr>\n",
       "    <tr>\n",
       "      <th>524286</th>\n",
       "      <td>2500.0</td>\n",
       "      <td>2500.0</td>\n",
       "      <td>7500.0</td>\n",
       "      <td>7500.0</td>\n",
       "      <td>5000.0</td>\n",
       "      <td>10000.0</td>\n",
       "      <td>0.8</td>\n",
       "      <td>1.0</td>\n",
       "      <td>0.4</td>\n",
       "      <td>0.6</td>\n",
       "      <td>0.4</td>\n",
       "      <td>0.000087</td>\n",
       "    </tr>\n",
       "    <tr>\n",
       "      <th>524287</th>\n",
       "      <td>2500.0</td>\n",
       "      <td>2500.0</td>\n",
       "      <td>7500.0</td>\n",
       "      <td>7500.0</td>\n",
       "      <td>5000.0</td>\n",
       "      <td>10000.0</td>\n",
       "      <td>0.8</td>\n",
       "      <td>1.0</td>\n",
       "      <td>0.4</td>\n",
       "      <td>0.6</td>\n",
       "      <td>0.6</td>\n",
       "      <td>0.000087</td>\n",
       "    </tr>\n",
       "  </tbody>\n",
       "</table>\n",
       "<p>524288 rows × 12 columns</p>\n",
       "</div>"
      ],
      "text/plain": [
       "            T0      T1      T2      T3    TVO2     TVCO   x1   x2   x3   x4  \\\n",
       "0       2500.0  2500.0  2500.0  2500.0  2500.0   2500.0  0.2  0.2  0.2  0.2   \n",
       "1       2500.0  2500.0  2500.0  2500.0  2500.0   2500.0  0.2  0.2  0.2  0.2   \n",
       "2       2500.0  2500.0  2500.0  2500.0  2500.0   2500.0  0.2  0.2  0.2  0.2   \n",
       "3       2500.0  2500.0  2500.0  2500.0  2500.0   2500.0  0.2  0.2  0.2  0.2   \n",
       "4       2500.0  2500.0  2500.0  2500.0  2500.0   2500.0  0.2  0.2  0.2  0.2   \n",
       "...        ...     ...     ...     ...     ...      ...  ...  ...  ...  ...   \n",
       "524283  2500.0  2500.0  7500.0  7500.0  5000.0  10000.0  0.8  1.0  0.4  0.4   \n",
       "524284  2500.0  2500.0  7500.0  7500.0  5000.0  10000.0  0.8  1.0  0.4  0.4   \n",
       "524285  2500.0  2500.0  7500.0  7500.0  5000.0  10000.0  0.8  1.0  0.4  0.6   \n",
       "524286  2500.0  2500.0  7500.0  7500.0  5000.0  10000.0  0.8  1.0  0.4  0.6   \n",
       "524287  2500.0  2500.0  7500.0  7500.0  5000.0  10000.0  0.8  1.0  0.4  0.6   \n",
       "\n",
       "         x5      visc  \n",
       "0       0.2  0.000087  \n",
       "1       0.4  0.000088  \n",
       "2       0.6  0.000089  \n",
       "3       0.8  0.000090  \n",
       "4       1.0  0.000090  \n",
       "...     ...       ...  \n",
       "524283  0.8  0.000087  \n",
       "524284  1.0  0.000087  \n",
       "524285  0.2  0.000087  \n",
       "524286  0.4  0.000087  \n",
       "524287  0.6  0.000087  \n",
       "\n",
       "[524288 rows x 12 columns]"
      ]
     },
     "execution_count": 15,
     "metadata": {},
     "output_type": "execute_result"
    }
   ],
   "source": [
    "df\n"
   ]
  },
  {
   "cell_type": "markdown",
   "id": "8e08a7b7",
   "metadata": {},
   "source": [
    "Examination"
   ]
  },
  {
   "cell_type": "code",
   "execution_count": null,
   "id": "e818cffd",
   "metadata": {},
   "outputs": [],
   "source": []
  },
  {
   "cell_type": "code",
   "execution_count": null,
   "id": "89e61381",
   "metadata": {},
   "outputs": [],
   "source": [
    "plt.scatter(x_test_dim[:,1],  y_test_dim[:], s=2, c='k', marker='o', label='Fortran')\n",
    "plt.scatter(x_test_dim[:,1],  y_regr_dim[:], s=2, c='g', marker='+', label='ExtraTrees')\n"
   ]
  },
  {
   "cell_type": "code",
   "execution_count": 47,
   "id": "f47b0ab2",
   "metadata": {},
   "outputs": [
    {
     "data": {
      "image/png": "[encoded data removed]",
      "text/plain": [
       "<Figure size 432x288 with 1 Axes>"
      ]
     },
     "metadata": {
      "needs_background": "light"
     },
     "output_type": "display_data"
    }
   ],
   "source": [
    "\n",
    "plt.plot( d1,d2 )\n",
    "plt.ylabel('hfhf')\n",
    "plt.show()"
   ]
  },
  {
   "cell_type": "code",
   "execution_count": 46,
   "id": "be290585",
   "metadata": {},
   "outputs": [],
   "source": [
    "d1 = df.iloc[:,1 :2]\n",
    "d2 = df.iloc[:, 11:]"
   ]
  },
  {
   "cell_type": "code",
   "execution_count": 44,
   "id": "5700fa83",
   "metadata": {},
   "outputs": [
    {
     "data": {
      "text/html": [
       "<div>\n",
       "<style scoped>\n",
       "    .dataframe tbody tr th:only-of-type {\n",
       "        vertical-align: middle;\n",
       "    }\n",
       "\n",
       "    .dataframe tbody tr th {\n",
       "        vertical-align: top;\n",
       "    }\n",
       "\n",
       "    .dataframe thead th {\n",
       "        text-align: right;\n",
       "    }\n",
       "</style>\n",
       "<table border=\"1\" class=\"dataframe\">\n",
       "  <thead>\n",
       "    <tr style=\"text-align: right;\">\n",
       "      <th></th>\n",
       "      <th>T0</th>\n",
       "    </tr>\n",
       "  </thead>\n",
       "  <tbody>\n",
       "    <tr>\n",
       "      <th>0</th>\n",
       "      <td>2500.0</td>\n",
       "    </tr>\n",
       "    <tr>\n",
       "      <th>1</th>\n",
       "      <td>2500.0</td>\n",
       "    </tr>\n",
       "    <tr>\n",
       "      <th>2</th>\n",
       "      <td>2500.0</td>\n",
       "    </tr>\n",
       "    <tr>\n",
       "      <th>3</th>\n",
       "      <td>2500.0</td>\n",
       "    </tr>\n",
       "    <tr>\n",
       "      <th>4</th>\n",
       "      <td>2500.0</td>\n",
       "    </tr>\n",
       "    <tr>\n",
       "      <th>...</th>\n",
       "      <td>...</td>\n",
       "    </tr>\n",
       "    <tr>\n",
       "      <th>524283</th>\n",
       "      <td>2500.0</td>\n",
       "    </tr>\n",
       "    <tr>\n",
       "      <th>524284</th>\n",
       "      <td>2500.0</td>\n",
       "    </tr>\n",
       "    <tr>\n",
       "      <th>524285</th>\n",
       "      <td>2500.0</td>\n",
       "    </tr>\n",
       "    <tr>\n",
       "      <th>524286</th>\n",
       "      <td>2500.0</td>\n",
       "    </tr>\n",
       "    <tr>\n",
       "      <th>524287</th>\n",
       "      <td>2500.0</td>\n",
       "    </tr>\n",
       "  </tbody>\n",
       "</table>\n",
       "<p>524288 rows × 1 columns</p>\n",
       "</div>"
      ],
      "text/plain": [
       "            T0\n",
       "0       2500.0\n",
       "1       2500.0\n",
       "2       2500.0\n",
       "3       2500.0\n",
       "4       2500.0\n",
       "...        ...\n",
       "524283  2500.0\n",
       "524284  2500.0\n",
       "524285  2500.0\n",
       "524286  2500.0\n",
       "524287  2500.0\n",
       "\n",
       "[524288 rows x 1 columns]"
      ]
     },
     "execution_count": 44,
     "metadata": {},
     "output_type": "execute_result"
    }
   ],
   "source": []
  },
  {
   "cell_type": "markdown",
   "id": "118d7c4a",
   "metadata": {},
   "source": [
    "Lasso\n"
   ]
  },
  {
   "cell_type": "code",
   "execution_count": null,
   "id": "fc390506",
   "metadata": {},
   "outputs": [],
   "source": []
  },
  {
   "cell_type": "code",
   "execution_count": 16,
   "id": "b1afb3e6",
   "metadata": {},
   "outputs": [],
   "source": [
    "X = df.iloc[:, :11].values \n",
    "y = df.iloc[:,11:].values  "
   ]
  },
  {
   "cell_type": "code",
   "execution_count": 17,
   "id": "6d48ecff",
   "metadata": {},
   "outputs": [
    {
     "data": {
      "text/plain": [
       "(524288, 11)"
      ]
     },
     "execution_count": 17,
     "metadata": {},
     "output_type": "execute_result"
    }
   ],
   "source": [
    "X.shape"
   ]
  },
  {
   "cell_type": "code",
   "execution_count": 18,
   "id": "897e6b1f",
   "metadata": {},
   "outputs": [
    {
     "data": {
      "text/plain": [
       "(524288, 1)"
      ]
     },
     "execution_count": 18,
     "metadata": {},
     "output_type": "execute_result"
    }
   ],
   "source": [
    "y.shape"
   ]
  },
  {
   "cell_type": "code",
   "execution_count": 20,
   "id": "356bae23",
   "metadata": {},
   "outputs": [],
   "source": [
    "clm=[\"T0\",\"T1\", \"T2\", \"T3\",\"TVO2\",\"TVCO\",\"x1\",\"x2\",\"x3\",\"x4\",\"x5\"]"
   ]
  },
  {
   "cell_type": "code",
   "execution_count": 19,
   "id": "922e1e6d",
   "metadata": {},
   "outputs": [],
   "source": [
    "feature_names = [f\"feature {i}\" for i in range(X.shape[1])]\n",
    "\n",
    "lasso = LassoCV().fit(X, y.ravel())\n",
    "\n",
    "importance = np.abs(lasso.coef_)"
   ]
  },
  {
   "cell_type": "code",
   "execution_count": 26,
   "id": "dcdf5a2b",
   "metadata": {},
   "outputs": [
    {
     "data": {
      "text/plain": [
       "array([ 0.0000000e+00,  0.0000000e+00, -1.4210638e-13, -5.9237059e-14,\n",
       "        1.5358374e-14, -7.8668260e-14, -4.4223925e-06,  7.4304785e-07,\n",
       "       -3.9958400e-06,  5.1862903e-06,  2.1442008e-06], dtype=float32)"
      ]
     },
     "execution_count": 26,
     "metadata": {},
     "output_type": "execute_result"
    }
   ],
   "source": [
    "\n",
    "lasso.coef_\n"
   ]
  },
  {
   "cell_type": "markdown",
   "id": "f300ed94",
   "metadata": {},
   "source": []
  },
  {
   "cell_type": "code",
   "execution_count": 21,
   "id": "49a411e1",
   "metadata": {
    "scrolled": true
   },
   "outputs": [
    {
     "data": {
      "image/png": "[encoded data removed]",
      "text/plain": [
       "<Figure size 432x288 with 1 Axes>"
      ]
     },
     "metadata": {
      "needs_background": "light"
     },
     "output_type": "display_data"
    },
    {
     "name": "stdout",
     "output_type": "stream",
     "text": [
      "[0.0000000e+00 0.0000000e+00 1.4210638e-13 5.9237059e-14 1.5358374e-14\n",
      " 7.8668260e-14 4.4223925e-06 7.4304785e-07 3.9958400e-06 5.1862903e-06\n",
      " 2.1442008e-06]\n"
     ]
    }
   ],
   "source": [
    "plt.bar(height=importance, x=clm)\n",
    "plt.title(\"Feature importances via coefficients\")\n",
    "plt.show()\n",
    "print(importance)"
   ]
  },
  {
   "cell_type": "code",
   "execution_count": 97,
   "id": "cfbf4f2e",
   "metadata": {},
   "outputs": [],
   "source": [
    "l=[0.0000000e+00, 0.0000000e+00, 1.4210638e-13, 5.9237059e-14, 1.5358374e-14,\n",
    " 7.8668260e-14, 4.4223925e-06, 7.4304785e-07, 3.9958400e-06, 5.1862903e-06,\n",
    " 2.1442008e-06]"
   ]
  },
  {
   "cell_type": "code",
   "execution_count": 98,
   "id": "ca6a2558",
   "metadata": {},
   "outputs": [
    {
     "name": "stdout",
     "output_type": "stream",
     "text": [
      "           Lasso\n",
      "0   0.000000e+00\n",
      "1   0.000000e+00\n",
      "2   1.421064e-13\n",
      "3   5.923706e-14\n",
      "4   1.535837e-14\n",
      "5   7.866826e-14\n",
      "6   4.422392e-06\n",
      "7   7.430478e-07\n",
      "8   3.995840e-06\n",
      "9   5.186290e-06\n",
      "10  2.144201e-06\n"
     ]
    }
   ],
   "source": [
    "df_l=pd.DataFrame(l, columns=['Lasso'])\n",
    "print(df_l)"
   ]
  },
  {
   "cell_type": "code",
   "execution_count": 99,
   "id": "93b097e2",
   "metadata": {},
   "outputs": [],
   "source": [
    "Lasso_l= df_l.loc[:].reset_index()\n",
    "Lasso_l.to_csv('Lasso_shear.csv', index=False)"
   ]
  },
  {
   "cell_type": "code",
   "execution_count": 35,
   "id": "6746ef28",
   "metadata": {},
   "outputs": [
    {
     "name": "stdout",
     "output_type": "stream",
     "text": [
      "Done in 1.759s\n"
     ]
    }
   ],
   "source": [
    "threshold = np.sort(importance)[-3] + .01 # check/modify these values\n",
    "\n",
    "tic = time()\n",
    "sfm = SelectFromModel(estimator=lasso, threshold=threshold).fit(X, y.ravel())\n",
    "toc = time()\n",
    "#print(f\"Features selected by SelectFromModel: {feature_names[sfm.get_support()]}\")\n",
    "print(f\"Done in {toc - tic:.3f}s\")"
   ]
  },
  {
   "cell_type": "code",
   "execution_count": 32,
   "id": "9e03f591",
   "metadata": {},
   "outputs": [
    {
     "name": "stdout",
     "output_type": "stream",
     "text": [
      "[ 0.0000000e+00  0.0000000e+00 -1.4210638e-13 -5.9237059e-14\n",
      "  1.5358374e-14 -7.8668260e-14 -4.4223925e-06  7.4304785e-07\n",
      " -3.9958400e-06  5.1862903e-06  2.1442008e-06]\n",
      "0.010003995839961135\n",
      "<bound method SelectorMixin.get_support of SelectFromModel(estimator=LassoCV(), threshold=0.010003995839961135)>\n",
      "[]\n"
     ]
    },
    {
     "name": "stderr",
     "output_type": "stream",
     "text": [
      "c:\\users\\user\\appdata\\local\\programs\\python\\python39\\lib\\site-packages\\sklearn\\feature_selection\\_base.py:90: UserWarning: No features were selected: either the data is too noisy or the selection test too strict.\n",
      "  warn(\"No features were selected: either the data is\"\n"
     ]
    }
   ],
   "source": [
    "print(sfm.estimator_.coef_)\n",
    "print(sfm.threshold_)\n",
    "print(sfm.get_support)\n",
    "print(sfm.transform(X))"
   ]
  },
  {
   "cell_type": "markdown",
   "id": "b36b1cbf",
   "metadata": {},
   "source": [
    "RF \n",
    "\n"
   ]
  },
  {
   "cell_type": "code",
   "execution_count": 36,
   "id": "36a409f2",
   "metadata": {},
   "outputs": [
    {
     "name": "stdout",
     "output_type": "stream",
     "text": [
      "            T0      T1      T2      T3    TVO2     TVCO   x1   x2   x3   x4  \\\n",
      "0       2500.0  2500.0  2500.0  2500.0  2500.0   2500.0  0.2  0.2  0.2  0.2   \n",
      "1       2500.0  2500.0  2500.0  2500.0  2500.0   2500.0  0.2  0.2  0.2  0.2   \n",
      "2       2500.0  2500.0  2500.0  2500.0  2500.0   2500.0  0.2  0.2  0.2  0.2   \n",
      "3       2500.0  2500.0  2500.0  2500.0  2500.0   2500.0  0.2  0.2  0.2  0.2   \n",
      "4       2500.0  2500.0  2500.0  2500.0  2500.0   2500.0  0.2  0.2  0.2  0.2   \n",
      "...        ...     ...     ...     ...     ...      ...  ...  ...  ...  ...   \n",
      "524283  2500.0  2500.0  7500.0  7500.0  5000.0  10000.0  0.8  1.0  0.4  0.4   \n",
      "524284  2500.0  2500.0  7500.0  7500.0  5000.0  10000.0  0.8  1.0  0.4  0.4   \n",
      "524285  2500.0  2500.0  7500.0  7500.0  5000.0  10000.0  0.8  1.0  0.4  0.6   \n",
      "524286  2500.0  2500.0  7500.0  7500.0  5000.0  10000.0  0.8  1.0  0.4  0.6   \n",
      "524287  2500.0  2500.0  7500.0  7500.0  5000.0  10000.0  0.8  1.0  0.4  0.6   \n",
      "\n",
      "         x5  \n",
      "0       0.2  \n",
      "1       0.4  \n",
      "2       0.6  \n",
      "3       0.8  \n",
      "4       1.0  \n",
      "...     ...  \n",
      "524283  0.8  \n",
      "524284  1.0  \n",
      "524285  0.2  \n",
      "524286  0.4  \n",
      "524287  0.6  \n",
      "\n",
      "[524288 rows x 11 columns]\n",
      "            visc\n",
      "0       0.000087\n",
      "1       0.000088\n",
      "2       0.000089\n",
      "3       0.000090\n",
      "4       0.000090\n",
      "...          ...\n",
      "524283  0.000087\n",
      "524284  0.000087\n",
      "524285  0.000087\n",
      "524286  0.000087\n",
      "524287  0.000087\n",
      "\n",
      "[524288 rows x 1 columns]\n",
      "x= (524288, 11)\n",
      "y= (524288, 1)\n",
      "x= (393216, 11)\n",
      "y= (393216, 1)\n"
     ]
    }
   ],
   "source": [
    "n_jobs = 2\n",
    "\n",
    "xB = df.iloc[:, :11] # P, T, x_ci[mol+at]\n",
    "yB = df.iloc[:,11:]  # shear viscosity\n",
    "print(xB)\n",
    "print(yB)\n",
    "print(\"x=\",xB.shape)\n",
    "print(\"y=\",yB.shape)\n",
    "\n",
    "\n",
    "x_train, x_test, y_train, y_test = train_test_split(xB, yB, train_size=0.75, test_size=0.25, random_state=69)\n",
    "\n",
    "print(\"x=\",x_train.shape)\n",
    "print(\"y=\",y_train.shape)\n",
    "\n",
    " \n"
   ]
  },
  {
   "cell_type": "code",
   "execution_count": 37,
   "id": "177b5873",
   "metadata": {},
   "outputs": [],
   "source": [
    "sc_x = StandardScaler()\n",
    "sc_y = StandardScaler()\n",
    "\n",
    "# fit scaler\n",
    "sc_x.fit(x_train)\n",
    "\n",
    "# transform training dataset\n",
    "x_train = sc_x.transform(x_train)\n",
    "\n",
    "# transform test dataset\n",
    "x_test = sc_x.transform(x_test)\n",
    "\n",
    "# fit scaler on training dataset\n",
    "sc_y.fit(y_train)\n",
    "\n",
    "# transform training dataset\n",
    "y_train = sc_y.transform(y_train)\n",
    "\n",
    "# transform test dataset\n",
    "y_test = sc_y.transform(y_test)"
   ]
  },
  {
   "cell_type": "code",
   "execution_count": 38,
   "id": "e61e21ff",
   "metadata": {},
   "outputs": [],
   "source": [
    "dump(sc_x, open('scaler_x_shear.pkl', 'wb'))\n",
    "dump(sc_y, open('scaler_y_shear.pkl', 'wb'))"
   ]
  },
  {
   "cell_type": "code",
   "execution_count": 39,
   "id": "3ca49663",
   "metadata": {},
   "outputs": [
    {
     "name": "stdout",
     "output_type": "stream",
     "text": [
      "Training Features Shape: (393216, 11)\n",
      "Training Labels Shape: (393216, 1)\n",
      "Testing Features Shape: (131072, 11)\n",
      "Testing Labels Shape: (131072, 1)\n"
     ]
    }
   ],
   "source": [
    "print('Training Features Shape:', x_train.shape)\n",
    "print('Training Labels Shape:', y_train.shape)\n",
    "print('Testing Features Shape:', x_test.shape)\n",
    "print('Testing Labels Shape:', y_test.shape)\n"
   ]
  },
  {
   "cell_type": "code",
   "execution_count": 40,
   "id": "1ee4a382",
   "metadata": {},
   "outputs": [],
   "source": [
    "hyper_params = [{\n",
    "#                 'n_estimators': (1, 50, 100,),\n",
    "#                 'min_weight_fraction_leaf': (0.0, 0.25, 0.5,),\n",
    "#                 'max_features': ('auto',),\n",
    "#                 'max_features': ('sqrt', 'log2', 'auto',),\n",
    "#                 'bootstrap': (True, False,),\n",
    "#                 'oob_score': (True, False,),\n",
    "#                 'warm_start': (True, False,),\n",
    "#                 'criterion': ('mse', 'mae',),\n",
    "#                 'max_depth': (1, 10, 100, None,),\n",
    "#                 'max_leaf_nodes': (2, 100,),\n",
    "#                 'min_samples_split': (2, 5, 10,),\n",
    "#                 'min_impurity_decrease': (0.1, 0.2, 0.3, 0.5,),\n",
    "#                 'min_samples_leaf': (1, 10, 100,),\n",
    "}]"
   ]
  },
  {
   "cell_type": "code",
   "execution_count": 41,
   "id": "580c9d5e",
   "metadata": {},
   "outputs": [],
   "source": [
    "est=ensemble.RandomForestRegressor()\n",
    "gs = GridSearchCV(est, cv=2, param_grid=hyper_params, verbose=2, n_jobs=n_jobs, scoring='r2')\n",
    "#gs = est "
   ]
  },
  {
   "cell_type": "code",
   "execution_count": 52,
   "id": "edb7ddf5",
   "metadata": {},
   "outputs": [
    {
     "name": "stdout",
     "output_type": "stream",
     "text": [
      "Fitting 2 folds for each of 1 candidates, totalling 2 fits\n",
      "Complexity and bandwidth selected and model fitted in 111.549291 s\n"
     ]
    }
   ],
   "source": [
    "t0 = time.time()\n",
    "gs.fit(x_train, y_train.ravel())\n",
    "#gs.fit(x_train, y_train)\n",
    "runtime = time.time() - t0\n",
    "print(\"Complexity and bandwidth selected and model fitted in %.6f s\" % runtime)\n"
   ]
  },
  {
   "cell_type": "code",
   "execution_count": 53,
   "id": "cffc95c7",
   "metadata": {},
   "outputs": [
    {
     "name": "stdout",
     "output_type": "stream",
     "text": [
      "\n",
      "The model performance for training set\n",
      "--------------------------------------\n",
      "MAE is 4.6361451812196125e-14\n",
      "MSE is 4.6975053406554765e-27\n",
      "EVS is 0.9999999999999992\n",
      "R2 score is 0.9999999999999992\n",
      "\n",
      "The model performance for testing set\n",
      "--------------------------------------\n",
      "MAE is 4.6346408349509446e-14\n",
      "MSE is 4.6899034645763025e-27\n",
      "EVS is 0.9999999999999992\n",
      "R2 score is 0.9999999999999992\n",
      "\n",
      "Best parameters set found on development set:\n",
      "{}\n",
      "\n"
     ]
    }
   ],
   "source": [
    "train_score_mse = mean_squared_error(      sc_y.inverse_transform(y_train), sc_y.inverse_transform(gs.predict(x_train)))\n",
    "train_score_mae = mean_absolute_error(     sc_y.inverse_transform(y_train), sc_y.inverse_transform(gs.predict(x_train)))\n",
    "train_score_evs = explained_variance_score(sc_y.inverse_transform(y_train), sc_y.inverse_transform(gs.predict(x_train)))\n",
    "#train_score_me = max_error(               sc_y.inverse_transform(y_train), sc_y.inverse_transform(gs.predict(x_train)))\n",
    "train_score_r2  = r2_score(                sc_y.inverse_transform(y_train), sc_y.inverse_transform(gs.predict(x_train)))\n",
    "\n",
    "test_score_mse  = mean_squared_error(      sc_y.inverse_transform(y_test),  sc_y.inverse_transform(gs.predict(x_test)))\n",
    "test_score_mae  = mean_absolute_error(     sc_y.inverse_transform(y_test),  sc_y.inverse_transform(gs.predict(x_test)))\n",
    "test_score_evs  = explained_variance_score(sc_y.inverse_transform(y_test),  sc_y.inverse_transform(gs.predict(x_test)))\n",
    "#test_score_me  = max_error(               sc_y.inverse_transform(y_test),  sc_y.inverse_transform(gs.predict(x_test)))\n",
    "test_score_r2   = r2_score(                sc_y.inverse_transform(y_test),  sc_y.inverse_transform(gs.predict(x_test)))\n",
    "\n",
    "print()\n",
    "print(\"The model performance for training set\")\n",
    "print(\"--------------------------------------\")\n",
    "print('MAE is {}'.format(train_score_mae))\n",
    "print('MSE is {}'.format(train_score_mse))\n",
    "print('EVS is {}'.format(train_score_evs))\n",
    "#print('ME is {}'.format(train_score_me))\n",
    "print('R2 score is {}'.format(train_score_r2))\n",
    "print()\n",
    "print(\"The model performance for testing set\")\n",
    "print(\"--------------------------------------\")\n",
    "print('MAE is {}'.format(test_score_mae))\n",
    "print('MSE is {}'.format(test_score_mse))\n",
    "print('EVS is {}'.format(test_score_evs))\n",
    "#print('ME is {}'.format(test_score_me))\n",
    "print('R2 score is {}'.format(test_score_r2))\n",
    "print()\n",
    "print(\"Best parameters set found on development set:\")\n",
    "print(gs.best_params_)\n",
    "print()\n"
   ]
  },
  {
   "cell_type": "code",
   "execution_count": 54,
   "id": "36682110",
   "metadata": {},
   "outputs": [
    {
     "name": "stdout",
     "output_type": "stream",
     "text": [
      "Complexity and bandwidth selected and model fitted in 70.974464 s\n"
     ]
    }
   ],
   "source": [
    "# Re-train with best parameters\n",
    "regr = ExtraTreesRegressor(**gs.best_params_)\n",
    "#regr = ExtraTreesRegressor()\n",
    "# Training\n",
    "##########\n",
    "t0 = time.time()\n",
    "regr.fit(x_train, y_train.ravel())\n",
    "#regr.fit(x_train, y_train)\n",
    "regr_fit = time.time() - t0\n",
    "print(\"Complexity and bandwidth selected and model fitted in %.6f s\" % regr_fit)\n"
   ]
  },
  {
   "cell_type": "code",
   "execution_count": 89,
   "id": "130bca68",
   "metadata": {},
   "outputs": [
    {
     "name": "stdout",
     "output_type": "stream",
     "text": [
      "Feature: 0, Score: 0.00000\n",
      "Feature: 1, Score: 0.00000\n",
      "Feature: 2, Score: 0.00000\n",
      "Feature: 3, Score: 0.00000\n",
      "Feature: 4, Score: 0.00000\n",
      "Feature: 5, Score: 0.00000\n",
      "Feature: 6, Score: 0.59972\n",
      "Feature: 7, Score: 0.04086\n",
      "Feature: 8, Score: 0.49667\n",
      "Feature: 9, Score: 0.78421\n",
      "Feature: 10, Score: 0.15038\n"
     ]
    }
   ],
   "source": [
    "# perform permutation importance\n",
    "################################\n",
    "# https://scikit-learn.org/stable/modules/permutation_importance.html#permutation-importance\n",
    "# https://scikit-learn.org/stable/auto_examples/cross_decomposition/plot_pcr_vs_pls.html#sphx-glr-auto-examples-cross-decomposition-plot-pcr-vs-pls-py\n",
    "results = permutation_importance(regr, x_train, y_train, scoring='neg_mean_squared_error')\n",
    "\n",
    "# get importance\n",
    "importance = results.importances_mean\n",
    "\n",
    "# summarize feature importance\n",
    "for i,v in enumerate(importance):\n",
    "    print('Feature: %0d, Score: %.5f' % (i,v))"
   ]
  },
  {
   "cell_type": "code",
   "execution_count": 94,
   "id": "cecef95e",
   "metadata": {},
   "outputs": [
    {
     "name": "stdout",
     "output_type": "stream",
     "text": [
      "        RF\n",
      "0  0.00000\n",
      "1  0.00000\n",
      "2  0.00000\n",
      "3  0.00000\n",
      "4  0.00000\n",
      "5  0.00000\n",
      "6  0.59972\n",
      "7  0.04086\n",
      "8  0.78421\n",
      "9  0.15038\n"
     ]
    }
   ],
   "source": [
    "list=[0.00000,0.00000,0.00000,0.00000,0.00000,0.00000,0.59972,0.04086,0.78421,0.15038]\n",
    "df_RF=pd.DataFrame(list, columns=['RF'])\n",
    "print(df_RF)"
   ]
  },
  {
   "cell_type": "code",
   "execution_count": 95,
   "id": "3414e2f1",
   "metadata": {},
   "outputs": [],
   "source": [
    "RFE_shear= df_RF.loc[:].reset_index()\n",
    "RFE_shear.to_csv('RFE_shear.csv', index=False)"
   ]
  },
  {
   "cell_type": "code",
   "execution_count": 90,
   "id": "98fe7261",
   "metadata": {},
   "outputs": [
    {
     "data": {
      "text/plain": [
       "array([0.        , 0.        , 0.        , 0.        , 0.        ,\n",
       "       0.        , 0.59971753, 0.04085888, 0.49666575, 0.78421451,\n",
       "       0.15037522])"
      ]
     },
     "execution_count": 90,
     "metadata": {},
     "output_type": "execute_result"
    }
   ],
   "source": [
    "importance"
   ]
  },
  {
   "cell_type": "code",
   "execution_count": 91,
   "id": "5e7d6864",
   "metadata": {},
   "outputs": [
    {
     "data": {
      "image/png": "[encoded data removed]",
      "text/plain": [
       "<Figure size 432x288 with 1 Axes>"
      ]
     },
     "metadata": {
      "needs_background": "light"
     },
     "output_type": "display_data"
    }
   ],
   "source": [
    "# plot feature importance\n",
    "plt.bar([x for x in range(len(importance))], importance)\n",
    "plt.ylabel('Mean accuracy decrease')\n",
    "plt.xlabel('Feature importances')\n",
    "plt.savefig(\"C:/Users/user/Feature_Selection/data/MT/shear_importance_new.pdf\", dpi=150)\n",
    "plt.show()\n",
    "plt.close()"
   ]
  },
  {
   "cell_type": "code",
   "execution_count": null,
   "id": "749f3461",
   "metadata": {},
   "outputs": [],
   "source": [
    "\n"
   ]
  },
  {
   "cell_type": "code",
   "execution_count": 92,
   "id": "c52682a7",
   "metadata": {},
   "outputs": [
    {
     "name": "stdout",
     "output_type": "stream",
     "text": [
      "importances_mea =  [0.         0.         0.         0.         0.         0.\n",
      " 0.59971753 0.04085888 0.49666575 0.78421451 0.15037522]\n",
      "importances_std =  [0.00000000e+00 0.00000000e+00 0.00000000e+00 0.00000000e+00\n",
      " 0.00000000e+00 0.00000000e+00 1.70044296e-03 8.08859589e-05\n",
      " 9.31934145e-04 9.96326621e-04 1.78353204e-04]\n"
     ]
    }
   ],
   "source": [
    "print(\"importances_mea = \", results.importances_mean)\n",
    "print(\"importances_std = \", results.importances_std)"
   ]
  },
  {
   "cell_type": "code",
   "execution_count": 57,
   "id": "9d583409",
   "metadata": {},
   "outputs": [
    {
     "name": "stdout",
     "output_type": "stream",
     "text": [
      "Eigenvalues:\n",
      "[6.9608081e+02 6.3128101e+02 6.2809937e+02 6.2773956e+02 6.2744598e+02\n",
      " 6.2685126e+02 6.2653430e+02 6.2572437e+02 5.4463477e+02 3.5987588e-05\n",
      " 0.0000000e+00]\n",
      "\n",
      "Variances (Percentage):\n",
      "[1.36913292e+01 1.12608648e+01 1.11476415e+01 1.11348738e+01\n",
      " 1.11244611e+01 1.11033822e+01 1.10921562e+01 1.10634966e+01\n",
      " 8.38179456e+00 3.65958464e-14 0.00000000e+00]\n",
      "\n"
     ]
    }
   ],
   "source": [
    "# Principal Component Analysis (PCA)\n",
    "####################################\n",
    "# https://scikit-learn.org/stable/auto_examples/preprocessing/plot_scaling_importance.html#sphx-glr-auto-examples-preprocessing-plot-scaling-importance-py\n",
    "#pca = PCA(n_components=2, svd_solver='full')\n",
    "# pca = PCA(n_components=2, svd_solver='arpack')\n",
    "pca = PCA(n_components=None)\n",
    "pca.fit(x_train)\n",
    "\n",
    "# Get the eigenvalues\n",
    "print(\"Eigenvalues:\")\n",
    "print(pca.singular_values_)\n",
    "print()\n",
    "\n",
    "# Get explained variances\n",
    "print(\"Variances (Percentage):\")\n",
    "print(pca.explained_variance_ratio_ * 100)\n",
    "print()"
   ]
  },
  {
   "cell_type": "code",
   "execution_count": 58,
   "id": "288e3bb9",
   "metadata": {},
   "outputs": [
    {
     "data": {
      "image/png": "[encoded data removed]",
      "text/plain": [
       "<Figure size 432x288 with 1 Axes>"
      ]
     },
     "metadata": {
      "needs_background": "light"
     },
     "output_type": "display_data"
    }
   ],
   "source": [
    "# Make the scree plot\n",
    "plt.plot(np.cumsum(pca.explained_variance_ratio_ * 100))\n",
    "plt.xlabel(\"Number of components (Dimensions)\")\n",
    "plt.ylabel(\"Explained variance (%)\")\n",
    "plt.savefig(\"C:/Users/user/Feature_Selection/data/MT/shear_pca_new.pdf\", dpi=150)\n",
    "plt.show()\n",
    "plt.close()"
   ]
  },
  {
   "cell_type": "code",
   "execution_count": 59,
   "id": "f0a5a1cb",
   "metadata": {},
   "outputs": [
    {
     "name": "stdout",
     "output_type": "stream",
     "text": [
      "Prediction for 131072 inputs in 1.683016 s\n"
     ]
    }
   ],
   "source": [
    "t0 = time.time()\n",
    "y_regr = regr.predict(x_test)\n",
    "regr_predict = time.time() - t0\n",
    "print(\"Prediction for %d inputs in %.6f s\" % (x_test.shape[0], regr_predict))\n"
   ]
  },
  {
   "cell_type": "code",
   "execution_count": 60,
   "id": "5c0f7a09",
   "metadata": {},
   "outputs": [],
   "source": [
    "x_test_dim = sc_x.inverse_transform(x_test)\n",
    "y_test_dim = sc_y.inverse_transform(y_test)\n",
    "y_regr_dim = sc_y.inverse_transform(y_regr)"
   ]
  },
  {
   "cell_type": "code",
   "execution_count": 61,
   "id": "c159760d",
   "metadata": {
    "scrolled": true
   },
   "outputs": [
    {
     "data": {
      "text/plain": [
       "<matplotlib.collections.PathCollection at 0x1fd9b593b80>"
      ]
     },
     "execution_count": 61,
     "metadata": {},
     "output_type": "execute_result"
    },
    {
     "data": {
      "image/png": "[encoded data removed]",
      "text/plain": [
       "<Figure size 432x288 with 1 Axes>"
      ]
     },
     "metadata": {
      "needs_background": "light"
     },
     "output_type": "display_data"
    }
   ],
   "source": [
    "# temperature\n",
    "plt.scatter(x_test_dim[:,1],  y_test_dim[:], s=2, c='k', marker='o', label='Fortran')\n",
    "plt.scatter(x_test_dim[:,1],  y_regr_dim[:], s=2, c='g', marker='+', label='ExtraTrees')\n"
   ]
  },
  {
   "cell_type": "code",
   "execution_count": 62,
   "id": "bdaf931c",
   "metadata": {},
   "outputs": [
    {
     "data": {
      "image/png": "[encoded data removed]",
      "text/plain": [
       "<Figure size 432x288 with 1 Axes>"
      ]
     },
     "metadata": {
      "needs_background": "light"
     },
     "output_type": "display_data"
    }
   ],
   "source": [
    "# molar fractions\n",
    "plt.scatter(x_test_dim[:,10], y_test_dim[:], s=2, c='k', marker='o', label='Fortran')\n",
    "plt.scatter(x_test_dim[:,10], y_regr_dim[:], s=2, c='c', marker='+', label='ExtraTrees')\n",
    "# plt.scatter(x_test_dim[:,20], y_test_dim[:], s=2, c='y', marker='o', label='Fortran')\n",
    "# plt.scatter(x_test_dim[:,20], y_regr_dim[:], s=2, c='g', marker='+', label='ExtraTrees')\n",
    "# plt.scatter(x_test_dim[:,30], y_test_dim[:], s=2, c='k', marker='o', label='Fortran')\n",
    "# plt.scatter(x_test_dim[:,30], y_regr_dim[:], s=2, c='m', marker='+', label='ExtraTrees')\n",
    "plt.ylabel('shear viscosity [Pa·s]')\n",
    "plt.xlabel('T [K] ')  #molar fractions\n",
    "plt.legend()\n",
    "plt.tight_layout()\n",
    "plt.savefig(\"C:/Users/user/Feature_Selection/data/MT/shear_new.pdf\", dpi=150)\n",
    "plt.show()\n",
    "plt.close()"
   ]
  },
  {
   "cell_type": "markdown",
   "id": "752a6da0",
   "metadata": {},
   "source": [
    "L1"
   ]
  },
  {
   "cell_type": "code",
   "execution_count": 63,
   "id": "b50876c0",
   "metadata": {},
   "outputs": [],
   "source": [
    "X1 = df.iloc[:,0:11].values   \n",
    "y1 = df.iloc[:,11:].values "
   ]
  },
  {
   "cell_type": "code",
   "execution_count": 67,
   "id": "6d7221b9",
   "metadata": {},
   "outputs": [
    {
     "data": {
      "text/plain": [
       "(524288, 1)"
      ]
     },
     "execution_count": 67,
     "metadata": {},
     "output_type": "execute_result"
    }
   ],
   "source": [
    "y1.shape"
   ]
  },
  {
   "cell_type": "code",
   "execution_count": 65,
   "id": "b9f512fd",
   "metadata": {},
   "outputs": [],
   "source": [
    "feature_names =[\"T0\",\"T1\", \"T2\", \"T3\",\"TVO2\",\"TVCO\",\"x1\",\"x2\",\"x3\",\"x4\",\"x5\",\"visc\"]"
   ]
  },
  {
   "cell_type": "code",
   "execution_count": 66,
   "id": "20bd5e73",
   "metadata": {},
   "outputs": [],
   "source": [
    "list1 = list(feature_names)"
   ]
  },
  {
   "cell_type": "code",
   "execution_count": 68,
   "id": "b25345aa",
   "metadata": {},
   "outputs": [],
   "source": [
    "x1_train, x1_test, y1_train, y1_test = train_test_split(X1, y1, train_size=0.75, test_size=0.25, random_state=69)"
   ]
  },
  {
   "cell_type": "code",
   "execution_count": 69,
   "id": "845376e3",
   "metadata": {},
   "outputs": [
    {
     "name": "stdout",
     "output_type": "stream",
     "text": [
      "x= (393216, 11)\n",
      "y= (393216, 1)\n"
     ]
    }
   ],
   "source": [
    "print(\"x=\",x1_train.shape)\n",
    "print(\"y=\",y1_train.shape)"
   ]
  },
  {
   "cell_type": "code",
   "execution_count": 70,
   "id": "bd3fa633",
   "metadata": {},
   "outputs": [],
   "source": [
    "est = ExtraTreesRegressor(n_estimators=50)\n",
    "est = est.fit(x1_train,y1_train.ravel())"
   ]
  },
  {
   "cell_type": "code",
   "execution_count": 72,
   "id": "22f202eb",
   "metadata": {},
   "outputs": [
    {
     "name": "stdout",
     "output_type": "stream",
     "text": [
      "[0.00000000e+00 0.00000000e+00 2.48876039e-13 2.74777696e-13\n",
      " 2.59012305e-13 2.67386956e-13 2.85764777e-01 2.02996274e-02\n",
      " 2.40544822e-01 3.79509020e-01 7.38817543e-02]\n"
     ]
    }
   ],
   "source": [
    "print(est.feature_importances_)"
   ]
  },
  {
   "cell_type": "code",
   "execution_count": 73,
   "id": "f7249df7",
   "metadata": {},
   "outputs": [
    {
     "name": "stdout",
     "output_type": "stream",
     "text": [
      "(524288, 3)\n"
     ]
    }
   ],
   "source": [
    "model = SelectFromModel(est, prefit=True)\n",
    "X_new = model.transform(X1)\n",
    "print(X_new.shape)"
   ]
  },
  {
   "cell_type": "code",
   "execution_count": 71,
   "id": "d9f5dc44",
   "metadata": {},
   "outputs": [
    {
     "name": "stdout",
     "output_type": "stream",
     "text": [
      "Elapsed time to compute the importances: 0.012 seconds\n"
     ]
    }
   ],
   "source": [
    "start_time = time.time()\n",
    "importances = est.feature_importances_\n",
    "# Feature importance based on mean decrease in impurity\n",
    "std = np.std([tree.feature_importances_ for tree in est.estimators_], axis=0)\n",
    "elapsed_time = time.time() - start_time\n",
    "print(f\"Elapsed time to compute the importances: {elapsed_time:.3f} seconds\")"
   ]
  },
  {
   "cell_type": "code",
   "execution_count": 76,
   "id": "62251971",
   "metadata": {},
   "outputs": [],
   "source": [
    "v = list1[0:11:1]\n",
    "forest_importances = pd.Series(importances, index=v)"
   ]
  },
  {
   "cell_type": "code",
   "execution_count": 78,
   "id": "c75fe8ee",
   "metadata": {},
   "outputs": [
    {
     "data": {
      "text/html": [
       "<div>\n",
       "<style scoped>\n",
       "    .dataframe tbody tr th:only-of-type {\n",
       "        vertical-align: middle;\n",
       "    }\n",
       "\n",
       "    .dataframe tbody tr th {\n",
       "        vertical-align: top;\n",
       "    }\n",
       "\n",
       "    .dataframe thead th {\n",
       "        text-align: right;\n",
       "    }\n",
       "</style>\n",
       "<table border=\"1\" class=\"dataframe\">\n",
       "  <thead>\n",
       "    <tr style=\"text-align: right;\">\n",
       "      <th></th>\n",
       "      <th>SelectFromModel</th>\n",
       "    </tr>\n",
       "  </thead>\n",
       "  <tbody>\n",
       "    <tr>\n",
       "      <th>T0</th>\n",
       "      <td>0.000000e+00</td>\n",
       "    </tr>\n",
       "    <tr>\n",
       "      <th>T1</th>\n",
       "      <td>0.000000e+00</td>\n",
       "    </tr>\n",
       "    <tr>\n",
       "      <th>T2</th>\n",
       "      <td>2.488760e-13</td>\n",
       "    </tr>\n",
       "    <tr>\n",
       "      <th>T3</th>\n",
       "      <td>2.747777e-13</td>\n",
       "    </tr>\n",
       "    <tr>\n",
       "      <th>TVO2</th>\n",
       "      <td>2.590123e-13</td>\n",
       "    </tr>\n",
       "    <tr>\n",
       "      <th>TVCO</th>\n",
       "      <td>2.673870e-13</td>\n",
       "    </tr>\n",
       "    <tr>\n",
       "      <th>x1</th>\n",
       "      <td>2.857648e-01</td>\n",
       "    </tr>\n",
       "    <tr>\n",
       "      <th>x2</th>\n",
       "      <td>2.029963e-02</td>\n",
       "    </tr>\n",
       "    <tr>\n",
       "      <th>x3</th>\n",
       "      <td>2.405448e-01</td>\n",
       "    </tr>\n",
       "    <tr>\n",
       "      <th>x4</th>\n",
       "      <td>3.795090e-01</td>\n",
       "    </tr>\n",
       "    <tr>\n",
       "      <th>x5</th>\n",
       "      <td>7.388175e-02</td>\n",
       "    </tr>\n",
       "  </tbody>\n",
       "</table>\n",
       "</div>"
      ],
      "text/plain": [
       "      SelectFromModel\n",
       "T0       0.000000e+00\n",
       "T1       0.000000e+00\n",
       "T2       2.488760e-13\n",
       "T3       2.747777e-13\n",
       "TVO2     2.590123e-13\n",
       "TVCO     2.673870e-13\n",
       "x1       2.857648e-01\n",
       "x2       2.029963e-02\n",
       "x3       2.405448e-01\n",
       "x4       3.795090e-01\n",
       "x5       7.388175e-02"
      ]
     },
     "execution_count": 78,
     "metadata": {},
     "output_type": "execute_result"
    }
   ],
   "source": [
    "df3=pd.DataFrame(forest_importances, columns=['SelectFromModel'])\n",
    "df3"
   ]
  },
  {
   "cell_type": "code",
   "execution_count": 79,
   "id": "bb1e5a24",
   "metadata": {},
   "outputs": [],
   "source": [
    "SelectFromModel_N2N= df3.loc[:].reset_index()\n",
    "SelectFromModel_N2N.to_csv('SelectFromModel.csv', index=False)"
   ]
  },
  {
   "cell_type": "code",
   "execution_count": 80,
   "id": "25c6decb",
   "metadata": {},
   "outputs": [
    {
     "data": {
      "image/png": "[encoded data removed]",
      "text/plain": [
       "<Figure size 432x288 with 1 Axes>"
      ]
     },
     "metadata": {
      "needs_background": "light"
     },
     "output_type": "display_data"
    }
   ],
   "source": [
    "fig, ax = plt.subplots()\n",
    "forest_importances.plot.bar(yerr=std, ax=ax)\n",
    "ax.set_title(\"Feature importances using MDI\")\n",
    "ax.set_ylabel(\"Mean decrease in impurity\")\n",
    "fig.tight_layout()\n",
    "plt.show()"
   ]
  },
  {
   "cell_type": "code",
   "execution_count": 81,
   "id": "45b146fc",
   "metadata": {},
   "outputs": [
    {
     "data": {
      "text/plain": [
       "array([0.00000000e+00, 0.00000000e+00, 2.48876039e-13, 2.74777696e-13,\n",
       "       2.59012305e-13, 2.67386956e-13, 2.85764777e-01, 2.02996274e-02,\n",
       "       2.40544822e-01, 3.79509020e-01, 7.38817543e-02])"
      ]
     },
     "execution_count": 81,
     "metadata": {},
     "output_type": "execute_result"
    }
   ],
   "source": [
    "importances"
   ]
  },
  {
   "cell_type": "code",
   "execution_count": 82,
   "id": "38a40d0a",
   "metadata": {},
   "outputs": [
    {
     "name": "stdout",
     "output_type": "stream",
     "text": [
      "Elapsed time to compute the importances: 40.113 seconds\n"
     ]
    }
   ],
   "source": [
    "start_time = time.time()\n",
    "result = permutation_importance(\n",
    "    est, x_test, y_test, n_repeats=10, random_state=42, n_jobs=2\n",
    ")\n",
    "elapsed_time = time.time() - start_time\n",
    "print(f\"Elapsed time to compute the importances: {elapsed_time:.3f} seconds\")"
   ]
  },
  {
   "cell_type": "code",
   "execution_count": 83,
   "id": "9ecbf432",
   "metadata": {},
   "outputs": [],
   "source": [
    "forest_importances = pd.Series(result.importances_mean, index=v)"
   ]
  },
  {
   "cell_type": "code",
   "execution_count": 84,
   "id": "17ee446a",
   "metadata": {},
   "outputs": [
    {
     "data": {
      "image/png": "[encoded data removed]",
      "text/plain": [
       "<Figure size 432x288 with 1 Axes>"
      ]
     },
     "metadata": {
      "needs_background": "light"
     },
     "output_type": "display_data"
    }
   ],
   "source": [
    "fig, ax = plt.subplots()\n",
    "forest_importances.plot.bar(yerr=result.importances_std, ax=ax)\n",
    "ax.set_title(\"Feature importances using permutation on full model\")\n",
    "ax.set_ylabel(\"Mean accuracy decrease\")\n",
    "fig.tight_layout()\n",
    "plt.show()"
   ]
  },
  {
   "cell_type": "markdown",
   "id": "4f114e43",
   "metadata": {},
   "source": []
  }
 ],
 "metadata": {
  "kernelspec": {
   "display_name": "Python 3 (ipykernel)",
   "language": "python",
   "name": "python3"
  },
  "language_info": {
   "codemirror_mode": {
    "name": "ipython",
    "version": 3
   },
   "file_extension": ".py",
   "mimetype": "text/x-python",
   "name": "python",
   "nbconvert_exporter": "python",
   "pygments_lexer": "ipython3",
   "version": "3.9.2"
  }
 },
 "nbformat": 4,
 "nbformat_minor": 5
}
