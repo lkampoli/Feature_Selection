{
 "cells": [
  {
   "cell_type": "code",
   "execution_count": 1,
   "id": "cec2862f",
   "metadata": {},
   "outputs": [],
   "source": [
    "import matplotlib.pyplot as plt\n",
    "import numpy as np\n",
    "from sklearn.linear_model import LassoCV\n",
    "from sklearn.feature_selection import SelectFromModel\n",
    "import time\n",
    "from sklearn.ensemble import ExtraTreesRegressor\n",
    "import pandas as pd\n",
    "from sklearn.inspection import permutation_importance\n",
    "from sklearn.model_selection import train_test_split"
   ]
  },
  {
   "cell_type": "code",
   "execution_count": 2,
   "id": "2dd6f687",
   "metadata": {},
   "outputs": [
    {
     "data": {
      "text/html": [
       "<div>\n",
       "<style scoped>\n",
       "    .dataframe tbody tr th:only-of-type {\n",
       "        vertical-align: middle;\n",
       "    }\n",
       "\n",
       "    .dataframe tbody tr th {\n",
       "        vertical-align: top;\n",
       "    }\n",
       "\n",
       "    .dataframe thead th {\n",
       "        text-align: right;\n",
       "    }\n",
       "</style>\n",
       "<table border=\"1\" class=\"dataframe\">\n",
       "  <thead>\n",
       "    <tr style=\"text-align: right;\">\n",
       "      <th></th>\n",
       "      <th>x_s</th>\n",
       "      <th>time_s</th>\n",
       "      <th>Temp</th>\n",
       "      <th>X1</th>\n",
       "      <th>X2</th>\n",
       "      <th>X3</th>\n",
       "      <th>X4</th>\n",
       "      <th>X5</th>\n",
       "      <th>X6</th>\n",
       "      <th>X7</th>\n",
       "      <th>...</th>\n",
       "      <th>RVV38</th>\n",
       "      <th>RVV39</th>\n",
       "      <th>RVV40</th>\n",
       "      <th>RVV41</th>\n",
       "      <th>RVV42</th>\n",
       "      <th>RVV43</th>\n",
       "      <th>RVV44</th>\n",
       "      <th>RVV45</th>\n",
       "      <th>RVV46</th>\n",
       "      <th>RVV47</th>\n",
       "    </tr>\n",
       "  </thead>\n",
       "  <tbody>\n",
       "    <tr>\n",
       "      <th>0</th>\n",
       "      <td>0.000000</td>\n",
       "      <td>0.000000e+00</td>\n",
       "      <td>10757.166</td>\n",
       "      <td>0.999986</td>\n",
       "      <td>0.000014</td>\n",
       "      <td>2.397178e-10</td>\n",
       "      <td>4.558197e-15</td>\n",
       "      <td>9.939829e-20</td>\n",
       "      <td>2.485752e-24</td>\n",
       "      <td>7.129016e-29</td>\n",
       "      <td>...</td>\n",
       "      <td>-2.401320e-109</td>\n",
       "      <td>-5.311691e-112</td>\n",
       "      <td>-1.346084e-114</td>\n",
       "      <td>-3.908330e-117</td>\n",
       "      <td>-1.300201e-119</td>\n",
       "      <td>-4.956191e-122</td>\n",
       "      <td>-2.164807e-124</td>\n",
       "      <td>-1.083521e-126</td>\n",
       "      <td>-6.214598e-129</td>\n",
       "      <td>-4.115686e-131</td>\n",
       "    </tr>\n",
       "    <tr>\n",
       "      <th>1</th>\n",
       "      <td>0.000004</td>\n",
       "      <td>8.216688e-12</td>\n",
       "      <td>10757.146</td>\n",
       "      <td>0.999963</td>\n",
       "      <td>0.000037</td>\n",
       "      <td>1.815259e-09</td>\n",
       "      <td>1.240808e-13</td>\n",
       "      <td>1.154856e-17</td>\n",
       "      <td>1.419631e-21</td>\n",
       "      <td>2.233567e-25</td>\n",
       "      <td>...</td>\n",
       "      <td>4.313327e+01</td>\n",
       "      <td>4.319762e+01</td>\n",
       "      <td>4.302709e+01</td>\n",
       "      <td>4.261090e+01</td>\n",
       "      <td>4.193997e+01</td>\n",
       "      <td>4.100697e+01</td>\n",
       "      <td>3.980402e+01</td>\n",
       "      <td>3.819891e+01</td>\n",
       "      <td>3.036801e+01</td>\n",
       "      <td>-1.093747e+03</td>\n",
       "    </tr>\n",
       "    <tr>\n",
       "      <th>2</th>\n",
       "      <td>0.000008</td>\n",
       "      <td>1.643338e-11</td>\n",
       "      <td>10757.126</td>\n",
       "      <td>0.999941</td>\n",
       "      <td>0.000059</td>\n",
       "      <td>4.418282e-09</td>\n",
       "      <td>4.266114e-13</td>\n",
       "      <td>5.241519e-17</td>\n",
       "      <td>8.059130e-21</td>\n",
       "      <td>1.524676e-24</td>\n",
       "      <td>...</td>\n",
       "      <td>2.222941e+02</td>\n",
       "      <td>2.225802e+02</td>\n",
       "      <td>2.216414e+02</td>\n",
       "      <td>2.194194e+02</td>\n",
       "      <td>2.158637e+02</td>\n",
       "      <td>2.109328e+02</td>\n",
       "      <td>2.045732e+02</td>\n",
       "      <td>1.958232e+02</td>\n",
       "      <td>1.487166e+02</td>\n",
       "      <td>-5.628267e+03</td>\n",
       "    </tr>\n",
       "    <tr>\n",
       "      <th>3</th>\n",
       "      <td>0.000012</td>\n",
       "      <td>2.465006e-11</td>\n",
       "      <td>10757.106</td>\n",
       "      <td>0.999919</td>\n",
       "      <td>0.000081</td>\n",
       "      <td>8.070145e-09</td>\n",
       "      <td>9.922813e-13</td>\n",
       "      <td>1.496790e-16</td>\n",
       "      <td>2.742066e-20</td>\n",
       "      <td>6.035964e-24</td>\n",
       "      <td>...</td>\n",
       "      <td>6.379328e+02</td>\n",
       "      <td>6.386028e+02</td>\n",
       "      <td>6.357109e+02</td>\n",
       "      <td>6.290790e+02</td>\n",
       "      <td>6.185514e+02</td>\n",
       "      <td>6.039950e+02</td>\n",
       "      <td>5.852063e+02</td>\n",
       "      <td>5.583745e+02</td>\n",
       "      <td>4.014412e+02</td>\n",
       "      <td>-1.612388e+04</td>\n",
       "    </tr>\n",
       "    <tr>\n",
       "      <th>4</th>\n",
       "      <td>0.000029</td>\n",
       "      <td>6.058392e-11</td>\n",
       "      <td>10757.020</td>\n",
       "      <td>0.999822</td>\n",
       "      <td>0.000178</td>\n",
       "      <td>3.553516e-08</td>\n",
       "      <td>8.802196e-12</td>\n",
       "      <td>2.765142e-15</td>\n",
       "      <td>1.098811e-18</td>\n",
       "      <td>5.460371e-22</td>\n",
       "      <td>...</td>\n",
       "      <td>8.370745e+03</td>\n",
       "      <td>8.365424e+03</td>\n",
       "      <td>8.308980e+03</td>\n",
       "      <td>8.198153e+03</td>\n",
       "      <td>8.029840e+03</td>\n",
       "      <td>7.800562e+03</td>\n",
       "      <td>7.495944e+03</td>\n",
       "      <td>6.918945e+03</td>\n",
       "      <td>3.138381e+03</td>\n",
       "      <td>-2.091199e+05</td>\n",
       "    </tr>\n",
       "  </tbody>\n",
       "</table>\n",
       "<p>5 rows × 289 columns</p>\n",
       "</div>"
      ],
      "text/plain": [
       "        x_s        time_s       Temp        X1        X2            X3  \\\n",
       "0  0.000000  0.000000e+00  10757.166  0.999986  0.000014  2.397178e-10   \n",
       "1  0.000004  8.216688e-12  10757.146  0.999963  0.000037  1.815259e-09   \n",
       "2  0.000008  1.643338e-11  10757.126  0.999941  0.000059  4.418282e-09   \n",
       "3  0.000012  2.465006e-11  10757.106  0.999919  0.000081  8.070145e-09   \n",
       "4  0.000029  6.058392e-11  10757.020  0.999822  0.000178  3.553516e-08   \n",
       "\n",
       "             X4            X5            X6            X7  ...          RVV38  \\\n",
       "0  4.558197e-15  9.939829e-20  2.485752e-24  7.129016e-29  ... -2.401320e-109   \n",
       "1  1.240808e-13  1.154856e-17  1.419631e-21  2.233567e-25  ...   4.313327e+01   \n",
       "2  4.266114e-13  5.241519e-17  8.059130e-21  1.524676e-24  ...   2.222941e+02   \n",
       "3  9.922813e-13  1.496790e-16  2.742066e-20  6.035964e-24  ...   6.379328e+02   \n",
       "4  8.802196e-12  2.765142e-15  1.098811e-18  5.460371e-22  ...   8.370745e+03   \n",
       "\n",
       "           RVV39          RVV40          RVV41          RVV42          RVV43  \\\n",
       "0 -5.311691e-112 -1.346084e-114 -3.908330e-117 -1.300201e-119 -4.956191e-122   \n",
       "1   4.319762e+01   4.302709e+01   4.261090e+01   4.193997e+01   4.100697e+01   \n",
       "2   2.225802e+02   2.216414e+02   2.194194e+02   2.158637e+02   2.109328e+02   \n",
       "3   6.386028e+02   6.357109e+02   6.290790e+02   6.185514e+02   6.039950e+02   \n",
       "4   8.365424e+03   8.308980e+03   8.198153e+03   8.029840e+03   7.800562e+03   \n",
       "\n",
       "           RVV44          RVV45          RVV46          RVV47  \n",
       "0 -2.164807e-124 -1.083521e-126 -6.214598e-129 -4.115686e-131  \n",
       "1   3.980402e+01   3.819891e+01   3.036801e+01  -1.093747e+03  \n",
       "2   2.045732e+02   1.958232e+02   1.487166e+02  -5.628267e+03  \n",
       "3   5.852063e+02   5.583745e+02   4.014412e+02  -1.612388e+04  \n",
       "4   7.495944e+03   6.918945e+03   3.138381e+03  -2.091199e+05  \n",
       "\n",
       "[5 rows x 289 columns]"
      ]
     },
     "execution_count": 2,
     "metadata": {},
     "output_type": "execute_result"
    }
   ],
   "source": [
    "df = pd.read_csv(\"dataset_N2N.csv\", sep=\",\", header=0)\n",
    "df.head()"
   ]
  },
  {
   "cell_type": "code",
   "execution_count": 32,
   "id": "20fa6309",
   "metadata": {},
   "outputs": [],
   "source": [
    "X = df.iloc[:,0:54].values    # x_s, time_s, Temp, ni_n, na_n, rho, v, p, E, H\n",
    "y = df.iloc[:,54:55].values   # rhs[0:50]"
   ]
  },
  {
   "cell_type": "code",
   "execution_count": 33,
   "id": "39d61daa",
   "metadata": {},
   "outputs": [
    {
     "data": {
      "text/plain": [
       "(1936, 1)"
      ]
     },
     "execution_count": 33,
     "metadata": {},
     "output_type": "execute_result"
    }
   ],
   "source": [
    "y.shape"
   ]
  },
  {
   "cell_type": "code",
   "execution_count": 34,
   "id": "985edcce",
   "metadata": {},
   "outputs": [],
   "source": [
    "# feature_names = [f\"feature {i}\" for i in range(X.shape[1])]"
   ]
  },
  {
   "cell_type": "code",
   "execution_count": 35,
   "id": "983ca8a8",
   "metadata": {},
   "outputs": [],
   "source": [
    "feature_names = [\"x_s\",\"time_s\", \"Temp\"] + [f\"X{i}\" for i in range(1, 48)] + [\"rho\", \"v\",\"p\"] + [f\"RDm{i}\" for i in range(1, 47)] + [f\"RDa{i}\" for i in range(1, 47)] + [f\"RVTm{i}\" for i in range(1, 47)] + [f\"RVTa{i}\" for i in range(1, 47)] + [f\"RVV{i}\" for i in range(1, 47)]"
   ]
  },
  {
   "cell_type": "code",
   "execution_count": 36,
   "id": "ea66d30b",
   "metadata": {},
   "outputs": [],
   "source": [
    "list1 = list(feature_names)\n"
   ]
  },
  {
   "cell_type": "code",
   "execution_count": 37,
   "id": "9da6ad65",
   "metadata": {},
   "outputs": [
    {
     "data": {
      "text/plain": [
       "list"
      ]
     },
     "execution_count": 37,
     "metadata": {},
     "output_type": "execute_result"
    }
   ],
   "source": [
    "type(list1)"
   ]
  },
  {
   "cell_type": "code",
   "execution_count": 38,
   "id": "d1b56f70",
   "metadata": {},
   "outputs": [],
   "source": [
    "x_train, x_test, y_train, y_test = train_test_split(X, y, train_size=0.75, test_size=0.25, random_state=69)"
   ]
  },
  {
   "cell_type": "code",
   "execution_count": 39,
   "id": "37d68728",
   "metadata": {},
   "outputs": [
    {
     "name": "stdout",
     "output_type": "stream",
     "text": [
      "x= (1452, 54)\n",
      "y= (1452, 1)\n"
     ]
    }
   ],
   "source": [
    "print(\"x=\",x_train.shape)\n",
    "print(\"y=\",y_train.shape)"
   ]
  },
  {
   "cell_type": "code",
   "execution_count": null,
   "id": "a97395b6",
   "metadata": {},
   "outputs": [],
   "source": []
  },
  {
   "cell_type": "code",
   "execution_count": 40,
   "id": "2515f807",
   "metadata": {},
   "outputs": [],
   "source": [
    "est = ExtraTreesRegressor(n_estimators=50)\n",
    "est = est.fit(x_train,y_train.ravel())"
   ]
  },
  {
   "cell_type": "code",
   "execution_count": null,
   "id": "16416625",
   "metadata": {},
   "outputs": [],
   "source": []
  },
  {
   "cell_type": "code",
   "execution_count": 41,
   "id": "631b4586",
   "metadata": {},
   "outputs": [
    {
     "name": "stdout",
     "output_type": "stream",
     "text": [
      "[2.15958193e-03 1.71491221e-03 8.17112773e-03 6.45379845e-02\n",
      " 1.46028623e-02 1.28157373e-01 1.65568729e-01 1.40102309e-01\n",
      " 5.48141141e-02 5.43825073e-02 1.81340411e-02 1.83023062e-02\n",
      " 3.53263808e-02 3.51826083e-02 5.67087151e-04 2.45750134e-04\n",
      " 3.54709280e-02 2.09624394e-04 1.73601025e-02 1.53048350e-03\n",
      " 1.06621372e-03 1.49655070e-04 1.18778470e-04 6.33452528e-05\n",
      " 9.55010910e-04 1.41664744e-03 1.93329154e-03 1.27717900e-04\n",
      " 3.71649219e-03 5.91724010e-05 8.33193774e-05 7.83550141e-05\n",
      " 1.39047373e-04 1.11168316e-03 2.12543776e-03 1.81935508e-05\n",
      " 7.68730243e-06 1.14029630e-03 1.21873778e-05 3.63272109e-05\n",
      " 1.85164653e-05 1.71773522e-03 1.82760823e-03 1.49774644e-03\n",
      " 1.34166277e-06 4.15524454e-03 0.00000000e+00 0.00000000e+00\n",
      " 0.00000000e+00 0.00000000e+00 6.57254697e-03 3.08870919e-02\n",
      " 1.13355596e-01 2.90669006e-02]\n"
     ]
    }
   ],
   "source": [
    "print(est.feature_importances_)"
   ]
  },
  {
   "cell_type": "code",
   "execution_count": 42,
   "id": "87f5f622",
   "metadata": {},
   "outputs": [
    {
     "name": "stdout",
     "output_type": "stream",
     "text": [
      "(1936, 12)\n"
     ]
    }
   ],
   "source": [
    "model = SelectFromModel(est, prefit=True)\n",
    "X_new = model.transform(X)\n",
    "print(X_new.shape)"
   ]
  },
  {
   "cell_type": "code",
   "execution_count": 43,
   "id": "7dcda9da",
   "metadata": {},
   "outputs": [],
   "source": [
    "\n",
    "start_time = time.time()\n",
    "importances = est.feature_importances_\n",
    "# Feature importance based on mean decrease in impurity\n",
    "std = np.std([tree.feature_importances_ for tree in est.estimators_], axis=0)\n",
    "elapsed_time = time.time() - start_time"
   ]
  },
  {
   "cell_type": "code",
   "execution_count": null,
   "id": "44c6314d",
   "metadata": {},
   "outputs": [],
   "source": []
  },
  {
   "cell_type": "code",
   "execution_count": 44,
   "id": "039c3439",
   "metadata": {},
   "outputs": [
    {
     "name": "stdout",
     "output_type": "stream",
     "text": [
      "Elapsed time to compute the importances: 0.024 seconds\n"
     ]
    }
   ],
   "source": [
    "print(f\"Elapsed time to compute the importances: {elapsed_time:.3f} seconds\")"
   ]
  },
  {
   "cell_type": "code",
   "execution_count": 49,
   "id": "8204e36e",
   "metadata": {},
   "outputs": [],
   "source": [
    "v = list1[0:54:1]"
   ]
  },
  {
   "cell_type": "code",
   "execution_count": 50,
   "id": "d6f05b8f",
   "metadata": {},
   "outputs": [],
   "source": [
    "#v"
   ]
  },
  {
   "cell_type": "code",
   "execution_count": 51,
   "id": "c9d4acc5",
   "metadata": {},
   "outputs": [],
   "source": [
    "forest_importances = pd.Series(importances, index=v)"
   ]
  },
  {
   "cell_type": "code",
   "execution_count": 52,
   "id": "df1b9164",
   "metadata": {},
   "outputs": [
    {
     "name": "stdout",
     "output_type": "stream",
     "text": [
      "        SelectFromModel\n",
      "x_s            0.002160\n",
      "time_s         0.001715\n",
      "Temp           0.008171\n",
      "X1             0.064538\n",
      "X2             0.014603\n",
      "X3             0.128157\n",
      "X4             0.165569\n",
      "X5             0.140102\n",
      "X6             0.054814\n",
      "X7             0.054383\n",
      "X8             0.018134\n",
      "X9             0.018302\n",
      "X10            0.035326\n",
      "X11            0.035183\n",
      "X12            0.000567\n",
      "X13            0.000246\n",
      "X14            0.035471\n",
      "X15            0.000210\n",
      "X16            0.017360\n",
      "X17            0.001530\n",
      "X18            0.001066\n",
      "X19            0.000150\n",
      "X20            0.000119\n",
      "X21            0.000063\n",
      "X22            0.000955\n",
      "X23            0.001417\n",
      "X24            0.001933\n",
      "X25            0.000128\n",
      "X26            0.003716\n",
      "X27            0.000059\n",
      "X28            0.000083\n",
      "X29            0.000078\n",
      "X30            0.000139\n",
      "X31            0.001112\n",
      "X32            0.002125\n",
      "X33            0.000018\n",
      "X34            0.000008\n",
      "X35            0.001140\n",
      "X36            0.000012\n",
      "X37            0.000036\n",
      "X38            0.000019\n",
      "X39            0.001718\n",
      "X40            0.001828\n",
      "X41            0.001498\n",
      "X42            0.000001\n",
      "X43            0.004155\n",
      "X44            0.000000\n",
      "X45            0.000000\n",
      "X46            0.000000\n",
      "X47            0.000000\n",
      "rho            0.006573\n",
      "v              0.030887\n",
      "p              0.113356\n",
      "RDm1           0.029067\n"
     ]
    }
   ],
   "source": [
    "df3=pd.DataFrame(forest_importances, columns=['SelectFromModel'])\n",
    "print(df3)\n"
   ]
  },
  {
   "cell_type": "code",
   "execution_count": 53,
   "id": "123d151b",
   "metadata": {},
   "outputs": [
    {
     "data": {
      "text/html": [
       "<div>\n",
       "<style scoped>\n",
       "    .dataframe tbody tr th:only-of-type {\n",
       "        vertical-align: middle;\n",
       "    }\n",
       "\n",
       "    .dataframe tbody tr th {\n",
       "        vertical-align: top;\n",
       "    }\n",
       "\n",
       "    .dataframe thead th {\n",
       "        text-align: right;\n",
       "    }\n",
       "</style>\n",
       "<table border=\"1\" class=\"dataframe\">\n",
       "  <thead>\n",
       "    <tr style=\"text-align: right;\">\n",
       "      <th></th>\n",
       "      <th>SelectFromModel</th>\n",
       "    </tr>\n",
       "  </thead>\n",
       "  <tbody>\n",
       "    <tr>\n",
       "      <th>x_s</th>\n",
       "      <td>0.002160</td>\n",
       "    </tr>\n",
       "    <tr>\n",
       "      <th>time_s</th>\n",
       "      <td>0.001715</td>\n",
       "    </tr>\n",
       "    <tr>\n",
       "      <th>Temp</th>\n",
       "      <td>0.008171</td>\n",
       "    </tr>\n",
       "    <tr>\n",
       "      <th>X1</th>\n",
       "      <td>0.064538</td>\n",
       "    </tr>\n",
       "    <tr>\n",
       "      <th>X2</th>\n",
       "      <td>0.014603</td>\n",
       "    </tr>\n",
       "    <tr>\n",
       "      <th>X3</th>\n",
       "      <td>0.128157</td>\n",
       "    </tr>\n",
       "    <tr>\n",
       "      <th>X4</th>\n",
       "      <td>0.165569</td>\n",
       "    </tr>\n",
       "    <tr>\n",
       "      <th>X5</th>\n",
       "      <td>0.140102</td>\n",
       "    </tr>\n",
       "    <tr>\n",
       "      <th>X6</th>\n",
       "      <td>0.054814</td>\n",
       "    </tr>\n",
       "    <tr>\n",
       "      <th>X7</th>\n",
       "      <td>0.054383</td>\n",
       "    </tr>\n",
       "    <tr>\n",
       "      <th>X8</th>\n",
       "      <td>0.018134</td>\n",
       "    </tr>\n",
       "    <tr>\n",
       "      <th>X9</th>\n",
       "      <td>0.018302</td>\n",
       "    </tr>\n",
       "    <tr>\n",
       "      <th>X10</th>\n",
       "      <td>0.035326</td>\n",
       "    </tr>\n",
       "    <tr>\n",
       "      <th>X11</th>\n",
       "      <td>0.035183</td>\n",
       "    </tr>\n",
       "    <tr>\n",
       "      <th>X12</th>\n",
       "      <td>0.000567</td>\n",
       "    </tr>\n",
       "    <tr>\n",
       "      <th>X13</th>\n",
       "      <td>0.000246</td>\n",
       "    </tr>\n",
       "    <tr>\n",
       "      <th>X14</th>\n",
       "      <td>0.035471</td>\n",
       "    </tr>\n",
       "    <tr>\n",
       "      <th>X15</th>\n",
       "      <td>0.000210</td>\n",
       "    </tr>\n",
       "    <tr>\n",
       "      <th>X16</th>\n",
       "      <td>0.017360</td>\n",
       "    </tr>\n",
       "    <tr>\n",
       "      <th>X17</th>\n",
       "      <td>0.001530</td>\n",
       "    </tr>\n",
       "    <tr>\n",
       "      <th>X18</th>\n",
       "      <td>0.001066</td>\n",
       "    </tr>\n",
       "    <tr>\n",
       "      <th>X19</th>\n",
       "      <td>0.000150</td>\n",
       "    </tr>\n",
       "    <tr>\n",
       "      <th>X20</th>\n",
       "      <td>0.000119</td>\n",
       "    </tr>\n",
       "    <tr>\n",
       "      <th>X21</th>\n",
       "      <td>0.000063</td>\n",
       "    </tr>\n",
       "    <tr>\n",
       "      <th>X22</th>\n",
       "      <td>0.000955</td>\n",
       "    </tr>\n",
       "    <tr>\n",
       "      <th>X23</th>\n",
       "      <td>0.001417</td>\n",
       "    </tr>\n",
       "    <tr>\n",
       "      <th>X24</th>\n",
       "      <td>0.001933</td>\n",
       "    </tr>\n",
       "    <tr>\n",
       "      <th>X25</th>\n",
       "      <td>0.000128</td>\n",
       "    </tr>\n",
       "    <tr>\n",
       "      <th>X26</th>\n",
       "      <td>0.003716</td>\n",
       "    </tr>\n",
       "    <tr>\n",
       "      <th>X27</th>\n",
       "      <td>0.000059</td>\n",
       "    </tr>\n",
       "    <tr>\n",
       "      <th>X28</th>\n",
       "      <td>0.000083</td>\n",
       "    </tr>\n",
       "    <tr>\n",
       "      <th>X29</th>\n",
       "      <td>0.000078</td>\n",
       "    </tr>\n",
       "    <tr>\n",
       "      <th>X30</th>\n",
       "      <td>0.000139</td>\n",
       "    </tr>\n",
       "    <tr>\n",
       "      <th>X31</th>\n",
       "      <td>0.001112</td>\n",
       "    </tr>\n",
       "    <tr>\n",
       "      <th>X32</th>\n",
       "      <td>0.002125</td>\n",
       "    </tr>\n",
       "    <tr>\n",
       "      <th>X33</th>\n",
       "      <td>0.000018</td>\n",
       "    </tr>\n",
       "    <tr>\n",
       "      <th>X34</th>\n",
       "      <td>0.000008</td>\n",
       "    </tr>\n",
       "    <tr>\n",
       "      <th>X35</th>\n",
       "      <td>0.001140</td>\n",
       "    </tr>\n",
       "    <tr>\n",
       "      <th>X36</th>\n",
       "      <td>0.000012</td>\n",
       "    </tr>\n",
       "    <tr>\n",
       "      <th>X37</th>\n",
       "      <td>0.000036</td>\n",
       "    </tr>\n",
       "    <tr>\n",
       "      <th>X38</th>\n",
       "      <td>0.000019</td>\n",
       "    </tr>\n",
       "    <tr>\n",
       "      <th>X39</th>\n",
       "      <td>0.001718</td>\n",
       "    </tr>\n",
       "    <tr>\n",
       "      <th>X40</th>\n",
       "      <td>0.001828</td>\n",
       "    </tr>\n",
       "    <tr>\n",
       "      <th>X41</th>\n",
       "      <td>0.001498</td>\n",
       "    </tr>\n",
       "    <tr>\n",
       "      <th>X42</th>\n",
       "      <td>0.000001</td>\n",
       "    </tr>\n",
       "    <tr>\n",
       "      <th>X43</th>\n",
       "      <td>0.004155</td>\n",
       "    </tr>\n",
       "    <tr>\n",
       "      <th>X44</th>\n",
       "      <td>0.000000</td>\n",
       "    </tr>\n",
       "    <tr>\n",
       "      <th>X45</th>\n",
       "      <td>0.000000</td>\n",
       "    </tr>\n",
       "    <tr>\n",
       "      <th>X46</th>\n",
       "      <td>0.000000</td>\n",
       "    </tr>\n",
       "    <tr>\n",
       "      <th>X47</th>\n",
       "      <td>0.000000</td>\n",
       "    </tr>\n",
       "    <tr>\n",
       "      <th>rho</th>\n",
       "      <td>0.006573</td>\n",
       "    </tr>\n",
       "    <tr>\n",
       "      <th>v</th>\n",
       "      <td>0.030887</td>\n",
       "    </tr>\n",
       "    <tr>\n",
       "      <th>p</th>\n",
       "      <td>0.113356</td>\n",
       "    </tr>\n",
       "    <tr>\n",
       "      <th>RDm1</th>\n",
       "      <td>0.029067</td>\n",
       "    </tr>\n",
       "  </tbody>\n",
       "</table>\n",
       "</div>"
      ],
      "text/plain": [
       "        SelectFromModel\n",
       "x_s            0.002160\n",
       "time_s         0.001715\n",
       "Temp           0.008171\n",
       "X1             0.064538\n",
       "X2             0.014603\n",
       "X3             0.128157\n",
       "X4             0.165569\n",
       "X5             0.140102\n",
       "X6             0.054814\n",
       "X7             0.054383\n",
       "X8             0.018134\n",
       "X9             0.018302\n",
       "X10            0.035326\n",
       "X11            0.035183\n",
       "X12            0.000567\n",
       "X13            0.000246\n",
       "X14            0.035471\n",
       "X15            0.000210\n",
       "X16            0.017360\n",
       "X17            0.001530\n",
       "X18            0.001066\n",
       "X19            0.000150\n",
       "X20            0.000119\n",
       "X21            0.000063\n",
       "X22            0.000955\n",
       "X23            0.001417\n",
       "X24            0.001933\n",
       "X25            0.000128\n",
       "X26            0.003716\n",
       "X27            0.000059\n",
       "X28            0.000083\n",
       "X29            0.000078\n",
       "X30            0.000139\n",
       "X31            0.001112\n",
       "X32            0.002125\n",
       "X33            0.000018\n",
       "X34            0.000008\n",
       "X35            0.001140\n",
       "X36            0.000012\n",
       "X37            0.000036\n",
       "X38            0.000019\n",
       "X39            0.001718\n",
       "X40            0.001828\n",
       "X41            0.001498\n",
       "X42            0.000001\n",
       "X43            0.004155\n",
       "X44            0.000000\n",
       "X45            0.000000\n",
       "X46            0.000000\n",
       "X47            0.000000\n",
       "rho            0.006573\n",
       "v              0.030887\n",
       "p              0.113356\n",
       "RDm1           0.029067"
      ]
     },
     "execution_count": 53,
     "metadata": {},
     "output_type": "execute_result"
    }
   ],
   "source": [
    "df3"
   ]
  },
  {
   "cell_type": "code",
   "execution_count": 30,
   "id": "946c4b65",
   "metadata": {},
   "outputs": [],
   "source": [
    "SelectFromModel_N2N= df3.loc[:].reset_index()\n",
    "SelectFromModel_N2N.to_csv('SelectFromModel.csv', index=False)"
   ]
  },
  {
   "cell_type": "code",
   "execution_count": 24,
   "id": "641274df",
   "metadata": {
    "scrolled": true
   },
   "outputs": [
    {
     "data": {
      "image/png": "[encoded data removed]",
      "text/plain": [
       "<Figure size 432x288 with 1 Axes>"
      ]
     },
     "metadata": {
      "needs_background": "light"
     },
     "output_type": "display_data"
    }
   ],
   "source": [
    "fig, ax = plt.subplots()\n",
    "forest_importances.plot.bar(yerr=std, ax=ax)\n",
    "ax.set_title(\"Feature importances using MDI\")\n",
    "ax.set_ylabel(\"Mean decrease in impurity\")\n",
    "fig.tight_layout()\n",
    "plt.show()"
   ]
  },
  {
   "cell_type": "code",
   "execution_count": 16,
   "id": "9bfbea29",
   "metadata": {},
   "outputs": [
    {
     "data": {
      "text/plain": [
       "array([1.70862100e-03, 3.89154590e-03, 1.73702465e-01, 1.02206568e-02,\n",
       "       1.44805368e-03, 1.16094488e-03, 1.18437104e-03, 5.11004264e-03,\n",
       "       9.75461200e-03, 6.10576965e-03, 9.78013869e-03, 1.12096829e-02,\n",
       "       9.25861397e-03, 7.73141053e-03, 7.96246398e-03, 9.04900789e-04,\n",
       "       2.23940145e-03, 4.97080627e-03, 3.49648509e-03, 2.46952999e-03,\n",
       "       1.62304047e-03, 7.48443853e-03, 4.01874568e-03, 2.69744162e-03,\n",
       "       1.64200150e-03, 3.98987269e-03, 3.12907282e-03, 3.29077922e-03,\n",
       "       2.78207269e-03, 2.72099785e-03, 2.73829104e-04, 2.77518346e-03,\n",
       "       3.32684942e-03, 1.81213173e-05, 1.48713670e-02, 5.90861885e-04,\n",
       "       9.00808266e-04, 3.51830277e-04, 1.50198510e-04, 1.37070137e-04,\n",
       "       1.29447153e-03, 1.91138783e-04, 8.75553917e-05, 1.62697038e-04,\n",
       "       4.88343656e-04, 0.00000000e+00, 0.00000000e+00, 0.00000000e+00,\n",
       "       0.00000000e+00, 0.00000000e+00, 4.23884479e-01, 1.37036220e-01,\n",
       "       1.05769996e-01])"
      ]
     },
     "execution_count": 16,
     "metadata": {},
     "output_type": "execute_result"
    }
   ],
   "source": [
    "importances\n"
   ]
  },
  {
   "cell_type": "code",
   "execution_count": 79,
   "id": "99e533d7",
   "metadata": {},
   "outputs": [],
   "source": [
    "# Важность функции перестановки-это метод проверки модели, который может быть использован для любой подходящей оценки, когда данные табличные. Это особенно полезно для нелинейных или непрозрачных оценок. Важность функции перестановки определяется как уменьшение оценки модели при случайном перемешивании одного значения функции 1. Эта процедура нарушает связь между функцией и целью, таким образом, падение оценки модели указывает на то, насколько модель зависит от функции. Этот метод выигрывает от того, что он не зависит от модели и может быть рассчитан много раз с различными перестановками функции."
   ]
  },
  {
   "cell_type": "code",
   "execution_count": 81,
   "id": "8083b64d",
   "metadata": {},
   "outputs": [
    {
     "name": "stdout",
     "output_type": "stream",
     "text": [
      "Elapsed time to compute the importances: 3.374 seconds\n"
     ]
    }
   ],
   "source": [
    "start_time = time.time()\n",
    "result = permutation_importance(\n",
    "    est, x_test, y_test, n_repeats=10, random_state=42, n_jobs=2\n",
    ")\n",
    "elapsed_time = time.time() - start_time\n",
    "print(f\"Elapsed time to compute the importances: {elapsed_time:.3f} seconds\")"
   ]
  },
  {
   "cell_type": "code",
   "execution_count": 83,
   "id": "e6c11112",
   "metadata": {},
   "outputs": [],
   "source": [
    "forest_importances = pd.Series(result.importances_mean, index=v)\n"
   ]
  },
  {
   "cell_type": "code",
   "execution_count": 84,
   "id": "a96f0b4c",
   "metadata": {},
   "outputs": [
    {
     "data": {
      "image/png": "[encoded data removed]",
      "text/plain": [
       "<Figure size 432x288 with 1 Axes>"
      ]
     },
     "metadata": {
      "needs_background": "light"
     },
     "output_type": "display_data"
    }
   ],
   "source": [
    "fig, ax = plt.subplots()\n",
    "forest_importances.plot.bar(yerr=result.importances_std, ax=ax)\n",
    "ax.set_title(\"Feature importances using permutation on full model\")\n",
    "ax.set_ylabel(\"Mean accuracy decrease\")\n",
    "fig.tight_layout()\n",
    "plt.show()"
   ]
  },
  {
   "cell_type": "code",
   "execution_count": null,
   "id": "9cef50ae",
   "metadata": {},
   "outputs": [],
   "source": []
  },
  {
   "cell_type": "code",
   "execution_count": null,
   "id": "d98947bf",
   "metadata": {},
   "outputs": [],
   "source": []
  }
 ],
 "metadata": {
  "kernelspec": {
   "display_name": "Python 3 (ipykernel)",
   "language": "python",
   "name": "python3"
  },
  "language_info": {
   "codemirror_mode": {
    "name": "ipython",
    "version": 3
   },
   "file_extension": ".py",
   "mimetype": "text/x-python",
   "name": "python",
   "nbconvert_exporter": "python",
   "pygments_lexer": "ipython3",
   "version": "3.9.2"
  }
 },
 "nbformat": 4,
 "nbformat_minor": 5
}
