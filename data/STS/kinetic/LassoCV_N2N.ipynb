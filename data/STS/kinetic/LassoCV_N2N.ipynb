{
 "cells": [
  {
   "cell_type": "code",
   "execution_count": 1,
   "id": "ed881545",
   "metadata": {},
   "outputs": [],
   "source": [
    "import matplotlib.pyplot as plt\n",
    "import numpy as np\n",
    "from sklearn.linear_model import MultiTaskLassoCV\n",
    "from sklearn.linear_model import LassoCV\n",
    "from sklearn.feature_selection import SelectFromModel\n",
    "from time import time\n",
    "import pandas as pd\n"
   ]
  },
  {
   "cell_type": "code",
   "execution_count": 2,
   "id": "3e257518",
   "metadata": {},
   "outputs": [],
   "source": [
    "cols = [\"x_s\",\"time_s\", \"Temp\"] + [f\"X{i}\" for i in range(1, 48)] + [\"rho\", \"v\",\"p\"] + [f\"RDm{i}\" for i in range(1, 47)] + [f\"RDa{i}\" for i in range(1, 47)] + [f\"RVTm{i}\" for i in range(1, 47)] + [f\"RVTa{i}\" for i in range(1, 47)] + [f\"RVV{i}\" for i in range(1, 47)]"
   ]
  },
  {
   "cell_type": "code",
   "execution_count": 3,
   "id": "e8de2c9f",
   "metadata": {},
   "outputs": [
    {
     "data": {
      "text/html": [
       "<div>\n",
       "<style scoped>\n",
       "    .dataframe tbody tr th:only-of-type {\n",
       "        vertical-align: middle;\n",
       "    }\n",
       "\n",
       "    .dataframe tbody tr th {\n",
       "        vertical-align: top;\n",
       "    }\n",
       "\n",
       "    .dataframe thead th {\n",
       "        text-align: right;\n",
       "    }\n",
       "</style>\n",
       "<table border=\"1\" class=\"dataframe\">\n",
       "  <thead>\n",
       "    <tr style=\"text-align: right;\">\n",
       "      <th></th>\n",
       "      <th>x_s</th>\n",
       "      <th>time_s</th>\n",
       "      <th>Temp</th>\n",
       "      <th>X1</th>\n",
       "      <th>X2</th>\n",
       "      <th>X3</th>\n",
       "      <th>X4</th>\n",
       "      <th>X5</th>\n",
       "      <th>X6</th>\n",
       "      <th>X7</th>\n",
       "      <th>...</th>\n",
       "      <th>RVV38</th>\n",
       "      <th>RVV39</th>\n",
       "      <th>RVV40</th>\n",
       "      <th>RVV41</th>\n",
       "      <th>RVV42</th>\n",
       "      <th>RVV43</th>\n",
       "      <th>RVV44</th>\n",
       "      <th>RVV45</th>\n",
       "      <th>RVV46</th>\n",
       "      <th>RVV47</th>\n",
       "    </tr>\n",
       "  </thead>\n",
       "  <tbody>\n",
       "    <tr>\n",
       "      <th>0</th>\n",
       "      <td>0.000000</td>\n",
       "      <td>0.000000e+00</td>\n",
       "      <td>10757.166</td>\n",
       "      <td>0.999986</td>\n",
       "      <td>0.000014</td>\n",
       "      <td>2.397178e-10</td>\n",
       "      <td>4.558197e-15</td>\n",
       "      <td>9.939829e-20</td>\n",
       "      <td>2.485752e-24</td>\n",
       "      <td>7.129016e-29</td>\n",
       "      <td>...</td>\n",
       "      <td>-2.401320e-109</td>\n",
       "      <td>-5.311691e-112</td>\n",
       "      <td>-1.346084e-114</td>\n",
       "      <td>-3.908330e-117</td>\n",
       "      <td>-1.300201e-119</td>\n",
       "      <td>-4.956191e-122</td>\n",
       "      <td>-2.164807e-124</td>\n",
       "      <td>-1.083521e-126</td>\n",
       "      <td>-6.214598e-129</td>\n",
       "      <td>-4.115686e-131</td>\n",
       "    </tr>\n",
       "    <tr>\n",
       "      <th>1</th>\n",
       "      <td>0.000004</td>\n",
       "      <td>8.216688e-12</td>\n",
       "      <td>10757.146</td>\n",
       "      <td>0.999963</td>\n",
       "      <td>0.000037</td>\n",
       "      <td>1.815259e-09</td>\n",
       "      <td>1.240808e-13</td>\n",
       "      <td>1.154856e-17</td>\n",
       "      <td>1.419631e-21</td>\n",
       "      <td>2.233567e-25</td>\n",
       "      <td>...</td>\n",
       "      <td>4.313327e+01</td>\n",
       "      <td>4.319762e+01</td>\n",
       "      <td>4.302709e+01</td>\n",
       "      <td>4.261090e+01</td>\n",
       "      <td>4.193997e+01</td>\n",
       "      <td>4.100697e+01</td>\n",
       "      <td>3.980402e+01</td>\n",
       "      <td>3.819891e+01</td>\n",
       "      <td>3.036801e+01</td>\n",
       "      <td>-1.093747e+03</td>\n",
       "    </tr>\n",
       "    <tr>\n",
       "      <th>2</th>\n",
       "      <td>0.000008</td>\n",
       "      <td>1.643338e-11</td>\n",
       "      <td>10757.126</td>\n",
       "      <td>0.999941</td>\n",
       "      <td>0.000059</td>\n",
       "      <td>4.418282e-09</td>\n",
       "      <td>4.266114e-13</td>\n",
       "      <td>5.241519e-17</td>\n",
       "      <td>8.059130e-21</td>\n",
       "      <td>1.524676e-24</td>\n",
       "      <td>...</td>\n",
       "      <td>2.222941e+02</td>\n",
       "      <td>2.225802e+02</td>\n",
       "      <td>2.216414e+02</td>\n",
       "      <td>2.194194e+02</td>\n",
       "      <td>2.158637e+02</td>\n",
       "      <td>2.109328e+02</td>\n",
       "      <td>2.045732e+02</td>\n",
       "      <td>1.958232e+02</td>\n",
       "      <td>1.487166e+02</td>\n",
       "      <td>-5.628267e+03</td>\n",
       "    </tr>\n",
       "    <tr>\n",
       "      <th>3</th>\n",
       "      <td>0.000012</td>\n",
       "      <td>2.465006e-11</td>\n",
       "      <td>10757.106</td>\n",
       "      <td>0.999919</td>\n",
       "      <td>0.000081</td>\n",
       "      <td>8.070145e-09</td>\n",
       "      <td>9.922813e-13</td>\n",
       "      <td>1.496790e-16</td>\n",
       "      <td>2.742066e-20</td>\n",
       "      <td>6.035964e-24</td>\n",
       "      <td>...</td>\n",
       "      <td>6.379328e+02</td>\n",
       "      <td>6.386028e+02</td>\n",
       "      <td>6.357109e+02</td>\n",
       "      <td>6.290790e+02</td>\n",
       "      <td>6.185514e+02</td>\n",
       "      <td>6.039950e+02</td>\n",
       "      <td>5.852063e+02</td>\n",
       "      <td>5.583745e+02</td>\n",
       "      <td>4.014412e+02</td>\n",
       "      <td>-1.612388e+04</td>\n",
       "    </tr>\n",
       "    <tr>\n",
       "      <th>4</th>\n",
       "      <td>0.000029</td>\n",
       "      <td>6.058392e-11</td>\n",
       "      <td>10757.020</td>\n",
       "      <td>0.999822</td>\n",
       "      <td>0.000178</td>\n",
       "      <td>3.553516e-08</td>\n",
       "      <td>8.802196e-12</td>\n",
       "      <td>2.765142e-15</td>\n",
       "      <td>1.098811e-18</td>\n",
       "      <td>5.460371e-22</td>\n",
       "      <td>...</td>\n",
       "      <td>8.370745e+03</td>\n",
       "      <td>8.365424e+03</td>\n",
       "      <td>8.308980e+03</td>\n",
       "      <td>8.198153e+03</td>\n",
       "      <td>8.029840e+03</td>\n",
       "      <td>7.800562e+03</td>\n",
       "      <td>7.495944e+03</td>\n",
       "      <td>6.918945e+03</td>\n",
       "      <td>3.138381e+03</td>\n",
       "      <td>-2.091199e+05</td>\n",
       "    </tr>\n",
       "  </tbody>\n",
       "</table>\n",
       "<p>5 rows × 289 columns</p>\n",
       "</div>"
      ],
      "text/plain": [
       "        x_s        time_s       Temp        X1        X2            X3  \\\n",
       "0  0.000000  0.000000e+00  10757.166  0.999986  0.000014  2.397178e-10   \n",
       "1  0.000004  8.216688e-12  10757.146  0.999963  0.000037  1.815259e-09   \n",
       "2  0.000008  1.643338e-11  10757.126  0.999941  0.000059  4.418282e-09   \n",
       "3  0.000012  2.465006e-11  10757.106  0.999919  0.000081  8.070145e-09   \n",
       "4  0.000029  6.058392e-11  10757.020  0.999822  0.000178  3.553516e-08   \n",
       "\n",
       "             X4            X5            X6            X7  ...          RVV38  \\\n",
       "0  4.558197e-15  9.939829e-20  2.485752e-24  7.129016e-29  ... -2.401320e-109   \n",
       "1  1.240808e-13  1.154856e-17  1.419631e-21  2.233567e-25  ...   4.313327e+01   \n",
       "2  4.266114e-13  5.241519e-17  8.059130e-21  1.524676e-24  ...   2.222941e+02   \n",
       "3  9.922813e-13  1.496790e-16  2.742066e-20  6.035964e-24  ...   6.379328e+02   \n",
       "4  8.802196e-12  2.765142e-15  1.098811e-18  5.460371e-22  ...   8.370745e+03   \n",
       "\n",
       "           RVV39          RVV40          RVV41          RVV42          RVV43  \\\n",
       "0 -5.311691e-112 -1.346084e-114 -3.908330e-117 -1.300201e-119 -4.956191e-122   \n",
       "1   4.319762e+01   4.302709e+01   4.261090e+01   4.193997e+01   4.100697e+01   \n",
       "2   2.225802e+02   2.216414e+02   2.194194e+02   2.158637e+02   2.109328e+02   \n",
       "3   6.386028e+02   6.357109e+02   6.290790e+02   6.185514e+02   6.039950e+02   \n",
       "4   8.365424e+03   8.308980e+03   8.198153e+03   8.029840e+03   7.800562e+03   \n",
       "\n",
       "           RVV44          RVV45          RVV46          RVV47  \n",
       "0 -2.164807e-124 -1.083521e-126 -6.214598e-129 -4.115686e-131  \n",
       "1   3.980402e+01   3.819891e+01   3.036801e+01  -1.093747e+03  \n",
       "2   2.045732e+02   1.958232e+02   1.487166e+02  -5.628267e+03  \n",
       "3   5.852063e+02   5.583745e+02   4.014412e+02  -1.612388e+04  \n",
       "4   7.495944e+03   6.918945e+03   3.138381e+03  -2.091199e+05  \n",
       "\n",
       "[5 rows x 289 columns]"
      ]
     },
     "execution_count": 3,
     "metadata": {},
     "output_type": "execute_result"
    }
   ],
   "source": [
    "df = pd.read_csv(\"dataset_N2N.csv\", sep=\",\", header=0)\n",
    "df.head()"
   ]
  },
  {
   "cell_type": "code",
   "execution_count": 4,
   "id": "245e1365",
   "metadata": {},
   "outputs": [
    {
     "data": {
      "text/plain": [
       "(1936, 289)"
      ]
     },
     "execution_count": 4,
     "metadata": {},
     "output_type": "execute_result"
    }
   ],
   "source": [
    "df.shape\n"
   ]
  },
  {
   "cell_type": "code",
   "execution_count": 5,
   "id": "47477b83",
   "metadata": {},
   "outputs": [
    {
     "data": {
      "text/plain": [
       "Index(['x_s', 'time_s', 'Temp', 'X1', 'X2', 'X3', 'X4', 'X5', 'X6', 'X7',\n",
       "       ...\n",
       "       'RVV38', 'RVV39', 'RVV40', 'RVV41', 'RVV42', 'RVV43', 'RVV44', 'RVV45',\n",
       "       'RVV46', 'RVV47'],\n",
       "      dtype='object', length=289)"
      ]
     },
     "execution_count": 5,
     "metadata": {},
     "output_type": "execute_result"
    }
   ],
   "source": [
    "df.columns"
   ]
  },
  {
   "cell_type": "code",
   "execution_count": 6,
   "id": "3edaea8d",
   "metadata": {},
   "outputs": [
    {
     "data": {
      "text/plain": [
       "2.981562e-06    18\n",
       "2.981854e-06    18\n",
       "2.981820e-06    16\n",
       "2.981591e-06    14\n",
       "2.981845e-06    13\n",
       "                ..\n",
       "2.082997e-05     1\n",
       "4.075734e-06     1\n",
       "7.611713e-06     1\n",
       "3.096324e-05     1\n",
       "7.749944e-20     1\n",
       "Name: X27, Length: 1273, dtype: int64"
      ]
     },
     "execution_count": 6,
     "metadata": {},
     "output_type": "execute_result"
    }
   ],
   "source": [
    "df[\"X27\"].value_counts()"
   ]
  },
  {
   "cell_type": "code",
   "execution_count": 7,
   "id": "87e22d7d",
   "metadata": {},
   "outputs": [],
   "source": [
    "X = df.iloc[:, :54].values \n",
    "y = df.iloc[:,54:101].values  "
   ]
  },
  {
   "cell_type": "code",
   "execution_count": 8,
   "id": "5d61f348",
   "metadata": {},
   "outputs": [
    {
     "data": {
      "text/plain": [
       "(1936, 54)"
      ]
     },
     "execution_count": 8,
     "metadata": {},
     "output_type": "execute_result"
    }
   ],
   "source": [
    "X.shape\n"
   ]
  },
  {
   "cell_type": "code",
   "execution_count": 10,
   "id": "2f84d60d",
   "metadata": {},
   "outputs": [
    {
     "data": {
      "text/plain": [
       "(1936, 47)"
      ]
     },
     "execution_count": 10,
     "metadata": {},
     "output_type": "execute_result"
    }
   ],
   "source": [
    "y.shape"
   ]
  },
  {
   "cell_type": "code",
   "execution_count": null,
   "id": "bbd1b48f",
   "metadata": {},
   "outputs": [],
   "source": []
  },
  {
   "cell_type": "code",
   "execution_count": 8,
   "id": "3fdde885",
   "metadata": {},
   "outputs": [
    {
     "name": "stderr",
     "output_type": "stream",
     "text": [
      "c:\\users\\user\\appdata\\local\\programs\\python\\python39\\lib\\site-packages\\sklearn\\linear_model\\_coordinate_descent.py:518: ConvergenceWarning: Objective did not converge. You might want to increase the number of iterations. Duality gap: 1.5839122974110902e+48, tolerance: 1.325624700694355e+48\n",
      "  model = cd_fast.enet_coordinate_descent_multi_task(\n",
      "c:\\users\\user\\appdata\\local\\programs\\python\\python39\\lib\\site-packages\\sklearn\\linear_model\\_coordinate_descent.py:518: ConvergenceWarning: Objective did not converge. You might want to increase the number of iterations. Duality gap: 1.8414277019732205e+48, tolerance: 1.325624700694355e+48\n",
      "  model = cd_fast.enet_coordinate_descent_multi_task(\n",
      "c:\\users\\user\\appdata\\local\\programs\\python\\python39\\lib\\site-packages\\sklearn\\linear_model\\_coordinate_descent.py:518: ConvergenceWarning: Objective did not converge. You might want to increase the number of iterations. Duality gap: 2.0333078024696366e+48, tolerance: 1.325624700694355e+48\n",
      "  model = cd_fast.enet_coordinate_descent_multi_task(\n",
      "c:\\users\\user\\appdata\\local\\programs\\python\\python39\\lib\\site-packages\\sklearn\\linear_model\\_coordinate_descent.py:518: ConvergenceWarning: Objective did not converge. You might want to increase the number of iterations. Duality gap: 1.571700979138679e+48, tolerance: 1.3256246841458333e+48\n",
      "  model = cd_fast.enet_coordinate_descent_multi_task(\n",
      "c:\\users\\user\\appdata\\local\\programs\\python\\python39\\lib\\site-packages\\sklearn\\linear_model\\_coordinate_descent.py:518: ConvergenceWarning: Objective did not converge. You might want to increase the number of iterations. Duality gap: 1.821175120137462e+48, tolerance: 1.3256246841458333e+48\n",
      "  model = cd_fast.enet_coordinate_descent_multi_task(\n",
      "c:\\users\\user\\appdata\\local\\programs\\python\\python39\\lib\\site-packages\\sklearn\\linear_model\\_coordinate_descent.py:518: ConvergenceWarning: Objective did not converge. You might want to increase the number of iterations. Duality gap: 2.0068064213631296e+48, tolerance: 1.3256246841458333e+48\n",
      "  model = cd_fast.enet_coordinate_descent_multi_task(\n",
      "c:\\users\\user\\appdata\\local\\programs\\python\\python39\\lib\\site-packages\\sklearn\\linear_model\\_coordinate_descent.py:518: ConvergenceWarning: Objective did not converge. You might want to increase the number of iterations. Duality gap: 1.591031061730403e+48, tolerance: 1.3256247062308166e+48\n",
      "  model = cd_fast.enet_coordinate_descent_multi_task(\n",
      "c:\\users\\user\\appdata\\local\\programs\\python\\python39\\lib\\site-packages\\sklearn\\linear_model\\_coordinate_descent.py:518: ConvergenceWarning: Objective did not converge. You might want to increase the number of iterations. Duality gap: 1.8532288130517604e+48, tolerance: 1.3256247062308166e+48\n",
      "  model = cd_fast.enet_coordinate_descent_multi_task(\n",
      "c:\\users\\user\\appdata\\local\\programs\\python\\python39\\lib\\site-packages\\sklearn\\linear_model\\_coordinate_descent.py:518: ConvergenceWarning: Objective did not converge. You might want to increase the number of iterations. Duality gap: 2.0486950467754874e+48, tolerance: 1.3256247062308166e+48\n",
      "  model = cd_fast.enet_coordinate_descent_multi_task(\n"
     ]
    }
   ],
   "source": [
    "feature_names = [f\"feature {i}\" for i in range(X.shape[1])]\n",
    "\n",
    "lasso = MultiTaskLassoCV().fit(X, y)\n",
    "importance = np.abs(lasso.coef_)\n",
    "\n"
   ]
  },
  {
   "cell_type": "code",
   "execution_count": 9,
   "id": "1667d085",
   "metadata": {},
   "outputs": [
    {
     "name": "stdout",
     "output_type": "stream",
     "text": [
      "[[1.56294344e+17 0.00000000e+00 0.00000000e+00 ... 0.00000000e+00\n",
      "  0.00000000e+00 0.00000000e+00]\n",
      " [5.82525463e+16 0.00000000e+00 0.00000000e+00 ... 0.00000000e+00\n",
      "  0.00000000e+00 0.00000000e+00]\n",
      " [4.39939060e+16 0.00000000e+00 0.00000000e+00 ... 0.00000000e+00\n",
      "  0.00000000e+00 0.00000000e+00]\n",
      " ...\n",
      " [9.47244244e+16 0.00000000e+00 0.00000000e+00 ... 0.00000000e+00\n",
      "  0.00000000e+00 0.00000000e+00]\n",
      " [6.94654761e+16 0.00000000e+00 0.00000000e+00 ... 0.00000000e+00\n",
      "  0.00000000e+00 0.00000000e+00]\n",
      " [5.70402214e+16 0.00000000e+00 0.00000000e+00 ... 0.00000000e+00\n",
      "  0.00000000e+00 0.00000000e+00]]\n"
     ]
    }
   ],
   "source": [
    "print(importance)"
   ]
  },
  {
   "cell_type": "code",
   "execution_count": 10,
   "id": "9888a345",
   "metadata": {},
   "outputs": [
    {
     "data": {
      "text/plain": [
       "array([[1.56294344e+17, 0.00000000e+00, 0.00000000e+00, 0.00000000e+00,\n",
       "        0.00000000e+00, 0.00000000e+00, 0.00000000e+00, 0.00000000e+00,\n",
       "        0.00000000e+00, 0.00000000e+00, 0.00000000e+00, 0.00000000e+00,\n",
       "        0.00000000e+00, 0.00000000e+00, 0.00000000e+00, 0.00000000e+00,\n",
       "        0.00000000e+00, 0.00000000e+00, 0.00000000e+00, 0.00000000e+00,\n",
       "        0.00000000e+00, 0.00000000e+00, 0.00000000e+00, 0.00000000e+00,\n",
       "        0.00000000e+00, 0.00000000e+00, 0.00000000e+00, 0.00000000e+00,\n",
       "        0.00000000e+00, 0.00000000e+00, 0.00000000e+00, 0.00000000e+00,\n",
       "        0.00000000e+00, 0.00000000e+00, 0.00000000e+00, 0.00000000e+00,\n",
       "        0.00000000e+00, 0.00000000e+00, 0.00000000e+00, 0.00000000e+00,\n",
       "        0.00000000e+00, 0.00000000e+00, 0.00000000e+00, 0.00000000e+00,\n",
       "        0.00000000e+00, 0.00000000e+00, 0.00000000e+00, 0.00000000e+00,\n",
       "        0.00000000e+00, 0.00000000e+00, 0.00000000e+00, 0.00000000e+00,\n",
       "        0.00000000e+00, 0.00000000e+00]])"
      ]
     },
     "execution_count": 10,
     "metadata": {},
     "output_type": "execute_result"
    }
   ],
   "source": [
    "i = importance[0:1]\n",
    "\n",
    "i"
   ]
  },
  {
   "cell_type": "code",
   "execution_count": 11,
   "id": "ae92ed43",
   "metadata": {},
   "outputs": [
    {
     "data": {
      "text/plain": [
       "(47, 54)"
      ]
     },
     "execution_count": 11,
     "metadata": {},
     "output_type": "execute_result"
    }
   ],
   "source": [
    "importance.shape\n"
   ]
  },
  {
   "cell_type": "code",
   "execution_count": 12,
   "id": "6639ae80",
   "metadata": {},
   "outputs": [
    {
     "data": {
      "image/png": "[encoded data removed]",
      "text/plain": [
       "<Figure size 432x288 with 1 Axes>"
      ]
     },
     "metadata": {
      "needs_background": "light"
     },
     "output_type": "display_data"
    }
   ],
   "source": [
    "N = 54\n",
    "ind = np.arange(N)  # the x locations for the groups\n",
    "width = 1     # the width of the bars\n",
    "\n",
    "fig = plt.figure()\n",
    "ax = fig.add_subplot(111)\n",
    "\n",
    "yvals = importance[0:1].squeeze(0)\n",
    "rects1 = ax.bar(ind, yvals, width, color='r')\n",
    "zvals = importance[1:2].squeeze(0)\n",
    "rects2 = ax.bar(ind+width, zvals, width, color='g')\n",
    "kvals = importance[2:3].squeeze(0)\n",
    "rects3 = ax.bar(ind+width*2, kvals, width, color='b')\n",
    "\n",
    "ax.set_ylabel('importance')\n",
    "ax.set_xticks(ind+width)\n",
    "\n",
    "\n",
    "# ax.set_xticklabels( (i for i in range(1, 55) ))\n",
    "# ax.legend( (rects1[0], rects2[0], rects3[0]), ('y', 'z', 'k') )\n",
    "\n",
    "def autolabel(rects):\n",
    "    for rect in rects:\n",
    "        h = rect.get_height()\n",
    "        ax.text(rect.get_x()+rect.get_width()/2., 1.05*h, '%d'%int(h),\n",
    "                ha='center', va='bottom')\n",
    "\n",
    "\n",
    "\n",
    "plt.show()"
   ]
  },
  {
   "cell_type": "markdown",
   "id": "144c7e62",
   "metadata": {},
   "source": [
    "ЗАЧЕМ КОД НИЖЕ????????????????????????????????????????????????????????????????????????????????????????????????"
   ]
  },
  {
   "cell_type": "code",
   "execution_count": 39,
   "id": "93ae33ac",
   "metadata": {},
   "outputs": [],
   "source": [
    "# threshold = np.sort(importance)[-3] + .01 # check/modify these values\n",
    "\n",
    "# tic = time()\n",
    "# sfm = SelectFromModel(estimator=lasso, threshold=threshold).fit(X, y)\n",
    "# toc = time()\n",
    "# #print(f\"Features selected by SelectFromModel: {feature_names[sfm.get_support()]}\")\n",
    "# print(f\"Done in {toc - tic:.3f}s\")"
   ]
  },
  {
   "cell_type": "code",
   "execution_count": 40,
   "id": "4ac0f615",
   "metadata": {},
   "outputs": [],
   "source": [
    "# print(sfm.estimator_.coef_)\n",
    "# print(sfm.threshold_)\n",
    "# print(sfm.get_support)\n",
    "# print(sfm.transform(X))"
   ]
  },
  {
   "cell_type": "code",
   "execution_count": null,
   "id": "88c4011f",
   "metadata": {},
   "outputs": [],
   "source": []
  },
  {
   "cell_type": "code",
   "execution_count": 14,
   "id": "a9e5e769",
   "metadata": {},
   "outputs": [],
   "source": [
    "X1 = df.iloc[:, :54].values \n",
    "y1 = df.iloc[:,54:55].values "
   ]
  },
  {
   "cell_type": "code",
   "execution_count": 15,
   "id": "67aa9f85",
   "metadata": {},
   "outputs": [
    {
     "data": {
      "text/plain": [
       "(1936, 54)"
      ]
     },
     "execution_count": 15,
     "metadata": {},
     "output_type": "execute_result"
    }
   ],
   "source": [
    "X1.shape"
   ]
  },
  {
   "cell_type": "code",
   "execution_count": 16,
   "id": "7de2917f",
   "metadata": {},
   "outputs": [
    {
     "data": {
      "text/plain": [
       "(1936, 1)"
      ]
     },
     "execution_count": 16,
     "metadata": {},
     "output_type": "execute_result"
    }
   ],
   "source": [
    "y1.shape"
   ]
  },
  {
   "cell_type": "code",
   "execution_count": 17,
   "id": "a2b865ee",
   "metadata": {},
   "outputs": [],
   "source": [
    "feature_names = [f\"feature {i}\" for i in range(X1.shape[1])]\n",
    "\n",
    "lasso = LassoCV().fit(X1, y1.ravel())\n",
    "importance = np.abs(lasso.coef_)"
   ]
  },
  {
   "cell_type": "code",
   "execution_count": 18,
   "id": "7884c394",
   "metadata": {},
   "outputs": [
    {
     "data": {
      "image/png": "[encoded data removed]",
      "text/plain": [
       "<Figure size 432x288 with 1 Axes>"
      ]
     },
     "metadata": {
      "needs_background": "light"
     },
     "output_type": "display_data"
    },
    {
     "name": "stdout",
     "output_type": "stream",
     "text": [
      "[1.58257794e+17 0.00000000e+00 1.06062602e+20 0.00000000e+00\n",
      " 0.00000000e+00 0.00000000e+00 0.00000000e+00 0.00000000e+00\n",
      " 0.00000000e+00 0.00000000e+00 0.00000000e+00 0.00000000e+00\n",
      " 0.00000000e+00 0.00000000e+00 0.00000000e+00 0.00000000e+00\n",
      " 0.00000000e+00 0.00000000e+00 0.00000000e+00 0.00000000e+00\n",
      " 0.00000000e+00 0.00000000e+00 0.00000000e+00 0.00000000e+00\n",
      " 0.00000000e+00 0.00000000e+00 0.00000000e+00 0.00000000e+00\n",
      " 0.00000000e+00 0.00000000e+00 0.00000000e+00 0.00000000e+00\n",
      " 0.00000000e+00 0.00000000e+00 0.00000000e+00 0.00000000e+00\n",
      " 0.00000000e+00 0.00000000e+00 0.00000000e+00 0.00000000e+00\n",
      " 0.00000000e+00 0.00000000e+00 0.00000000e+00 0.00000000e+00\n",
      " 0.00000000e+00 0.00000000e+00 0.00000000e+00 0.00000000e+00\n",
      " 0.00000000e+00 0.00000000e+00 0.00000000e+00 0.00000000e+00\n",
      " 0.00000000e+00 0.00000000e+00]\n"
     ]
    }
   ],
   "source": [
    "plt.bar(height=importance, x=feature_names)\n",
    "plt.title(\"Feature importances via coefficients\")\n",
    "plt.show()\n",
    "print(importance)\n"
   ]
  },
  {
   "cell_type": "code",
   "execution_count": 19,
   "id": "64cafd91",
   "metadata": {},
   "outputs": [
    {
     "name": "stdout",
     "output_type": "stream",
     "text": [
      "Done in 0.086s\n"
     ]
    },
    {
     "name": "stderr",
     "output_type": "stream",
     "text": [
      "c:\\users\\user\\appdata\\local\\programs\\python\\python39\\lib\\site-packages\\sklearn\\utils\\validation.py:63: DataConversionWarning: A column-vector y was passed when a 1d array was expected. Please change the shape of y to (n_samples, ), for example using ravel().\n",
      "  return f(*args, **kwargs)\n"
     ]
    }
   ],
   "source": [
    "threshold = np.sort(importance)[-3] + .01 # check/modify these values\n",
    "\n",
    "tic = time()\n",
    "sfm = SelectFromModel(estimator=lasso, threshold=threshold).fit(X1, y1)\n",
    "toc = time()\n",
    "#print(f\"Features selected by SelectFromModel: {feature_names[sfm.get_support()]}\")\n",
    "print(f\"Done in {toc - tic:.3f}s\")"
   ]
  },
  {
   "cell_type": "code",
   "execution_count": 20,
   "id": "2dcde69d",
   "metadata": {},
   "outputs": [
    {
     "name": "stdout",
     "output_type": "stream",
     "text": [
      "[ 1.58257794e+17  0.00000000e+00 -1.06062602e+20 -0.00000000e+00\n",
      "  0.00000000e+00  0.00000000e+00  0.00000000e+00  0.00000000e+00\n",
      "  0.00000000e+00  0.00000000e+00  0.00000000e+00  0.00000000e+00\n",
      "  0.00000000e+00  0.00000000e+00  0.00000000e+00  0.00000000e+00\n",
      "  0.00000000e+00  0.00000000e+00  0.00000000e+00  0.00000000e+00\n",
      "  0.00000000e+00  0.00000000e+00  0.00000000e+00  0.00000000e+00\n",
      "  0.00000000e+00  0.00000000e+00  0.00000000e+00  0.00000000e+00\n",
      "  0.00000000e+00  0.00000000e+00  0.00000000e+00  0.00000000e+00\n",
      "  0.00000000e+00  0.00000000e+00  0.00000000e+00  0.00000000e+00\n",
      "  0.00000000e+00  0.00000000e+00  0.00000000e+00  0.00000000e+00\n",
      "  0.00000000e+00  0.00000000e+00  0.00000000e+00  0.00000000e+00\n",
      "  0.00000000e+00  0.00000000e+00  0.00000000e+00  0.00000000e+00\n",
      "  0.00000000e+00  0.00000000e+00  0.00000000e+00  0.00000000e+00\n",
      " -0.00000000e+00  0.00000000e+00]\n",
      "0.01\n",
      "<bound method SelectorMixin.get_support of SelectFromModel(estimator=LassoCV(), threshold=0.01)>\n",
      "[[0.0000000e+00 1.0757166e+04]\n",
      " [3.8883495e-06 1.0757146e+04]\n",
      " [7.7766991e-06 1.0757126e+04]\n",
      " ...\n",
      " [9.5253146e+04 6.3292379e+03]\n",
      " [9.7913156e+04 6.3292376e+03]\n",
      " [1.0000000e+05 6.3292374e+03]]\n"
     ]
    }
   ],
   "source": [
    "print(sfm.estimator_.coef_)\n",
    "print(sfm.threshold_)\n",
    "print(sfm.get_support)\n",
    "print(sfm.transform(X))"
   ]
  },
  {
   "cell_type": "code",
   "execution_count": 24,
   "id": "eac5f196",
   "metadata": {},
   "outputs": [],
   "source": [
    "col3 = [\"x_s\",\"time_s\", \"Temp\"] + [f\"X{i}\" for i in range(1, 48)] + [\"rho\", \"v\",\"p\"] "
   ]
  },
  {
   "cell_type": "code",
   "execution_count": 34,
   "id": "a981b776",
   "metadata": {},
   "outputs": [
    {
     "name": "stdout",
     "output_type": "stream",
     "text": [
      "         LassoCV\n",
      "0   1.582578e+17\n",
      "1   0.000000e+00\n",
      "2   1.060626e+20\n",
      "3   0.000000e+00\n",
      "4   0.000000e+00\n",
      "5   0.000000e+00\n",
      "6   0.000000e+00\n",
      "7   0.000000e+00\n",
      "8   0.000000e+00\n",
      "9   0.000000e+00\n",
      "10  0.000000e+00\n",
      "11  0.000000e+00\n",
      "12  0.000000e+00\n",
      "13  0.000000e+00\n",
      "14  0.000000e+00\n",
      "15  0.000000e+00\n",
      "16  0.000000e+00\n",
      "17  0.000000e+00\n",
      "18  0.000000e+00\n",
      "19  0.000000e+00\n",
      "20  0.000000e+00\n",
      "21  0.000000e+00\n",
      "22  0.000000e+00\n",
      "23  0.000000e+00\n",
      "24  0.000000e+00\n",
      "25  0.000000e+00\n",
      "26  0.000000e+00\n",
      "27  0.000000e+00\n",
      "28  0.000000e+00\n",
      "29  0.000000e+00\n",
      "30  0.000000e+00\n",
      "31  0.000000e+00\n",
      "32  0.000000e+00\n",
      "33  0.000000e+00\n",
      "34  0.000000e+00\n",
      "35  0.000000e+00\n",
      "36  0.000000e+00\n",
      "37  0.000000e+00\n",
      "38  0.000000e+00\n",
      "39  0.000000e+00\n",
      "40  0.000000e+00\n",
      "41  0.000000e+00\n",
      "42  0.000000e+00\n",
      "43  0.000000e+00\n",
      "44  0.000000e+00\n",
      "45  0.000000e+00\n",
      "46  0.000000e+00\n",
      "47  0.000000e+00\n",
      "48  0.000000e+00\n",
      "49  0.000000e+00\n",
      "50  0.000000e+00\n",
      "51  0.000000e+00\n",
      "52  0.000000e+00\n",
      "53  0.000000e+00\n"
     ]
    }
   ],
   "source": [
    "df2=pd.DataFrame(importance, columns=['LassoCV'])\n",
    "print(df2)\n"
   ]
  },
  {
   "cell_type": "code",
   "execution_count": null,
   "id": "225d6de8",
   "metadata": {},
   "outputs": [],
   "source": []
  },
  {
   "cell_type": "code",
   "execution_count": 35,
   "id": "ddd49179",
   "metadata": {
    "scrolled": true
   },
   "outputs": [
    {
     "data": {
      "text/html": [
       "<div>\n",
       "<style scoped>\n",
       "    .dataframe tbody tr th:only-of-type {\n",
       "        vertical-align: middle;\n",
       "    }\n",
       "\n",
       "    .dataframe tbody tr th {\n",
       "        vertical-align: top;\n",
       "    }\n",
       "\n",
       "    .dataframe thead th {\n",
       "        text-align: right;\n",
       "    }\n",
       "</style>\n",
       "<table border=\"1\" class=\"dataframe\">\n",
       "  <thead>\n",
       "    <tr style=\"text-align: right;\">\n",
       "      <th></th>\n",
       "      <th>LassoCV</th>\n",
       "    </tr>\n",
       "  </thead>\n",
       "  <tbody>\n",
       "    <tr>\n",
       "      <th>0</th>\n",
       "      <td>1.582578e+17</td>\n",
       "    </tr>\n",
       "    <tr>\n",
       "      <th>1</th>\n",
       "      <td>0.000000e+00</td>\n",
       "    </tr>\n",
       "    <tr>\n",
       "      <th>2</th>\n",
       "      <td>1.060626e+20</td>\n",
       "    </tr>\n",
       "    <tr>\n",
       "      <th>3</th>\n",
       "      <td>0.000000e+00</td>\n",
       "    </tr>\n",
       "    <tr>\n",
       "      <th>4</th>\n",
       "      <td>0.000000e+00</td>\n",
       "    </tr>\n",
       "  </tbody>\n",
       "</table>\n",
       "</div>"
      ],
      "text/plain": [
       "        LassoCV\n",
       "0  1.582578e+17\n",
       "1  0.000000e+00\n",
       "2  1.060626e+20\n",
       "3  0.000000e+00\n",
       "4  0.000000e+00"
      ]
     },
     "execution_count": 35,
     "metadata": {},
     "output_type": "execute_result"
    }
   ],
   "source": [
    "df2.head()\n"
   ]
  },
  {
   "cell_type": "code",
   "execution_count": 38,
   "id": "d3ca85e8",
   "metadata": {},
   "outputs": [],
   "source": [
    "Lasso_df_N2N= df2.loc[:].reset_index()\n",
    "Lasso_df_N2N.to_csv('Lasso_N2N.csv', index=False)"
   ]
  },
  {
   "cell_type": "code",
   "execution_count": null,
   "id": "8c0ccbc0",
   "metadata": {},
   "outputs": [],
   "source": []
  }
 ],
 "metadata": {
  "kernelspec": {
   "display_name": "Python 3 (ipykernel)",
   "language": "python",
   "name": "python3"
  },
  "language_info": {
   "codemirror_mode": {
    "name": "ipython",
    "version": 3
   },
   "file_extension": ".py",
   "mimetype": "text/x-python",
   "name": "python",
   "nbconvert_exporter": "python",
   "pygments_lexer": "ipython3",
   "version": "3.9.2"
  }
 },
 "nbformat": 4,
 "nbformat_minor": 5
}
