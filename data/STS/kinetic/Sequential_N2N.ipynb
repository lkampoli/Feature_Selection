{
 "cells": [
  {
   "cell_type": "code",
   "execution_count": 1,
   "id": "af05dc0b",
   "metadata": {},
   "outputs": [],
   "source": [
    "import matplotlib.pyplot as plt\n",
    "import numpy as np\n",
    "from sklearn.linear_model import LassoCV\n",
    "from sklearn.feature_selection import SelectFromModel\n",
    "from time import time\n",
    "from sklearn.ensemble import ExtraTreesRegressor\n",
    "import pandas as pd\n",
    "from sklearn.feature_selection import SequentialFeatureSelector"
   ]
  },
  {
   "cell_type": "code",
   "execution_count": 2,
   "id": "9d5220eb",
   "metadata": {},
   "outputs": [],
   "source": [
    "# https://scikit-learn.org/stable/auto_examples/feature_selection/plot_select_from_model_diabetes.html#sphx-glr-auto-examples-feature-selection-plot-select-from-model-diabetes-py"
   ]
  },
  {
   "cell_type": "code",
   "execution_count": 3,
   "id": "cdea834a",
   "metadata": {},
   "outputs": [
    {
     "data": {
      "text/html": [
       "<div>\n",
       "<style scoped>\n",
       "    .dataframe tbody tr th:only-of-type {\n",
       "        vertical-align: middle;\n",
       "    }\n",
       "\n",
       "    .dataframe tbody tr th {\n",
       "        vertical-align: top;\n",
       "    }\n",
       "\n",
       "    .dataframe thead th {\n",
       "        text-align: right;\n",
       "    }\n",
       "</style>\n",
       "<table border=\"1\" class=\"dataframe\">\n",
       "  <thead>\n",
       "    <tr style=\"text-align: right;\">\n",
       "      <th></th>\n",
       "      <th>x_s</th>\n",
       "      <th>time_s</th>\n",
       "      <th>Temp</th>\n",
       "      <th>X1</th>\n",
       "      <th>X2</th>\n",
       "      <th>X3</th>\n",
       "      <th>X4</th>\n",
       "      <th>X5</th>\n",
       "      <th>X6</th>\n",
       "      <th>X7</th>\n",
       "      <th>...</th>\n",
       "      <th>RVV38</th>\n",
       "      <th>RVV39</th>\n",
       "      <th>RVV40</th>\n",
       "      <th>RVV41</th>\n",
       "      <th>RVV42</th>\n",
       "      <th>RVV43</th>\n",
       "      <th>RVV44</th>\n",
       "      <th>RVV45</th>\n",
       "      <th>RVV46</th>\n",
       "      <th>RVV47</th>\n",
       "    </tr>\n",
       "  </thead>\n",
       "  <tbody>\n",
       "    <tr>\n",
       "      <th>0</th>\n",
       "      <td>0.000000</td>\n",
       "      <td>0.000000e+00</td>\n",
       "      <td>10757.166</td>\n",
       "      <td>0.999986</td>\n",
       "      <td>0.000014</td>\n",
       "      <td>2.397178e-10</td>\n",
       "      <td>4.558197e-15</td>\n",
       "      <td>9.939829e-20</td>\n",
       "      <td>2.485752e-24</td>\n",
       "      <td>7.129016e-29</td>\n",
       "      <td>...</td>\n",
       "      <td>-2.401320e-109</td>\n",
       "      <td>-5.311691e-112</td>\n",
       "      <td>-1.346084e-114</td>\n",
       "      <td>-3.908330e-117</td>\n",
       "      <td>-1.300201e-119</td>\n",
       "      <td>-4.956191e-122</td>\n",
       "      <td>-2.164807e-124</td>\n",
       "      <td>-1.083521e-126</td>\n",
       "      <td>-6.214598e-129</td>\n",
       "      <td>-4.115686e-131</td>\n",
       "    </tr>\n",
       "    <tr>\n",
       "      <th>1</th>\n",
       "      <td>0.000004</td>\n",
       "      <td>8.216688e-12</td>\n",
       "      <td>10757.146</td>\n",
       "      <td>0.999963</td>\n",
       "      <td>0.000037</td>\n",
       "      <td>1.815259e-09</td>\n",
       "      <td>1.240808e-13</td>\n",
       "      <td>1.154856e-17</td>\n",
       "      <td>1.419631e-21</td>\n",
       "      <td>2.233567e-25</td>\n",
       "      <td>...</td>\n",
       "      <td>4.313327e+01</td>\n",
       "      <td>4.319762e+01</td>\n",
       "      <td>4.302709e+01</td>\n",
       "      <td>4.261090e+01</td>\n",
       "      <td>4.193997e+01</td>\n",
       "      <td>4.100697e+01</td>\n",
       "      <td>3.980402e+01</td>\n",
       "      <td>3.819891e+01</td>\n",
       "      <td>3.036801e+01</td>\n",
       "      <td>-1.093747e+03</td>\n",
       "    </tr>\n",
       "    <tr>\n",
       "      <th>2</th>\n",
       "      <td>0.000008</td>\n",
       "      <td>1.643338e-11</td>\n",
       "      <td>10757.126</td>\n",
       "      <td>0.999941</td>\n",
       "      <td>0.000059</td>\n",
       "      <td>4.418282e-09</td>\n",
       "      <td>4.266114e-13</td>\n",
       "      <td>5.241519e-17</td>\n",
       "      <td>8.059130e-21</td>\n",
       "      <td>1.524676e-24</td>\n",
       "      <td>...</td>\n",
       "      <td>2.222941e+02</td>\n",
       "      <td>2.225802e+02</td>\n",
       "      <td>2.216414e+02</td>\n",
       "      <td>2.194194e+02</td>\n",
       "      <td>2.158637e+02</td>\n",
       "      <td>2.109328e+02</td>\n",
       "      <td>2.045732e+02</td>\n",
       "      <td>1.958232e+02</td>\n",
       "      <td>1.487166e+02</td>\n",
       "      <td>-5.628267e+03</td>\n",
       "    </tr>\n",
       "    <tr>\n",
       "      <th>3</th>\n",
       "      <td>0.000012</td>\n",
       "      <td>2.465006e-11</td>\n",
       "      <td>10757.106</td>\n",
       "      <td>0.999919</td>\n",
       "      <td>0.000081</td>\n",
       "      <td>8.070145e-09</td>\n",
       "      <td>9.922813e-13</td>\n",
       "      <td>1.496790e-16</td>\n",
       "      <td>2.742066e-20</td>\n",
       "      <td>6.035964e-24</td>\n",
       "      <td>...</td>\n",
       "      <td>6.379328e+02</td>\n",
       "      <td>6.386028e+02</td>\n",
       "      <td>6.357109e+02</td>\n",
       "      <td>6.290790e+02</td>\n",
       "      <td>6.185514e+02</td>\n",
       "      <td>6.039950e+02</td>\n",
       "      <td>5.852063e+02</td>\n",
       "      <td>5.583745e+02</td>\n",
       "      <td>4.014412e+02</td>\n",
       "      <td>-1.612388e+04</td>\n",
       "    </tr>\n",
       "    <tr>\n",
       "      <th>4</th>\n",
       "      <td>0.000029</td>\n",
       "      <td>6.058392e-11</td>\n",
       "      <td>10757.020</td>\n",
       "      <td>0.999822</td>\n",
       "      <td>0.000178</td>\n",
       "      <td>3.553516e-08</td>\n",
       "      <td>8.802196e-12</td>\n",
       "      <td>2.765142e-15</td>\n",
       "      <td>1.098811e-18</td>\n",
       "      <td>5.460371e-22</td>\n",
       "      <td>...</td>\n",
       "      <td>8.370745e+03</td>\n",
       "      <td>8.365424e+03</td>\n",
       "      <td>8.308980e+03</td>\n",
       "      <td>8.198153e+03</td>\n",
       "      <td>8.029840e+03</td>\n",
       "      <td>7.800562e+03</td>\n",
       "      <td>7.495944e+03</td>\n",
       "      <td>6.918945e+03</td>\n",
       "      <td>3.138381e+03</td>\n",
       "      <td>-2.091199e+05</td>\n",
       "    </tr>\n",
       "  </tbody>\n",
       "</table>\n",
       "<p>5 rows × 289 columns</p>\n",
       "</div>"
      ],
      "text/plain": [
       "        x_s        time_s       Temp        X1        X2            X3  \\\n",
       "0  0.000000  0.000000e+00  10757.166  0.999986  0.000014  2.397178e-10   \n",
       "1  0.000004  8.216688e-12  10757.146  0.999963  0.000037  1.815259e-09   \n",
       "2  0.000008  1.643338e-11  10757.126  0.999941  0.000059  4.418282e-09   \n",
       "3  0.000012  2.465006e-11  10757.106  0.999919  0.000081  8.070145e-09   \n",
       "4  0.000029  6.058392e-11  10757.020  0.999822  0.000178  3.553516e-08   \n",
       "\n",
       "             X4            X5            X6            X7  ...          RVV38  \\\n",
       "0  4.558197e-15  9.939829e-20  2.485752e-24  7.129016e-29  ... -2.401320e-109   \n",
       "1  1.240808e-13  1.154856e-17  1.419631e-21  2.233567e-25  ...   4.313327e+01   \n",
       "2  4.266114e-13  5.241519e-17  8.059130e-21  1.524676e-24  ...   2.222941e+02   \n",
       "3  9.922813e-13  1.496790e-16  2.742066e-20  6.035964e-24  ...   6.379328e+02   \n",
       "4  8.802196e-12  2.765142e-15  1.098811e-18  5.460371e-22  ...   8.370745e+03   \n",
       "\n",
       "           RVV39          RVV40          RVV41          RVV42          RVV43  \\\n",
       "0 -5.311691e-112 -1.346084e-114 -3.908330e-117 -1.300201e-119 -4.956191e-122   \n",
       "1   4.319762e+01   4.302709e+01   4.261090e+01   4.193997e+01   4.100697e+01   \n",
       "2   2.225802e+02   2.216414e+02   2.194194e+02   2.158637e+02   2.109328e+02   \n",
       "3   6.386028e+02   6.357109e+02   6.290790e+02   6.185514e+02   6.039950e+02   \n",
       "4   8.365424e+03   8.308980e+03   8.198153e+03   8.029840e+03   7.800562e+03   \n",
       "\n",
       "           RVV44          RVV45          RVV46          RVV47  \n",
       "0 -2.164807e-124 -1.083521e-126 -6.214598e-129 -4.115686e-131  \n",
       "1   3.980402e+01   3.819891e+01   3.036801e+01  -1.093747e+03  \n",
       "2   2.045732e+02   1.958232e+02   1.487166e+02  -5.628267e+03  \n",
       "3   5.852063e+02   5.583745e+02   4.014412e+02  -1.612388e+04  \n",
       "4   7.495944e+03   6.918945e+03   3.138381e+03  -2.091199e+05  \n",
       "\n",
       "[5 rows x 289 columns]"
      ]
     },
     "execution_count": 3,
     "metadata": {},
     "output_type": "execute_result"
    }
   ],
   "source": [
    "df = pd.read_csv(\"dataset_N2N.csv\", sep=\",\", header=0)\n",
    "df.head()"
   ]
  },
  {
   "cell_type": "code",
   "execution_count": 4,
   "id": "1e50337e",
   "metadata": {},
   "outputs": [],
   "source": [
    "X = df.iloc[:,0:54].values    # x_s, time_s, Temp, ni_n, na_n, rho, v, p, E, H\n",
    "y = df.iloc[:,54:55].values   # rhs[0:50]"
   ]
  },
  {
   "cell_type": "code",
   "execution_count": 5,
   "id": "46bb9477",
   "metadata": {},
   "outputs": [],
   "source": [
    "\n",
    "# df2=pd.DataFrame(X)\n",
    "# df2\n"
   ]
  },
  {
   "cell_type": "code",
   "execution_count": 6,
   "id": "39d87f79",
   "metadata": {},
   "outputs": [],
   "source": [
    "feature_names = [\"x_s\",\"time_s\", \"Temp\"] + [f\"X{i}\" for i in range(1, 48)] + [\"rho\", \"v\",\"p\"] + [f\"RDm{i}\" for i in range(1, 47)] + [f\"RDa{i}\" for i in range(1, 47)] + [f\"RVTm{i}\" for i in range(1, 47)] + [f\"RVTa{i}\" for i in range(1, 47)] + [f\"RVV{i}\" for i in range(1, 47)]\n",
    "list1 = list(feature_names)"
   ]
  },
  {
   "cell_type": "code",
   "execution_count": 7,
   "id": "9bcc956c",
   "metadata": {},
   "outputs": [],
   "source": [
    "est = ExtraTreesRegressor(n_estimators=50)\n",
    "est = est.fit(X, y.ravel())"
   ]
  },
  {
   "cell_type": "code",
   "execution_count": 8,
   "id": "252616bd",
   "metadata": {},
   "outputs": [],
   "source": [
    "tic_fwd = time()\n",
    "sfs_forward = SequentialFeatureSelector(est, n_features_to_select=2, direction=\"forward\").fit(X, y.ravel())\n",
    "toc_fwd = time()"
   ]
  },
  {
   "cell_type": "code",
   "execution_count": 9,
   "id": "bdff6ed6",
   "metadata": {},
   "outputs": [],
   "source": [
    "tic_bwd = time()\n",
    "sfs_backward = SequentialFeatureSelector(est, n_features_to_select=2, direction=\"backward\").fit(X, y.ravel())\n",
    "toc_bwd = time()"
   ]
  },
  {
   "cell_type": "code",
   "execution_count": 15,
   "id": "5e0bf307",
   "metadata": {},
   "outputs": [],
   "source": [
    "feature_names_v = list1[0:54:1]\n",
    "a = np.array(feature_names_v)"
   ]
  },
  {
   "cell_type": "code",
   "execution_count": 16,
   "id": "6fecab94",
   "metadata": {},
   "outputs": [
    {
     "data": {
      "text/plain": [
       "array([False, False, False, False, False, False, False, False, False,\n",
       "        True, False, False, False, False, False, False, False, False,\n",
       "       False, False, False, False, False, False, False, False, False,\n",
       "       False, False, False, False, False, False, False, False, False,\n",
       "       False, False, False, False, False, False, False, False, False,\n",
       "       False, False, False, False, False,  True, False, False, False])"
      ]
     },
     "execution_count": 16,
     "metadata": {},
     "output_type": "execute_result"
    }
   ],
   "source": [
    "sfs_forward.get_support()"
   ]
  },
  {
   "cell_type": "code",
   "execution_count": 17,
   "id": "a085bb24",
   "metadata": {},
   "outputs": [
    {
     "data": {
      "text/plain": [
       "array([False, False, False, False, False, False, False, False, False,\n",
       "        True, False, False, False, False, False, False, False, False,\n",
       "       False, False, False, False, False, False, False, False, False,\n",
       "       False, False, False, False, False, False, False, False, False,\n",
       "       False, False, False, False, False, False, False, False, False,\n",
       "       False, False, False, False, False,  True, False, False, False])"
      ]
     },
     "execution_count": 17,
     "metadata": {},
     "output_type": "execute_result"
    }
   ],
   "source": [
    "sfs_backward.get_support()"
   ]
  },
  {
   "cell_type": "code",
   "execution_count": 18,
   "id": "645a177e",
   "metadata": {},
   "outputs": [],
   "source": [
    "# sfs_forward.get_params()"
   ]
  },
  {
   "cell_type": "code",
   "execution_count": 19,
   "id": "0077721e",
   "metadata": {},
   "outputs": [
    {
     "name": "stdout",
     "output_type": "stream",
     "text": [
      "Features selected by forward sequential selection: ['X7' 'rho']\n",
      "Done in 30.940s\n"
     ]
    }
   ],
   "source": [
    "print(\n",
    "    \"Features selected by forward sequential selection: \"\n",
    "    f\"{a[sfs_forward.get_support()]}\"\n",
    ")\n",
    "print(f\"Done in {toc_fwd - tic_fwd:.3f}s\") "
   ]
  },
  {
   "cell_type": "code",
   "execution_count": 20,
   "id": "8f0d2892",
   "metadata": {},
   "outputs": [
    {
     "name": "stdout",
     "output_type": "stream",
     "text": [
      "Features selected by backward sequential selection: ['X7' 'rho']\n",
      "Done in 1681.586s\n"
     ]
    }
   ],
   "source": [
    "print(\n",
    "    \"Features selected by backward sequential selection: \"\n",
    "    f\"{a[sfs_backward.get_support()]}\"\n",
    ")\n",
    "print(f\"Done in {toc_bwd - tic_bwd:.3f}s\")\n"
   ]
  },
  {
   "cell_type": "code",
   "execution_count": null,
   "id": "e99666dd",
   "metadata": {},
   "outputs": [],
   "source": []
  },
  {
   "cell_type": "code",
   "execution_count": null,
   "id": "b379f123",
   "metadata": {},
   "outputs": [],
   "source": []
  },
  {
   "cell_type": "code",
   "execution_count": null,
   "id": "b3587e06",
   "metadata": {},
   "outputs": [],
   "source": [
    "# Сравнение SelectFromModel и SFS\n",
    "# Чтобы закончить, мы должны отметить, что SelectFromModelэто значительно быстрее, чем SFS. Действительно, SelectFromModelнужно только соответствовать модели один раз, в то время как SFS должна перекрестно проверять множество различных моделей для каждой из итераций. Однако SFS работает с любой моделью, в то время SelectFromModelкак требует, чтобы базовый оценщик предоставлял coef_атрибут или feature_importances_атрибут. Прямой SFS быстрее, чем обратный SFS, потому что ему нужно только выполнять n_features_to_select = 2итерации, в то время как обратный SFS должен выполнять n_features - n_features_to_select = 8итерации."
   ]
  },
  {
   "cell_type": "code",
   "execution_count": null,
   "id": "7f22c123",
   "metadata": {},
   "outputs": [],
   "source": []
  },
  {
   "cell_type": "code",
   "execution_count": null,
   "id": "4baaeef4",
   "metadata": {},
   "outputs": [],
   "source": []
  },
  {
   "cell_type": "code",
   "execution_count": null,
   "id": "1709399e",
   "metadata": {},
   "outputs": [],
   "source": []
  },
  {
   "cell_type": "code",
   "execution_count": null,
   "id": "5681c2aa",
   "metadata": {},
   "outputs": [],
   "source": []
  }
 ],
 "metadata": {
  "kernelspec": {
   "display_name": "Python 3 (ipykernel)",
   "language": "python",
   "name": "python3"
  },
  "language_info": {
   "codemirror_mode": {
    "name": "ipython",
    "version": 3
   },
   "file_extension": ".py",
   "mimetype": "text/x-python",
   "name": "python",
   "nbconvert_exporter": "python",
   "pygments_lexer": "ipython3",
   "version": "3.9.2"
  }
 },
 "nbformat": 4,
 "nbformat_minor": 5
}
