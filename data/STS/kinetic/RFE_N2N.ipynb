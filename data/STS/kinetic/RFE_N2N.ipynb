{
 "cells": [
  {
   "cell_type": "code",
   "execution_count": 112,
   "id": "557ada87",
   "metadata": {},
   "outputs": [],
   "source": [
    "import numpy as np\n",
    "import pandas as pd\n",
    "import matplotlib.pyplot as plt\n",
    "from sklearn.feature_selection import SelectKBest\n",
    "from sklearn.feature_selection import chi2, f_classif, mutual_info_classif # classification\n",
    "from sklearn.feature_selection import f_regression, mutual_info_regression # regression\n",
    "from sklearn.feature_selection import RFE, RFECV\n",
    "from sklearn.model_selection import train_test_split, StratifiedKFold, KFold\n",
    "from sklearn.preprocessing import MinMaxScaler, StandardScaler\n",
    "from sklearn.svm import LinearSVR, SVR, SVC\n",
    "from sklearn.pipeline import make_pipeline\n",
    "from sklearn.metrics import r2_score\n",
    "from sklearn.svm import SVC\n",
    "from sklearn.datasets import load_digits\n",
    "from sklearn.feature_selection import RFE\n",
    "import matplotlib.pyplot as plt\n",
    "from sklearn.model_selection import cross_validate\n",
    "from sklearn.pipeline import Pipeline\n",
    "from sklearn.model_selection import RepeatedStratifiedKFold, RepeatedKFold\n",
    "from sklearn.model_selection import cross_val_score\n",
    "\n",
    "from sklearn.ensemble import GradientBoostingClassifier"
   ]
  },
  {
   "cell_type": "code",
   "execution_count": 2,
   "id": "e9a4f6be",
   "metadata": {},
   "outputs": [
    {
     "data": {
      "text/html": [
       "<div>\n",
       "<style scoped>\n",
       "    .dataframe tbody tr th:only-of-type {\n",
       "        vertical-align: middle;\n",
       "    }\n",
       "\n",
       "    .dataframe tbody tr th {\n",
       "        vertical-align: top;\n",
       "    }\n",
       "\n",
       "    .dataframe thead th {\n",
       "        text-align: right;\n",
       "    }\n",
       "</style>\n",
       "<table border=\"1\" class=\"dataframe\">\n",
       "  <thead>\n",
       "    <tr style=\"text-align: right;\">\n",
       "      <th></th>\n",
       "      <th>x_s</th>\n",
       "      <th>time_s</th>\n",
       "      <th>Temp</th>\n",
       "      <th>X1</th>\n",
       "      <th>X2</th>\n",
       "      <th>X3</th>\n",
       "      <th>X4</th>\n",
       "      <th>X5</th>\n",
       "      <th>X6</th>\n",
       "      <th>X7</th>\n",
       "      <th>...</th>\n",
       "      <th>RVV38</th>\n",
       "      <th>RVV39</th>\n",
       "      <th>RVV40</th>\n",
       "      <th>RVV41</th>\n",
       "      <th>RVV42</th>\n",
       "      <th>RVV43</th>\n",
       "      <th>RVV44</th>\n",
       "      <th>RVV45</th>\n",
       "      <th>RVV46</th>\n",
       "      <th>RVV47</th>\n",
       "    </tr>\n",
       "  </thead>\n",
       "  <tbody>\n",
       "    <tr>\n",
       "      <th>0</th>\n",
       "      <td>0.000000</td>\n",
       "      <td>0.000000e+00</td>\n",
       "      <td>10757.166</td>\n",
       "      <td>0.999986</td>\n",
       "      <td>0.000014</td>\n",
       "      <td>2.397178e-10</td>\n",
       "      <td>4.558197e-15</td>\n",
       "      <td>9.939829e-20</td>\n",
       "      <td>2.485752e-24</td>\n",
       "      <td>7.129016e-29</td>\n",
       "      <td>...</td>\n",
       "      <td>-2.401320e-109</td>\n",
       "      <td>-5.311691e-112</td>\n",
       "      <td>-1.346084e-114</td>\n",
       "      <td>-3.908330e-117</td>\n",
       "      <td>-1.300201e-119</td>\n",
       "      <td>-4.956191e-122</td>\n",
       "      <td>-2.164807e-124</td>\n",
       "      <td>-1.083521e-126</td>\n",
       "      <td>-6.214598e-129</td>\n",
       "      <td>-4.115686e-131</td>\n",
       "    </tr>\n",
       "    <tr>\n",
       "      <th>1</th>\n",
       "      <td>0.000004</td>\n",
       "      <td>8.216688e-12</td>\n",
       "      <td>10757.146</td>\n",
       "      <td>0.999963</td>\n",
       "      <td>0.000037</td>\n",
       "      <td>1.815259e-09</td>\n",
       "      <td>1.240808e-13</td>\n",
       "      <td>1.154856e-17</td>\n",
       "      <td>1.419631e-21</td>\n",
       "      <td>2.233567e-25</td>\n",
       "      <td>...</td>\n",
       "      <td>4.313327e+01</td>\n",
       "      <td>4.319762e+01</td>\n",
       "      <td>4.302709e+01</td>\n",
       "      <td>4.261090e+01</td>\n",
       "      <td>4.193997e+01</td>\n",
       "      <td>4.100697e+01</td>\n",
       "      <td>3.980402e+01</td>\n",
       "      <td>3.819891e+01</td>\n",
       "      <td>3.036801e+01</td>\n",
       "      <td>-1.093747e+03</td>\n",
       "    </tr>\n",
       "    <tr>\n",
       "      <th>2</th>\n",
       "      <td>0.000008</td>\n",
       "      <td>1.643338e-11</td>\n",
       "      <td>10757.126</td>\n",
       "      <td>0.999941</td>\n",
       "      <td>0.000059</td>\n",
       "      <td>4.418282e-09</td>\n",
       "      <td>4.266114e-13</td>\n",
       "      <td>5.241519e-17</td>\n",
       "      <td>8.059130e-21</td>\n",
       "      <td>1.524676e-24</td>\n",
       "      <td>...</td>\n",
       "      <td>2.222941e+02</td>\n",
       "      <td>2.225802e+02</td>\n",
       "      <td>2.216414e+02</td>\n",
       "      <td>2.194194e+02</td>\n",
       "      <td>2.158637e+02</td>\n",
       "      <td>2.109328e+02</td>\n",
       "      <td>2.045732e+02</td>\n",
       "      <td>1.958232e+02</td>\n",
       "      <td>1.487166e+02</td>\n",
       "      <td>-5.628267e+03</td>\n",
       "    </tr>\n",
       "    <tr>\n",
       "      <th>3</th>\n",
       "      <td>0.000012</td>\n",
       "      <td>2.465006e-11</td>\n",
       "      <td>10757.106</td>\n",
       "      <td>0.999919</td>\n",
       "      <td>0.000081</td>\n",
       "      <td>8.070145e-09</td>\n",
       "      <td>9.922813e-13</td>\n",
       "      <td>1.496790e-16</td>\n",
       "      <td>2.742066e-20</td>\n",
       "      <td>6.035964e-24</td>\n",
       "      <td>...</td>\n",
       "      <td>6.379328e+02</td>\n",
       "      <td>6.386028e+02</td>\n",
       "      <td>6.357109e+02</td>\n",
       "      <td>6.290790e+02</td>\n",
       "      <td>6.185514e+02</td>\n",
       "      <td>6.039950e+02</td>\n",
       "      <td>5.852063e+02</td>\n",
       "      <td>5.583745e+02</td>\n",
       "      <td>4.014412e+02</td>\n",
       "      <td>-1.612388e+04</td>\n",
       "    </tr>\n",
       "    <tr>\n",
       "      <th>4</th>\n",
       "      <td>0.000029</td>\n",
       "      <td>6.058392e-11</td>\n",
       "      <td>10757.020</td>\n",
       "      <td>0.999822</td>\n",
       "      <td>0.000178</td>\n",
       "      <td>3.553516e-08</td>\n",
       "      <td>8.802196e-12</td>\n",
       "      <td>2.765142e-15</td>\n",
       "      <td>1.098811e-18</td>\n",
       "      <td>5.460371e-22</td>\n",
       "      <td>...</td>\n",
       "      <td>8.370745e+03</td>\n",
       "      <td>8.365424e+03</td>\n",
       "      <td>8.308980e+03</td>\n",
       "      <td>8.198153e+03</td>\n",
       "      <td>8.029840e+03</td>\n",
       "      <td>7.800562e+03</td>\n",
       "      <td>7.495944e+03</td>\n",
       "      <td>6.918945e+03</td>\n",
       "      <td>3.138381e+03</td>\n",
       "      <td>-2.091199e+05</td>\n",
       "    </tr>\n",
       "  </tbody>\n",
       "</table>\n",
       "<p>5 rows × 289 columns</p>\n",
       "</div>"
      ],
      "text/plain": [
       "        x_s        time_s       Temp        X1        X2            X3  \\\n",
       "0  0.000000  0.000000e+00  10757.166  0.999986  0.000014  2.397178e-10   \n",
       "1  0.000004  8.216688e-12  10757.146  0.999963  0.000037  1.815259e-09   \n",
       "2  0.000008  1.643338e-11  10757.126  0.999941  0.000059  4.418282e-09   \n",
       "3  0.000012  2.465006e-11  10757.106  0.999919  0.000081  8.070145e-09   \n",
       "4  0.000029  6.058392e-11  10757.020  0.999822  0.000178  3.553516e-08   \n",
       "\n",
       "             X4            X5            X6            X7  ...          RVV38  \\\n",
       "0  4.558197e-15  9.939829e-20  2.485752e-24  7.129016e-29  ... -2.401320e-109   \n",
       "1  1.240808e-13  1.154856e-17  1.419631e-21  2.233567e-25  ...   4.313327e+01   \n",
       "2  4.266114e-13  5.241519e-17  8.059130e-21  1.524676e-24  ...   2.222941e+02   \n",
       "3  9.922813e-13  1.496790e-16  2.742066e-20  6.035964e-24  ...   6.379328e+02   \n",
       "4  8.802196e-12  2.765142e-15  1.098811e-18  5.460371e-22  ...   8.370745e+03   \n",
       "\n",
       "           RVV39          RVV40          RVV41          RVV42          RVV43  \\\n",
       "0 -5.311691e-112 -1.346084e-114 -3.908330e-117 -1.300201e-119 -4.956191e-122   \n",
       "1   4.319762e+01   4.302709e+01   4.261090e+01   4.193997e+01   4.100697e+01   \n",
       "2   2.225802e+02   2.216414e+02   2.194194e+02   2.158637e+02   2.109328e+02   \n",
       "3   6.386028e+02   6.357109e+02   6.290790e+02   6.185514e+02   6.039950e+02   \n",
       "4   8.365424e+03   8.308980e+03   8.198153e+03   8.029840e+03   7.800562e+03   \n",
       "\n",
       "           RVV44          RVV45          RVV46          RVV47  \n",
       "0 -2.164807e-124 -1.083521e-126 -6.214598e-129 -4.115686e-131  \n",
       "1   3.980402e+01   3.819891e+01   3.036801e+01  -1.093747e+03  \n",
       "2   2.045732e+02   1.958232e+02   1.487166e+02  -5.628267e+03  \n",
       "3   5.852063e+02   5.583745e+02   4.014412e+02  -1.612388e+04  \n",
       "4   7.495944e+03   6.918945e+03   3.138381e+03  -2.091199e+05  \n",
       "\n",
       "[5 rows x 289 columns]"
      ]
     },
     "execution_count": 2,
     "metadata": {},
     "output_type": "execute_result"
    }
   ],
   "source": [
    "df = pd.read_csv(\"dataset_N2N.csv\", sep=\",\", header=0)\n",
    "df.head()"
   ]
  },
  {
   "cell_type": "code",
   "execution_count": null,
   "id": "38a72efe",
   "metadata": {},
   "outputs": [],
   "source": []
  },
  {
   "cell_type": "code",
   "execution_count": null,
   "id": "fcb3013c",
   "metadata": {},
   "outputs": [],
   "source": []
  },
  {
   "cell_type": "code",
   "execution_count": 23,
   "id": "71837d24",
   "metadata": {},
   "outputs": [
    {
     "name": "stdout",
     "output_type": "stream",
     "text": [
      "(1936, 289)\n",
      "x= (1936, 54)\n",
      "y= (1936, 1)\n"
     ]
    }
   ],
   "source": [
    "# with open('../../data/dataset_N2N_rhs.dat.OK') as f:\n",
    "#     lines = (line for line in f if not line.startswith('#'))\n",
    "#     data = np.loadtxt(lines, skiprows=0)\n",
    "\n",
    "X = df.iloc[:,0:54].values    # x_s, time_s, Temp, ni_n, na_n, rho, v, p, E, H\n",
    "y = df.iloc[:,54:55].values  # rhs[0:50]\n",
    "\n",
    "print(df.shape)\n",
    "print(\"x=\",X.shape)\n",
    "print(\"y=\",y.shape)"
   ]
  },
  {
   "cell_type": "code",
   "execution_count": null,
   "id": "5c9e1c73",
   "metadata": {},
   "outputs": [],
   "source": []
  },
  {
   "cell_type": "code",
   "execution_count": 39,
   "id": "69b78ed5",
   "metadata": {},
   "outputs": [],
   "source": [
    "x_train, x_test, y_train, y_test = train_test_split(X, y, train_size=0.75, test_size=0.25, random_state=69)\n",
    "#"
   ]
  },
  {
   "cell_type": "code",
   "execution_count": 25,
   "id": "9f438ae5",
   "metadata": {},
   "outputs": [],
   "source": [
    "sc_x = StandardScaler()\n",
    "#sc_y = StandardScaler()\n",
    "#X = sc_x.fit_transform(X)\n",
    "#\n",
    "## fit scaler\n",
    "#sc_x.fit(x_train)\n",
    "#\n",
    "## transform training dataset\n",
    "#x_train = sc_x.transform(x_train)\n",
    "#\n",
    "## transform test dataset\n",
    "#x_test = sc_x.transform(x_test)\n",
    "#\n",
    "## fit scaler on training dataset\n",
    "#sc_y.fit(y_train)\n",
    "#\n",
    "## transform training dataset\n",
    "#y_train = sc_y.transform(y_train)\n",
    "#\n",
    "## transform test dataset\n",
    "#y_test = sc_y.transform(y_test)"
   ]
  },
  {
   "cell_type": "code",
   "execution_count": 26,
   "id": "b3bbec6e",
   "metadata": {},
   "outputs": [
    {
     "data": {
      "image/png": "[encoded data removed]",
      "text/plain": [
       "<Figure size 504x432 with 1 Axes>"
      ]
     },
     "metadata": {
      "needs_background": "light"
     },
     "output_type": "display_data"
    }
   ],
   "source": [
    "variances = pd.Series(X.var(axis=0)) #дисперсию вдоль указанной оси.\n",
    "fig, ax = plt.subplots(figsize=(7,6))\n",
    "variances.sort_values().plot(kind='barh', ax=ax)\n",
    "ax.vlines(0.1, ymin=-1, ymax=25, colors='red')\n",
    "ax.set_title('Variances of dummy features');\n",
    "plt.show()"
   ]
  },
  {
   "cell_type": "code",
   "execution_count": 104,
   "id": "07ff7d12",
   "metadata": {},
   "outputs": [
    {
     "name": "stdout",
     "output_type": "stream",
     "text": [
      "[ 1  3  1  2  5  4 12 14  9  7  8 10 11 13 15 16 17 18 19 20 21 22 23 24\n",
      " 25 26 27 28 29 30 31 32 33 34 35 36 37 38 39 40 41 42 43 44 45 46 47 50\n",
      " 49 48  1  6  1  1]\n",
      "[ True False  True False False False False False False False False False\n",
      " False False False False False False False False False False False False\n",
      " False False False False False False False False False False False False\n",
      " False False False False False False False False False False False False\n",
      " False False  True False  True  True]\n",
      "[ 1  3  1  2  5  4 12 14  9  7  8 10 11 13 15 16 17 18 19 20 21 22 23 24\n",
      " 25 26 27 28 29 30 31 32 33 34 35 36 37 38 39 40 41 42 43 44 45 46 47 50\n",
      " 49 48  1  6  1  1]\n",
      "5\n"
     ]
    }
   ],
   "source": [
    "# Create the RFE object and rank each pixel\n",
    "svc = SVR(kernel=\"linear\", C=1)\n",
    "rfe = RFE(estimator=svc, n_features_to_select=5, step=1)\n",
    "rfe.fit(X, y.ravel())\n",
    "ranking = rfe.ranking_.reshape(X[0].shape)\n",
    "print(ranking)  # ранжирование признаков \n",
    "print(rfe.support_) # массив, указыв. был выбран признак или нет\n",
    "print(rfe.ranking_) #\n",
    "print(rfe.n_features_) #\n",
    "\n"
   ]
  },
  {
   "cell_type": "code",
   "execution_count": null,
   "id": "525d8349",
   "metadata": {},
   "outputs": [],
   "source": []
  },
  {
   "cell_type": "code",
   "execution_count": null,
   "id": "5a2bf3f1",
   "metadata": {},
   "outputs": [],
   "source": []
  },
  {
   "cell_type": "code",
   "execution_count": 28,
   "id": "79a54b9b",
   "metadata": {},
   "outputs": [],
   "source": [
    "# Create the RFE object and compute a cross-validated score.\n",
    "svc = SVR(kernel=\"linear\")\n"
   ]
  },
  {
   "cell_type": "code",
   "execution_count": 99,
   "id": "e0a464dc",
   "metadata": {},
   "outputs": [
    {
     "data": {
      "text/plain": [
       "RFECV(cv=KFold(n_splits=5, random_state=None, shuffle=False),\n",
       "      estimator=SVR(C=1, kernel='linear'), min_features_to_select=5,\n",
       "      scoring='r2')"
      ]
     },
     "execution_count": 99,
     "metadata": {},
     "output_type": "execute_result"
    }
   ],
   "source": [
    "min_features_to_select = 5  # Minimum number of features to consider\n",
    "rfecv = RFECV(\n",
    "    estimator=svc,\n",
    "    step=1,\n",
    "    cv=KFold(n_splits=5),\n",
    "    scoring=\"r2\",\n",
    "    min_features_to_select=min_features_to_select,\n",
    ")\n",
    "rfecv.fit(X, y.ravel())"
   ]
  },
  {
   "cell_type": "code",
   "execution_count": 106,
   "id": "6b76deaa",
   "metadata": {},
   "outputs": [
    {
     "data": {
      "text/plain": [
       "RFECV(cv=KFold(n_splits=5, random_state=None, shuffle=False),\n",
       "      estimator=SVR(C=1, kernel='linear'), min_features_to_select=5,\n",
       "      scoring='r2')"
      ]
     },
     "execution_count": 106,
     "metadata": {},
     "output_type": "execute_result"
    }
   ],
   "source": [
    "rfecv.fit(x_train, y_train.ravel())"
   ]
  },
  {
   "cell_type": "code",
   "execution_count": 100,
   "id": "4e22ca9f",
   "metadata": {},
   "outputs": [
    {
     "name": "stdout",
     "output_type": "stream",
     "text": [
      "[ 1  3  1  2  5  4 12 14  9  7  8 10 11 13 15 16 17 18 19 20 21 22 23 24\n",
      " 25 26 27 28 29 30 31 32 33 34 35 36 37 38 39 40 41 42 43 44 45 46 47 50\n",
      " 49 48  1  6  1  1]\n",
      "[ True False  True False False False False False False False False False\n",
      " False False False False False False False False False False False False\n",
      " False False False False False False False False False False False False\n",
      " False False False False False False False False False False False False\n",
      " False False  True False  True  True]\n"
     ]
    }
   ],
   "source": [
    "print(rfecv.ranking_)  # ранжирование признаков \n",
    "print(rfecv.support_) # массив, указыв. был выбран признак или нет\n",
    "# print(rfe.ranking_) #\n",
    "# print(rfe.n_features_) #"
   ]
  },
  {
   "cell_type": "code",
   "execution_count": 107,
   "id": "68deea7d",
   "metadata": {},
   "outputs": [
    {
     "name": "stdout",
     "output_type": "stream",
     "text": [
      "[ 1  3  1  2  5  4 12 14  9  7  8 10 11 13 15 16 17 18 19 20 21 22 23 24\n",
      " 25 26 27 28 29 30 31 32 33 34 35 36 37 38 39 40 41 42 43 44 45 46 47 50\n",
      " 49 48  1  6  1  1]\n",
      "[ True False  True False False False False False False False False False\n",
      " False False False False False False False False False False False False\n",
      " False False False False False False False False False False False False\n",
      " False False False False False False False False False False False False\n",
      " False False  True False  True  True]\n"
     ]
    }
   ],
   "source": [
    "print(rfecv.ranking_)  # ранжирование признаков \n",
    "print(rfecv.support_) "
   ]
  },
  {
   "cell_type": "code",
   "execution_count": 108,
   "id": "16587755",
   "metadata": {},
   "outputs": [
    {
     "name": "stdout",
     "output_type": "stream",
     "text": [
      "Optimal number of features : 5\n"
     ]
    }
   ],
   "source": [
    "print(\"Optimal number of features : %d\" % rfecv.n_features_)"
   ]
  },
  {
   "cell_type": "code",
   "execution_count": 109,
   "id": "5248dc02",
   "metadata": {},
   "outputs": [
    {
     "data": {
      "text/plain": [
       "array([-0.0769981, -0.0769981, -0.0769981, -0.0769981, -0.0769981,\n",
       "       -0.0769981, -0.0769981, -0.0769981, -0.0769981, -0.0769981,\n",
       "       -0.0769981, -0.0769981, -0.0769981, -0.0769981, -0.0769981,\n",
       "       -0.0769981, -0.0769981, -0.0769981, -0.0769981, -0.0769981,\n",
       "       -0.0769981, -0.0769981, -0.0769981, -0.0769981, -0.0769981,\n",
       "       -0.0769981, -0.0769981, -0.0769981, -0.0769981, -0.0769981,\n",
       "       -0.0769981, -0.0769981, -0.0769981, -0.0769981, -0.0769981,\n",
       "       -0.0769981, -0.0769981, -0.0769981, -0.0769981, -0.0769981,\n",
       "       -0.0769981, -0.0769981, -0.0769981, -0.0769981, -0.0769981,\n",
       "       -0.0769981, -0.0769981, -0.0769981, -0.0769981, -0.0769981])"
      ]
     },
     "execution_count": 109,
     "metadata": {},
     "output_type": "execute_result"
    }
   ],
   "source": [
    "rfecv.grid_scores_  # представьте баллы перекрестной валидации"
   ]
  },
  {
   "cell_type": "code",
   "execution_count": 116,
   "id": "7481e5c1",
   "metadata": {
    "scrolled": true
   },
   "outputs": [
    {
     "name": "stdout",
     "output_type": "stream",
     "text": [
      "[-1.6171160e+47 -2.4892276e+31 -1.4739565e+31]\n",
      "[-0.13156996 -0.12342697 -0.12342697]\n"
     ]
    }
   ],
   "source": [
    "scores = cross_validate(rfecv, X, y.ravel(), cv = 3,\n",
    "                        scoring = ('r2', 'neg_mean_squared_error'),\n",
    "                        return_train_score = True)\n",
    "print(scores['test_neg_mean_squared_error'])\n",
    "print(scores['train_r2'])"
   ]
  },
  {
   "cell_type": "code",
   "execution_count": 110,
   "id": "24a96577",
   "metadata": {},
   "outputs": [
    {
     "data": {
      "image/png": "[encoded data removed]",
      "text/plain": [
       "<Figure size 432x288 with 1 Axes>"
      ]
     },
     "metadata": {
      "needs_background": "light"
     },
     "output_type": "display_data"
    }
   ],
   "source": [
    "# Plot number of features VS. cross-validation scores\n",
    "plt.figure()\n",
    "plt.xlabel(\"Number of features selected\")\n",
    "plt.ylabel(\"Cross validation score (r2)\")\n",
    "plt.plot(\n",
    "    range(min_features_to_select, len(rfecv.grid_scores_) + min_features_to_select),\n",
    "    rfecv.grid_scores_,\n",
    ")\n",
    "plt.show()"
   ]
  },
  {
   "cell_type": "code",
   "execution_count": null,
   "id": "c087c58c",
   "metadata": {},
   "outputs": [],
   "source": []
  },
  {
   "cell_type": "code",
   "execution_count": 36,
   "id": "4f65f193",
   "metadata": {},
   "outputs": [],
   "source": [
    "# # Создатьобъект RFE и ранг каждого пикселя\n",
    "# svc1= SVC(kernel=\"linear\", C=1)\n",
    "# rfe1 = RFE(estimator=svc, n_features_to_select=1, step=1)\n",
    "# rfe1.fit(X, y.ravel())\n",
    "# ranking1 = rfe1.ranking_.reshape(y.shape)\n",
    "\n",
    "# # Plot pixel ranking\n",
    "# plt.matshow(ranking1, cmap=plt.cm.Blues)\n",
    "# plt.colorbar()\n",
    "# plt.title(\"Ранжирование пикселей с помощью RFE\")\n",
    "# plt.show()\n",
    "\n",
    "# https://scikit-learn.org/stable/auto_examples/feature_selection/plot_rfe_digits.html#sphx-glr-auto-examples-feature-selection-plot-rfe-digits-py"
   ]
  },
  {
   "cell_type": "code",
   "execution_count": null,
   "id": "ffd0fcb8",
   "metadata": {},
   "outputs": [],
   "source": []
  },
  {
   "cell_type": "code",
   "execution_count": null,
   "id": "96bbd3ca",
   "metadata": {},
   "outputs": [],
   "source": []
  },
  {
   "cell_type": "code",
   "execution_count": null,
   "id": "a67725b4",
   "metadata": {},
   "outputs": [],
   "source": []
  },
  {
   "cell_type": "code",
   "execution_count": null,
   "id": "eb558813",
   "metadata": {},
   "outputs": [],
   "source": []
  },
  {
   "cell_type": "code",
   "execution_count": null,
   "id": "bc10a1c1",
   "metadata": {},
   "outputs": [],
   "source": []
  },
  {
   "cell_type": "code",
   "execution_count": null,
   "id": "6c529c59",
   "metadata": {},
   "outputs": [],
   "source": []
  }
 ],
 "metadata": {
  "kernelspec": {
   "display_name": "Python 3 (ipykernel)",
   "language": "python",
   "name": "python3"
  },
  "language_info": {
   "codemirror_mode": {
    "name": "ipython",
    "version": 3
   },
   "file_extension": ".py",
   "mimetype": "text/x-python",
   "name": "python",
   "nbconvert_exporter": "python",
   "pygments_lexer": "ipython3",
   "version": "3.9.2"
  }
 },
 "nbformat": 4,
 "nbformat_minor": 5
}
