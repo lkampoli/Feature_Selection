{
 "cells": [
  {
   "cell_type": "code",
   "execution_count": 1,
   "id": "4b5c71cb",
   "metadata": {},
   "outputs": [],
   "source": [
    "import numpy as np\n",
    "import pandas as pd"
   ]
  },
  {
   "cell_type": "code",
   "execution_count": 5,
   "id": "72f0f031",
   "metadata": {},
   "outputs": [],
   "source": [
    "list = [1 , 3,  1,  2,  5,  4, 12, 14,  9,  7,  8, 10, 11, 13, 15, 16, 17, 18, 19, 20, 21, 22, 23, 24,\n",
    " 25, 26, 27, 28, 29, 30, 31, 32, 33, 34, 35, 36, 37, 38, 39, 40, 41, 42, 43, 44, 45, 46, 47, 50,\n",
    " 49, 48,  1,  6,  1,  1]"
   ]
  },
  {
   "cell_type": "code",
   "execution_count": 6,
   "id": "5032b3ec",
   "metadata": {},
   "outputs": [
    {
     "name": "stdout",
     "output_type": "stream",
     "text": [
      "    RFE\n",
      "0     1\n",
      "1     3\n",
      "2     1\n",
      "3     2\n",
      "4     5\n",
      "5     4\n",
      "6    12\n",
      "7    14\n",
      "8     9\n",
      "9     7\n",
      "10    8\n",
      "11   10\n",
      "12   11\n",
      "13   13\n",
      "14   15\n",
      "15   16\n",
      "16   17\n",
      "17   18\n",
      "18   19\n",
      "19   20\n",
      "20   21\n",
      "21   22\n",
      "22   23\n",
      "23   24\n",
      "24   25\n",
      "25   26\n",
      "26   27\n",
      "27   28\n",
      "28   29\n",
      "29   30\n",
      "30   31\n",
      "31   32\n",
      "32   33\n",
      "33   34\n",
      "34   35\n",
      "35   36\n",
      "36   37\n",
      "37   38\n",
      "38   39\n",
      "39   40\n",
      "40   41\n",
      "41   42\n",
      "42   43\n",
      "43   44\n",
      "44   45\n",
      "45   46\n",
      "46   47\n",
      "47   50\n",
      "48   49\n",
      "49   48\n",
      "50    1\n",
      "51    6\n",
      "52    1\n",
      "53    1\n"
     ]
    }
   ],
   "source": [
    "df4=pd.DataFrame(list, columns=['RFE'])\n",
    "print(df4)\n"
   ]
  },
  {
   "cell_type": "code",
   "execution_count": 7,
   "id": "f8f9cc30",
   "metadata": {},
   "outputs": [],
   "source": [
    "RFE_N2N= df4.loc[:].reset_index()\n",
    "RFE_N2N.to_csv('RFE_N2N.csv', index=False)"
   ]
  },
  {
   "cell_type": "markdown",
   "id": "2a3719eb",
   "metadata": {},
   "source": [
    "permutation_importance"
   ]
  },
  {
   "cell_type": "code",
   "execution_count": 2,
   "id": "72a8d71f",
   "metadata": {},
   "outputs": [],
   "source": [
    "importances_mea =  [6.73852506e-04, 5.64593387e-04, 1.45151081e-02, 4.28880008e-04,\n",
    " 4.38651758e-03, 1.00300642e-03, 6.60900246e-04, 1.58265772e-03,\n",
    " 3.59757893e-03, 9.17366403e-03, 3.50262533e-03, 5.01945209e-04,\n",
    " 1.17426409e-03, 2.75671850e-04, 4.29937634e-04, 1.05922150e-03,\n",
    " 1.11391489e-04, 1.28379112e-04, 3.42183740e-04, 3.88106017e-05,\n",
    " 4.69073603e-04, 5.95226485e-05, 1.96095906e-04, 8.43451670e-05,\n",
    " 8.21050582e-05, 1.64798579e-05, 1.98454190e-05, 1.78779899e-05,\n",
    " 4.23018256e-05, 2.60921454e-05, 9.77911168e-05, 2.99809012e-05,\n",
    " 3.57436277e-05, 2.60333588e-05, 2.81975801e-04, 1.38308451e-05,\n",
    " 7.80266404e-05, 2.11995069e-04, 8.41354702e-05, 2.50673747e-04,\n",
    " 2.91746216e-04, 2.19975478e-03, 4.58501229e-05, 1.64786739e-03,\n",
    " 2.83025076e-03, 1.11212556e-02, 1.27164980e-02, 7.26982858e-04,\n",
    " 3.74935947e-04, 1.74666237e-04, 2.56284361e-02, 6.25783183e-03,\n",
    " 7.19815363e-03, 3.84603882e-03]"
   ]
  },
  {
   "cell_type": "code",
   "execution_count": 4,
   "id": "35be81af",
   "metadata": {},
   "outputs": [
    {
     "name": "stdout",
     "output_type": "stream",
     "text": [
      "    importances_mea\n",
      "0          0.000674\n",
      "1          0.000565\n",
      "2          0.014515\n",
      "3          0.000429\n",
      "4          0.004387\n",
      "5          0.001003\n",
      "6          0.000661\n",
      "7          0.001583\n",
      "8          0.003598\n",
      "9          0.009174\n",
      "10         0.003503\n",
      "11         0.000502\n",
      "12         0.001174\n",
      "13         0.000276\n",
      "14         0.000430\n",
      "15         0.001059\n",
      "16         0.000111\n",
      "17         0.000128\n",
      "18         0.000342\n",
      "19         0.000039\n",
      "20         0.000469\n",
      "21         0.000060\n",
      "22         0.000196\n",
      "23         0.000084\n",
      "24         0.000082\n",
      "25         0.000016\n",
      "26         0.000020\n",
      "27         0.000018\n",
      "28         0.000042\n",
      "29         0.000026\n",
      "30         0.000098\n",
      "31         0.000030\n",
      "32         0.000036\n",
      "33         0.000026\n",
      "34         0.000282\n",
      "35         0.000014\n",
      "36         0.000078\n",
      "37         0.000212\n",
      "38         0.000084\n",
      "39         0.000251\n",
      "40         0.000292\n",
      "41         0.002200\n",
      "42         0.000046\n",
      "43         0.001648\n",
      "44         0.002830\n",
      "45         0.011121\n",
      "46         0.012716\n",
      "47         0.000727\n",
      "48         0.000375\n",
      "49         0.000175\n",
      "50         0.025628\n",
      "51         0.006258\n",
      "52         0.007198\n",
      "53         0.003846\n"
     ]
    }
   ],
   "source": [
    "df5=pd.DataFrame(importances_mea, columns=['importances_mea'])\n",
    "print(df5)"
   ]
  },
  {
   "cell_type": "code",
   "execution_count": 6,
   "id": "e5a41147",
   "metadata": {},
   "outputs": [],
   "source": [
    "RFE_N2N= df5.loc[:].reset_index()\n",
    "RFE_N2N.to_csv('RF_importances_mea_N2N.csv', index=False)"
   ]
  },
  {
   "cell_type": "markdown",
   "id": "63aff616",
   "metadata": {},
   "source": [
    "Sequential"
   ]
  },
  {
   "cell_type": "code",
   "execution_count": 10,
   "id": "6023890a",
   "metadata": {},
   "outputs": [],
   "source": [
    "SequentialFeatureSelector =  [False, False, False, False, False, False, False, False, False,\n",
    "        True, False, False, False, False, False, False, False, False,\n",
    "       False, False, False, False, False, False, False, False, False,\n",
    "       False, False, False, False, False, False, False, False, False,\n",
    "       False, False, False, False, False, False, False, False, False,\n",
    "       False, False, False, False, False,  True, False, False, False]"
   ]
  },
  {
   "cell_type": "code",
   "execution_count": 11,
   "id": "173a6812",
   "metadata": {},
   "outputs": [
    {
     "name": "stdout",
     "output_type": "stream",
     "text": [
      "    SequentialFeatureSelector\n",
      "0                       False\n",
      "1                       False\n",
      "2                       False\n",
      "3                       False\n",
      "4                       False\n",
      "5                       False\n",
      "6                       False\n",
      "7                       False\n",
      "8                       False\n",
      "9                        True\n",
      "10                      False\n",
      "11                      False\n",
      "12                      False\n",
      "13                      False\n",
      "14                      False\n",
      "15                      False\n",
      "16                      False\n",
      "17                      False\n",
      "18                      False\n",
      "19                      False\n",
      "20                      False\n",
      "21                      False\n",
      "22                      False\n",
      "23                      False\n",
      "24                      False\n",
      "25                      False\n",
      "26                      False\n",
      "27                      False\n",
      "28                      False\n",
      "29                      False\n",
      "30                      False\n",
      "31                      False\n",
      "32                      False\n",
      "33                      False\n",
      "34                      False\n",
      "35                      False\n",
      "36                      False\n",
      "37                      False\n",
      "38                      False\n",
      "39                      False\n",
      "40                      False\n",
      "41                      False\n",
      "42                      False\n",
      "43                      False\n",
      "44                      False\n",
      "45                      False\n",
      "46                      False\n",
      "47                      False\n",
      "48                      False\n",
      "49                      False\n",
      "50                       True\n",
      "51                      False\n",
      "52                      False\n",
      "53                      False\n"
     ]
    }
   ],
   "source": [
    "seq=pd.DataFrame(SequentialFeatureSelector, columns=['SequentialFeatureSelector'])\n",
    "print(seq)"
   ]
  },
  {
   "cell_type": "code",
   "execution_count": 13,
   "id": "e0ce9427",
   "metadata": {},
   "outputs": [],
   "source": [
    "SequentialFeatureSelector_N2N= seq.loc[:].reset_index()\n",
    "SequentialFeatureSelector_N2N.to_csv('SequentialFeatureSelector_N2N.csv', index=False)"
   ]
  },
  {
   "cell_type": "code",
   "execution_count": null,
   "id": "3c84132b",
   "metadata": {},
   "outputs": [],
   "source": []
  }
 ],
 "metadata": {
  "kernelspec": {
   "display_name": "Python 3 (ipykernel)",
   "language": "python",
   "name": "python3"
  },
  "language_info": {
   "codemirror_mode": {
    "name": "ipython",
    "version": 3
   },
   "file_extension": ".py",
   "mimetype": "text/x-python",
   "name": "python",
   "nbconvert_exporter": "python",
   "pygments_lexer": "ipython3",
   "version": "3.9.2"
  }
 },
 "nbformat": 4,
 "nbformat_minor": 5
}
