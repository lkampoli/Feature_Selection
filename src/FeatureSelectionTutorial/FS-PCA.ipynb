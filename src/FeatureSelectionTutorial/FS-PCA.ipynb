{
 "cells": [
  {
   "cell_type": "markdown",
   "metadata": {},
   "source": [
    "# Principal Component Analysis\n",
    "PCA using the PCA implementaiton in `scikit-learn`"
   ]
  },
  {
   "cell_type": "code",
   "execution_count": 1,
   "metadata": {},
   "outputs": [],
   "source": [
    "import matplotlib.pyplot as plt\n",
    "%matplotlib inline\n",
    "import numpy as np\n",
    "import pandas as pd\n",
    "from sklearn import datasets\n",
    "from sklearn.decomposition import PCA\n",
    "from sklearn.preprocessing import StandardScaler"
   ]
  },
  {
   "cell_type": "markdown",
   "metadata": {},
   "source": [
    "## Top Trumps\n",
    "`HarryPotterTT.csv` contains data on Top Trumps cards.  \n",
    "There are 22 examples described by 5 features."
   ]
  },
  {
   "cell_type": "code",
   "execution_count": 2,
   "metadata": {},
   "outputs": [
    {
     "data": {
      "text/html": [
       "<div>\n",
       "<style scoped>\n",
       "    .dataframe tbody tr th:only-of-type {\n",
       "        vertical-align: middle;\n",
       "    }\n",
       "\n",
       "    .dataframe tbody tr th {\n",
       "        vertical-align: top;\n",
       "    }\n",
       "\n",
       "    .dataframe thead th {\n",
       "        text-align: right;\n",
       "    }\n",
       "</style>\n",
       "<table border=\"1\" class=\"dataframe\">\n",
       "  <thead>\n",
       "    <tr style=\"text-align: right;\">\n",
       "      <th></th>\n",
       "      <th>Name</th>\n",
       "      <th>Magic</th>\n",
       "      <th>Cunning</th>\n",
       "      <th>Courage</th>\n",
       "      <th>Wisdom</th>\n",
       "      <th>Temper</th>\n",
       "    </tr>\n",
       "  </thead>\n",
       "  <tbody>\n",
       "    <tr>\n",
       "      <th>0</th>\n",
       "      <td>'Harry Potter'</td>\n",
       "      <td>62</td>\n",
       "      <td>21</td>\n",
       "      <td>42</td>\n",
       "      <td>26</td>\n",
       "      <td>7</td>\n",
       "    </tr>\n",
       "    <tr>\n",
       "      <th>1</th>\n",
       "      <td>'Hermione Granger'</td>\n",
       "      <td>60</td>\n",
       "      <td>16</td>\n",
       "      <td>40</td>\n",
       "      <td>73</td>\n",
       "      <td>2</td>\n",
       "    </tr>\n",
       "    <tr>\n",
       "      <th>2</th>\n",
       "      <td>'Ron Weasley'</td>\n",
       "      <td>45</td>\n",
       "      <td>14</td>\n",
       "      <td>40</td>\n",
       "      <td>22</td>\n",
       "      <td>4</td>\n",
       "    </tr>\n",
       "    <tr>\n",
       "      <th>3</th>\n",
       "      <td>'Prof. Dumbledore'</td>\n",
       "      <td>105</td>\n",
       "      <td>24</td>\n",
       "      <td>39</td>\n",
       "      <td>82</td>\n",
       "      <td>0</td>\n",
       "    </tr>\n",
       "    <tr>\n",
       "      <th>4</th>\n",
       "      <td>'Prof. Snape'</td>\n",
       "      <td>85</td>\n",
       "      <td>24</td>\n",
       "      <td>19</td>\n",
       "      <td>71</td>\n",
       "      <td>7</td>\n",
       "    </tr>\n",
       "    <tr>\n",
       "      <th>5</th>\n",
       "      <td>'Prof. McGonagail'</td>\n",
       "      <td>95</td>\n",
       "      <td>19</td>\n",
       "      <td>29</td>\n",
       "      <td>76</td>\n",
       "      <td>5</td>\n",
       "    </tr>\n",
       "    <tr>\n",
       "      <th>6</th>\n",
       "      <td>'Prof. Moody'</td>\n",
       "      <td>82</td>\n",
       "      <td>20</td>\n",
       "      <td>35</td>\n",
       "      <td>69</td>\n",
       "      <td>5</td>\n",
       "    </tr>\n",
       "    <tr>\n",
       "      <th>7</th>\n",
       "      <td>'Rubeus Hagrid'</td>\n",
       "      <td>12</td>\n",
       "      <td>11</td>\n",
       "      <td>30</td>\n",
       "      <td>8</td>\n",
       "      <td>7</td>\n",
       "    </tr>\n",
       "    <tr>\n",
       "      <th>8</th>\n",
       "      <td>'Fred Weasley'</td>\n",
       "      <td>87</td>\n",
       "      <td>13</td>\n",
       "      <td>30</td>\n",
       "      <td>22</td>\n",
       "      <td>4</td>\n",
       "    </tr>\n",
       "    <tr>\n",
       "      <th>9</th>\n",
       "      <td>'George Weasley'</td>\n",
       "      <td>87</td>\n",
       "      <td>13</td>\n",
       "      <td>30</td>\n",
       "      <td>22</td>\n",
       "      <td>4</td>\n",
       "    </tr>\n",
       "    <tr>\n",
       "      <th>10</th>\n",
       "      <td>'Arthur Weasley'</td>\n",
       "      <td>62</td>\n",
       "      <td>5</td>\n",
       "      <td>29</td>\n",
       "      <td>60</td>\n",
       "      <td>2</td>\n",
       "    </tr>\n",
       "    <tr>\n",
       "      <th>11</th>\n",
       "      <td>'Vincent Crabbe'</td>\n",
       "      <td>10</td>\n",
       "      <td>13</td>\n",
       "      <td>8</td>\n",
       "      <td>4</td>\n",
       "      <td>7</td>\n",
       "    </tr>\n",
       "    <tr>\n",
       "      <th>12</th>\n",
       "      <td>'Draco Malfoy'</td>\n",
       "      <td>42</td>\n",
       "      <td>22</td>\n",
       "      <td>10</td>\n",
       "      <td>12</td>\n",
       "      <td>9</td>\n",
       "    </tr>\n",
       "    <tr>\n",
       "      <th>13</th>\n",
       "      <td>'Gregory Goyle'</td>\n",
       "      <td>10</td>\n",
       "      <td>14</td>\n",
       "      <td>7</td>\n",
       "      <td>2</td>\n",
       "      <td>8</td>\n",
       "    </tr>\n",
       "    <tr>\n",
       "      <th>14</th>\n",
       "      <td>'Padma Patil'</td>\n",
       "      <td>24</td>\n",
       "      <td>9</td>\n",
       "      <td>23</td>\n",
       "      <td>13</td>\n",
       "      <td>1</td>\n",
       "    </tr>\n",
       "    <tr>\n",
       "      <th>15</th>\n",
       "      <td>'Parvati Patil'</td>\n",
       "      <td>24</td>\n",
       "      <td>11</td>\n",
       "      <td>23</td>\n",
       "      <td>15</td>\n",
       "      <td>2</td>\n",
       "    </tr>\n",
       "    <tr>\n",
       "      <th>16</th>\n",
       "      <td>'Fleur Delacour'</td>\n",
       "      <td>59</td>\n",
       "      <td>19</td>\n",
       "      <td>36</td>\n",
       "      <td>54</td>\n",
       "      <td>6</td>\n",
       "    </tr>\n",
       "    <tr>\n",
       "      <th>17</th>\n",
       "      <td>'Cho Chang'</td>\n",
       "      <td>40</td>\n",
       "      <td>8</td>\n",
       "      <td>25</td>\n",
       "      <td>31</td>\n",
       "      <td>3</td>\n",
       "    </tr>\n",
       "    <tr>\n",
       "      <th>18</th>\n",
       "      <td>'Cedric Diggory'</td>\n",
       "      <td>58</td>\n",
       "      <td>23</td>\n",
       "      <td>40</td>\n",
       "      <td>55</td>\n",
       "      <td>2</td>\n",
       "    </tr>\n",
       "    <tr>\n",
       "      <th>19</th>\n",
       "      <td>'Viktor Krum'</td>\n",
       "      <td>56</td>\n",
       "      <td>22</td>\n",
       "      <td>38</td>\n",
       "      <td>30</td>\n",
       "      <td>7</td>\n",
       "    </tr>\n",
       "    <tr>\n",
       "      <th>20</th>\n",
       "      <td>'Neville Longbottom</td>\n",
       "      <td>24</td>\n",
       "      <td>9</td>\n",
       "      <td>28</td>\n",
       "      <td>15</td>\n",
       "      <td>2</td>\n",
       "    </tr>\n",
       "    <tr>\n",
       "      <th>21</th>\n",
       "      <td>'Lucius Malfoy'</td>\n",
       "      <td>88</td>\n",
       "      <td>24</td>\n",
       "      <td>10</td>\n",
       "      <td>60</td>\n",
       "      <td>9</td>\n",
       "    </tr>\n",
       "  </tbody>\n",
       "</table>\n",
       "</div>"
      ],
      "text/plain": [
       "                   Name   Magic   Cunning   Courage   Wisdom   Temper\n",
       "0        'Harry Potter'      62        21        42       26        7\n",
       "1    'Hermione Granger'      60        16        40       73        2\n",
       "2         'Ron Weasley'      45        14        40       22        4\n",
       "3    'Prof. Dumbledore'     105        24        39       82        0\n",
       "4         'Prof. Snape'      85        24        19       71        7\n",
       "5    'Prof. McGonagail'      95        19        29       76        5\n",
       "6         'Prof. Moody'      82        20        35       69        5\n",
       "7       'Rubeus Hagrid'      12        11        30        8        7\n",
       "8        'Fred Weasley'      87        13        30       22        4\n",
       "9      'George Weasley'      87        13        30       22        4\n",
       "10     'Arthur Weasley'      62         5        29       60        2\n",
       "11     'Vincent Crabbe'      10        13         8        4        7\n",
       "12       'Draco Malfoy'      42        22        10       12        9\n",
       "13      'Gregory Goyle'      10        14         7        2        8\n",
       "14        'Padma Patil'      24         9        23       13        1\n",
       "15      'Parvati Patil'      24        11        23       15        2\n",
       "16     'Fleur Delacour'      59        19        36       54        6\n",
       "17          'Cho Chang'      40         8        25       31        3\n",
       "18     'Cedric Diggory'      58        23        40       55        2\n",
       "19        'Viktor Krum'      56        22        38       30        7\n",
       "20  'Neville Longbottom      24         9        28       15        2\n",
       "21      'Lucius Malfoy'      88        24        10       60        9"
      ]
     },
     "execution_count": 2,
     "metadata": {},
     "output_type": "execute_result"
    }
   ],
   "source": [
    "import pandas as pd\n",
    "from sklearn.preprocessing import StandardScaler\n",
    "TT_df = pd.read_csv('HarryPotterTT.csv')\n",
    "TT_df"
   ]
  },
  {
   "cell_type": "markdown",
   "metadata": {},
   "source": [
    "Extract the data into a numpy array X.  \n",
    "And scale the data."
   ]
  },
  {
   "cell_type": "code",
   "execution_count": 3,
   "metadata": {},
   "outputs": [
    {
     "data": {
      "text/plain": [
       "(22, 5)"
      ]
     },
     "execution_count": 3,
     "metadata": {},
     "output_type": "execute_result"
    }
   ],
   "source": [
    "y = TT_df.pop('Name').values\n",
    "X = TT_df.values\n",
    "X_scal = StandardScaler().fit_transform(X)\n",
    "X.shape"
   ]
  },
  {
   "cell_type": "markdown",
   "metadata": {},
   "source": [
    "Apply PCA."
   ]
  },
  {
   "cell_type": "code",
   "execution_count": 4,
   "metadata": {},
   "outputs": [
    {
     "data": {
      "text/plain": [
       "array([0.48877025, 0.31551511, 0.10842469, 0.0501518 ])"
      ]
     },
     "execution_count": 4,
     "metadata": {},
     "output_type": "execute_result"
    }
   ],
   "source": [
    "pcaHP = PCA(n_components=4)\n",
    "X_r = pcaHP.fit(X_scal).transform(X_scal)\n",
    "pcaHP.explained_variance_ratio_"
   ]
  },
  {
   "cell_type": "markdown",
   "metadata": {},
   "source": [
    "There are five features being projected onto 4 PCs so the projection matrix is 4 x 5."
   ]
  },
  {
   "cell_type": "code",
   "execution_count": 5,
   "metadata": {},
   "outputs": [
    {
     "data": {
      "text/plain": [
       "array([[ 0.57407296,  0.40754714,  0.3846298 ,  0.57788956, -0.14983036],\n",
       "       [ 0.10834723,  0.52231617, -0.44046049,  0.0043925 ,  0.72209553],\n",
       "       [-0.27762934,  0.33155304,  0.76359223, -0.39624817,  0.27001634],\n",
       "       [ 0.63573329, -0.55900795,  0.19114024, -0.25378831,  0.42709507]])"
      ]
     },
     "execution_count": 5,
     "metadata": {},
     "output_type": "execute_result"
    }
   ],
   "source": [
    "pcaHP.components_"
   ]
  },
  {
   "cell_type": "code",
   "execution_count": 6,
   "metadata": {},
   "outputs": [
    {
     "data": {
      "text/plain": [
       "(0.0, 0.8)"
      ]
     },
     "execution_count": 6,
     "metadata": {},
     "output_type": "execute_result"
    },
    {
     "data": {
      "image/png": "[encoded data removed]",
      "text/plain": [
       "<Figure size 360x288 with 1 Axes>"
      ]
     },
     "metadata": {
      "needs_background": "light"
     },
     "output_type": "display_data"
    }
   ],
   "source": [
    "df = pd.DataFrame(pcaHP.explained_variance_ratio_, \n",
    "                  index=['PC1','PC2','PC3','PC4'],columns =['var'])\n",
    "\n",
    "pl = df.plot.bar(color='red',figsize=(5,4))\n",
    "pl.set_ylabel(\"Variance Explained\")\n",
    "pl.set_ylim([0,0.8])"
   ]
  },
  {
   "cell_type": "code",
   "execution_count": 7,
   "metadata": {},
   "outputs": [
    {
     "data": {
      "image/png": "[encoded data removed]",
      "text/plain": [
       "<Figure size 576x432 with 1 Axes>"
      ]
     },
     "metadata": {
      "needs_background": "light"
     },
     "output_type": "display_data"
    }
   ],
   "source": [
    "plt.figure(figsize=(8,6))\n",
    "lw = 2\n",
    "labels = list(range(len (y)))\n",
    "labels[0]='Harry'\n",
    "labels[1]='Hermione'\n",
    "labels[3]='Prof D'\n",
    "labels[5]='Prof McG'\n",
    "labels[6]='Prof Moody'\n",
    "labels[18]='Cedric D'\n",
    "labels[19]='Viktor K'\n",
    "labels[21]='Lucius Malfoy'\n",
    "labels[4]='Snape'\n",
    "labels[12]='Draco Malfoy'\n",
    "\n",
    "plt.scatter(X_r[:, 0], X_r[:, 1])\n",
    "\n",
    "for label, xi, yi in zip(labels, X_r[:, 0], X_r[:, 1]):\n",
    "    plt.annotate(\n",
    "        label,\n",
    "        xy=(xi, yi), xytext=(-3, 3),\n",
    "        textcoords='offset points', ha='right', va='bottom')\n",
    "\n",
    "plt.xlabel('PC1 (49%)')\n",
    "plt.ylabel('PC2 (32%)')\n",
    "plt.title('PCA of HP dataset')\n",
    "\n",
    "plt.show()"
   ]
  },
  {
   "cell_type": "markdown",
   "metadata": {},
   "source": [
    "## Comment\n",
    " - This plot shows the data projected onto the first 2 PCs.  \n",
    " - These PCs account for 81% of the variance in the data. \n",
    " - It might be argued that the first PC captures *competence* and the second represents *malevolence*. \n"
   ]
  }
 ],
 "metadata": {
  "kernelspec": {
   "display_name": "Python 3 (ipykernel)",
   "language": "python",
   "name": "python3"
  },
  "language_info": {
   "codemirror_mode": {
    "name": "ipython",
    "version": 3
   },
   "file_extension": ".py",
   "mimetype": "text/x-python",
   "name": "python",
   "nbconvert_exporter": "python",
   "pygments_lexer": "ipython3",
   "version": "3.7.10"
  }
 },
 "nbformat": 4,
 "nbformat_minor": 2
}
