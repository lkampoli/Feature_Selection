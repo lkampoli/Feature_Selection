{
 "cells": [
  {
   "cell_type": "markdown",
   "metadata": {},
   "source": [
    "# Feature Selection using Wrappers"
   ]
  },
  {
   "cell_type": "markdown",
   "metadata": {},
   "source": [
    "---\n",
    "`scikit learn` does not provide a comprehenisive implementation of Wrapper feature selection so we use `MLxtend`.  \n",
    "http://rasbt.github.io/mlxtend/\n",
    "So you will probably need to install some libraries:  \n",
    "`pip install mlxtend`  \n",
    "`pip install joblib`"
   ]
  },
  {
   "cell_type": "code",
   "execution_count": 2,
   "metadata": {},
   "outputs": [],
   "source": [
    "import pandas as pd\n",
    "import numpy as np\n",
    "from sklearn.neighbors import KNeighborsClassifier\n",
    "from sklearn.preprocessing import MinMaxScaler\n",
    "from sklearn.model_selection import train_test_split\n",
    "from sklearn.metrics import accuracy_score\n",
    "from sklearn.model_selection import cross_val_score\n",
    "from mlxtend.feature_selection import SequentialFeatureSelector as SFS\n",
    "from matplotlib.ticker import MaxNLocator"
   ]
  },
  {
   "cell_type": "markdown",
   "metadata": {},
   "source": [
    "## Forward Sequential Search on segmentation data."
   ]
  },
  {
   "cell_type": "code",
   "execution_count": 3,
   "metadata": {},
   "outputs": [
    {
     "name": "stdout",
     "output_type": "stream",
     "text": [
      "(2310, 20)\n"
     ]
    },
    {
     "data": {
      "text/html": [
       "<div>\n",
       "<style scoped>\n",
       "    .dataframe tbody tr th:only-of-type {\n",
       "        vertical-align: middle;\n",
       "    }\n",
       "\n",
       "    .dataframe tbody tr th {\n",
       "        vertical-align: top;\n",
       "    }\n",
       "\n",
       "    .dataframe thead th {\n",
       "        text-align: right;\n",
       "    }\n",
       "</style>\n",
       "<table border=\"1\" class=\"dataframe\">\n",
       "  <thead>\n",
       "    <tr style=\"text-align: right;\">\n",
       "      <th></th>\n",
       "      <th>Class</th>\n",
       "      <th>REGION-CENTROID-COL</th>\n",
       "      <th>REGION-CENTROID-ROW</th>\n",
       "      <th>REGION-PIXEL-COUNT</th>\n",
       "      <th>SHORT-LINE-DENSITY-5</th>\n",
       "      <th>SHORT-LINE-DENSITY-2</th>\n",
       "      <th>VEDGE-MEAN</th>\n",
       "      <th>VEDGE-SD</th>\n",
       "      <th>HEDGE-MEAN</th>\n",
       "      <th>HEDGE-SD</th>\n",
       "      <th>INTENSITY-MEAN</th>\n",
       "      <th>RAWRED-MEAN</th>\n",
       "      <th>RAWBLUE-MEAN</th>\n",
       "      <th>RAWGREEN-MEAN</th>\n",
       "      <th>EXRED-MEAN</th>\n",
       "      <th>EXBLUE-MEAN</th>\n",
       "      <th>EXGREEN-MEAN</th>\n",
       "      <th>VALUE-MEAN</th>\n",
       "      <th>SATURATION-MEAN</th>\n",
       "      <th>HUE-MEAN</th>\n",
       "    </tr>\n",
       "  </thead>\n",
       "  <tbody>\n",
       "    <tr>\n",
       "      <th>0</th>\n",
       "      <td>BRICKFACE</td>\n",
       "      <td>140.0</td>\n",
       "      <td>125.0</td>\n",
       "      <td>9</td>\n",
       "      <td>0.0</td>\n",
       "      <td>0.0</td>\n",
       "      <td>0.277778</td>\n",
       "      <td>0.062963</td>\n",
       "      <td>0.666667</td>\n",
       "      <td>0.311111</td>\n",
       "      <td>6.185185</td>\n",
       "      <td>7.333334</td>\n",
       "      <td>7.666666</td>\n",
       "      <td>3.555556</td>\n",
       "      <td>3.444444</td>\n",
       "      <td>4.444445</td>\n",
       "      <td>-7.888889</td>\n",
       "      <td>7.777778</td>\n",
       "      <td>0.545635</td>\n",
       "      <td>-1.121818</td>\n",
       "    </tr>\n",
       "    <tr>\n",
       "      <th>1</th>\n",
       "      <td>BRICKFACE</td>\n",
       "      <td>188.0</td>\n",
       "      <td>133.0</td>\n",
       "      <td>9</td>\n",
       "      <td>0.0</td>\n",
       "      <td>0.0</td>\n",
       "      <td>0.333333</td>\n",
       "      <td>0.266667</td>\n",
       "      <td>0.500000</td>\n",
       "      <td>0.077778</td>\n",
       "      <td>6.666666</td>\n",
       "      <td>8.333334</td>\n",
       "      <td>7.777778</td>\n",
       "      <td>3.888889</td>\n",
       "      <td>5.000000</td>\n",
       "      <td>3.333333</td>\n",
       "      <td>-8.333333</td>\n",
       "      <td>8.444445</td>\n",
       "      <td>0.538580</td>\n",
       "      <td>-0.924817</td>\n",
       "    </tr>\n",
       "    <tr>\n",
       "      <th>2</th>\n",
       "      <td>BRICKFACE</td>\n",
       "      <td>105.0</td>\n",
       "      <td>139.0</td>\n",
       "      <td>9</td>\n",
       "      <td>0.0</td>\n",
       "      <td>0.0</td>\n",
       "      <td>0.277778</td>\n",
       "      <td>0.107407</td>\n",
       "      <td>0.833333</td>\n",
       "      <td>0.522222</td>\n",
       "      <td>6.111111</td>\n",
       "      <td>7.555555</td>\n",
       "      <td>7.222222</td>\n",
       "      <td>3.555556</td>\n",
       "      <td>4.333334</td>\n",
       "      <td>3.333333</td>\n",
       "      <td>-7.666666</td>\n",
       "      <td>7.555555</td>\n",
       "      <td>0.532628</td>\n",
       "      <td>-0.965946</td>\n",
       "    </tr>\n",
       "    <tr>\n",
       "      <th>3</th>\n",
       "      <td>BRICKFACE</td>\n",
       "      <td>34.0</td>\n",
       "      <td>137.0</td>\n",
       "      <td>9</td>\n",
       "      <td>0.0</td>\n",
       "      <td>0.0</td>\n",
       "      <td>0.500000</td>\n",
       "      <td>0.166667</td>\n",
       "      <td>1.111111</td>\n",
       "      <td>0.474074</td>\n",
       "      <td>5.851852</td>\n",
       "      <td>7.777778</td>\n",
       "      <td>6.444445</td>\n",
       "      <td>3.333333</td>\n",
       "      <td>5.777778</td>\n",
       "      <td>1.777778</td>\n",
       "      <td>-7.555555</td>\n",
       "      <td>7.777778</td>\n",
       "      <td>0.573633</td>\n",
       "      <td>-0.744272</td>\n",
       "    </tr>\n",
       "    <tr>\n",
       "      <th>4</th>\n",
       "      <td>BRICKFACE</td>\n",
       "      <td>39.0</td>\n",
       "      <td>111.0</td>\n",
       "      <td>9</td>\n",
       "      <td>0.0</td>\n",
       "      <td>0.0</td>\n",
       "      <td>0.722222</td>\n",
       "      <td>0.374074</td>\n",
       "      <td>0.888889</td>\n",
       "      <td>0.429629</td>\n",
       "      <td>6.037037</td>\n",
       "      <td>7.000000</td>\n",
       "      <td>7.666666</td>\n",
       "      <td>3.444444</td>\n",
       "      <td>2.888889</td>\n",
       "      <td>4.888889</td>\n",
       "      <td>-7.777778</td>\n",
       "      <td>7.888889</td>\n",
       "      <td>0.562919</td>\n",
       "      <td>-1.175773</td>\n",
       "    </tr>\n",
       "  </tbody>\n",
       "</table>\n",
       "</div>"
      ],
      "text/plain": [
       "       Class  REGION-CENTROID-COL  REGION-CENTROID-ROW  REGION-PIXEL-COUNT  \\\n",
       "0  BRICKFACE                140.0                125.0                   9   \n",
       "1  BRICKFACE                188.0                133.0                   9   \n",
       "2  BRICKFACE                105.0                139.0                   9   \n",
       "3  BRICKFACE                 34.0                137.0                   9   \n",
       "4  BRICKFACE                 39.0                111.0                   9   \n",
       "\n",
       "   SHORT-LINE-DENSITY-5  SHORT-LINE-DENSITY-2  VEDGE-MEAN  VEDGE-SD  \\\n",
       "0                   0.0                   0.0    0.277778  0.062963   \n",
       "1                   0.0                   0.0    0.333333  0.266667   \n",
       "2                   0.0                   0.0    0.277778  0.107407   \n",
       "3                   0.0                   0.0    0.500000  0.166667   \n",
       "4                   0.0                   0.0    0.722222  0.374074   \n",
       "\n",
       "   HEDGE-MEAN  HEDGE-SD  INTENSITY-MEAN  RAWRED-MEAN  RAWBLUE-MEAN  \\\n",
       "0    0.666667  0.311111        6.185185     7.333334      7.666666   \n",
       "1    0.500000  0.077778        6.666666     8.333334      7.777778   \n",
       "2    0.833333  0.522222        6.111111     7.555555      7.222222   \n",
       "3    1.111111  0.474074        5.851852     7.777778      6.444445   \n",
       "4    0.888889  0.429629        6.037037     7.000000      7.666666   \n",
       "\n",
       "   RAWGREEN-MEAN  EXRED-MEAN  EXBLUE-MEAN  EXGREEN-MEAN  VALUE-MEAN  \\\n",
       "0       3.555556    3.444444     4.444445     -7.888889    7.777778   \n",
       "1       3.888889    5.000000     3.333333     -8.333333    8.444445   \n",
       "2       3.555556    4.333334     3.333333     -7.666666    7.555555   \n",
       "3       3.333333    5.777778     1.777778     -7.555555    7.777778   \n",
       "4       3.444444    2.888889     4.888889     -7.777778    7.888889   \n",
       "\n",
       "   SATURATION-MEAN  HUE-MEAN  \n",
       "0         0.545635 -1.121818  \n",
       "1         0.538580 -0.924817  \n",
       "2         0.532628 -0.965946  \n",
       "3         0.573633 -0.744272  \n",
       "4         0.562919 -1.175773  "
      ]
     },
     "execution_count": 3,
     "metadata": {},
     "output_type": "execute_result"
    }
   ],
   "source": [
    "seg_data = pd.read_csv('segmentation-all.csv')\n",
    "print(seg_data.shape)\n",
    "seg_data.head()"
   ]
  },
  {
   "cell_type": "code",
   "execution_count": 4,
   "metadata": {},
   "outputs": [
    {
     "data": {
      "text/plain": [
       "GRASS        330\n",
       "BRICKFACE    330\n",
       "WINDOW       330\n",
       "PATH         330\n",
       "SKY          330\n",
       "CEMENT       330\n",
       "FOLIAGE      330\n",
       "Name: Class, dtype: int64"
      ]
     },
     "execution_count": 4,
     "metadata": {},
     "output_type": "execute_result"
    }
   ],
   "source": [
    "seg_data['Class'].value_counts()"
   ]
  },
  {
   "cell_type": "markdown",
   "metadata": {},
   "source": [
    "### Data Prep \n",
    "- Extract the data from the dataframe into numpy arrays\n",
    "- Split into train and test sets \n",
    "- Apply a [0,1] Scaler. "
   ]
  },
  {
   "cell_type": "code",
   "execution_count": 5,
   "metadata": {},
   "outputs": [
    {
     "data": {
      "text/plain": [
       "((1155, 19), (1155, 19))"
      ]
     },
     "execution_count": 5,
     "metadata": {},
     "output_type": "execute_result"
    }
   ],
   "source": [
    "y = seg_data.pop('Class').values\n",
    "X_raw = seg_data.values\n",
    "X_tr_raw, X_ts_raw, y_train, y_test = train_test_split(X_raw, y, \n",
    "                                                       random_state=2, test_size=1/2)\n",
    "scaler = MinMaxScaler()\n",
    "X_train = scaler.fit_transform(X_tr_raw)\n",
    "X_test = scaler.transform(X_ts_raw)\n",
    "max_k = X_train.shape[1]\n",
    "X_train.shape, X_test.shape"
   ]
  },
  {
   "cell_type": "markdown",
   "metadata": {},
   "source": [
    "### Baseline performance evaluation\n",
    "Using all features and *k*-NN:  \n",
    "- test performance on training data using cross validation,\n",
    "- test performance on test data using hold-out. "
   ]
  },
  {
   "cell_type": "code",
   "execution_count": 6,
   "metadata": {},
   "outputs": [
    {
     "name": "stdout",
     "output_type": "stream",
     "text": [
      "X_Val on training all features: 0.943\n",
      "Hold Out testing all features: 0.935\n"
     ]
    }
   ],
   "source": [
    "kNN = KNeighborsClassifier(n_neighbors=4)\n",
    "kNN = kNN.fit(X_train,y_train)\n",
    "y_pred = kNN.predict(X_test)\n",
    "acc = accuracy_score(y_pred,y_test)\n",
    "cv_acc = cross_val_score(kNN, X_train, y_train, cv=8)\n",
    "\n",
    "print(\"X_Val on training all features: {0:.3f}\".format(cv_acc.mean())) \n",
    "print(\"Hold Out testing all features: {0:.3f}\".format(acc)) "
   ]
  },
  {
   "cell_type": "markdown",
   "metadata": {},
   "source": [
    "### Sequential Forward Selection\n",
    "Run SFS with k_features set to (1,max_k) - this will remember the best result."
   ]
  },
  {
   "cell_type": "code",
   "execution_count": 7,
   "metadata": {},
   "outputs": [],
   "source": [
    "verb = 0\n",
    "sfs_forward = SFS(kNN, \n",
    "                  k_features= (1, max_k), \n",
    "                  forward=True, \n",
    "                  floating=False, \n",
    "                  verbose=verb,\n",
    "                  scoring='accuracy',\n",
    "                  cv=10, n_jobs = -1) # No. of threads depends on the machine.\n",
    "\n",
    "sfs_forward = sfs_forward.fit(X_train, y_train, \n",
    "                              custom_feature_names=seg_data.columns)"
   ]
  },
  {
   "cell_type": "markdown",
   "metadata": {},
   "source": [
    "The indexes and names of the features from the best perfroming subset."
   ]
  },
  {
   "cell_type": "code",
   "execution_count": 8,
   "metadata": {},
   "outputs": [
    {
     "data": {
      "text/plain": [
       "(1, 2, 6, 8, 10, 12, 18)"
      ]
     },
     "execution_count": 8,
     "metadata": {},
     "output_type": "execute_result"
    }
   ],
   "source": [
    "sfs_forward.k_feature_idx_"
   ]
  },
  {
   "cell_type": "code",
   "execution_count": 9,
   "metadata": {
    "scrolled": true
   },
   "outputs": [
    {
     "data": {
      "text/plain": [
       "('REGION-CENTROID-ROW',\n",
       " 'REGION-PIXEL-COUNT',\n",
       " 'VEDGE-SD',\n",
       " 'HEDGE-SD',\n",
       " 'RAWRED-MEAN',\n",
       " 'RAWGREEN-MEAN',\n",
       " 'HUE-MEAN')"
      ]
     },
     "execution_count": 9,
     "metadata": {},
     "output_type": "execute_result"
    }
   ],
   "source": [
    "sfs_forward.k_feature_names_"
   ]
  },
  {
   "cell_type": "code",
   "execution_count": 10,
   "metadata": {
    "scrolled": true
   },
   "outputs": [
    {
     "data": {
      "image/png": "[encoded data removed]",
      "text/plain": [
       "<Figure size 432x288 with 1 Axes>"
      ]
     },
     "metadata": {
      "needs_background": "light"
     },
     "output_type": "display_data"
    },
    {
     "name": "stdout",
     "output_type": "stream",
     "text": [
      "('REGION-CENTROID-ROW', 'REGION-PIXEL-COUNT', 'VEDGE-SD', 'HEDGE-SD', 'RAWRED-MEAN', 'RAWGREEN-MEAN', 'HUE-MEAN')\n"
     ]
    }
   ],
   "source": [
    "from mlxtend.plotting import plot_sequential_feature_selection as plot_sfs\n",
    "import matplotlib.pyplot as plt\n",
    "\n",
    "fig1 = plot_sfs(sfs_forward.get_metric_dict(), \n",
    "                ylabel='Training Accuracy',\n",
    "                kind='std_dev')\n",
    "\n",
    "plt.ylim([0.5, 1])\n",
    "plt.title('Sequential Forward Selection')\n",
    "plt.grid()\n",
    "plt.show()\n",
    "print(sfs_forward.k_feature_names_)"
   ]
  },
  {
   "cell_type": "markdown",
   "metadata": {},
   "source": [
    "Transform the dataset using the selected subset."
   ]
  },
  {
   "cell_type": "code",
   "execution_count": 11,
   "metadata": {},
   "outputs": [
    {
     "name": "stdout",
     "output_type": "stream",
     "text": [
      "X_train shape:  (1155, 7)\n",
      "X_Val on SFS all features: 0.961\n",
      "Hold Out testing:  7 features selected using SFS: 0.948\n"
     ]
    }
   ],
   "source": [
    "X_train_sfs = sfs_forward.transform(X_train)\n",
    "X_test_sfs = sfs_forward.transform(X_test)\n",
    "\n",
    "kNN_sfs = kNN.fit(X_train_sfs,y_train)\n",
    "y_pred = kNN_sfs.predict(X_test_sfs)\n",
    "acc_SFS = accuracy_score(y_pred,y_test)\n",
    "cv_acc_SFS = cross_val_score(kNN, X_train_sfs, y_train, cv=8)\n",
    "\n",
    "print(\"X_train shape: \", X_train_sfs.shape)\n",
    "print(\"X_Val on SFS all features: {0:.3f}\".format(cv_acc_SFS.mean())) \n",
    "print(\"Hold Out testing: {0:2d} features selected using SFS: {1:.3f}\".format(len(sfs_forward.k_feature_idx_), acc_SFS)) "
   ]
  },
  {
   "cell_type": "markdown",
   "metadata": {},
   "source": [
    "### Backward Elimination\n",
    "If we set the SFS `forward` parameter to False it performs Backward Elimination."
   ]
  },
  {
   "cell_type": "code",
   "execution_count": 12,
   "metadata": {},
   "outputs": [
    {
     "name": "stderr",
     "output_type": "stream",
     "text": [
      "[Parallel(n_jobs=-1)]: Using backend LokyBackend with 4 concurrent workers.\n",
      "[Parallel(n_jobs=-1)]: Done  19 out of  19 | elapsed:    1.3s finished\n",
      "Features: 18/1[Parallel(n_jobs=-1)]: Using backend LokyBackend with 4 concurrent workers.\n",
      "[Parallel(n_jobs=-1)]: Done  18 out of  18 | elapsed:    1.2s finished\n",
      "Features: 17/1[Parallel(n_jobs=-1)]: Using backend LokyBackend with 4 concurrent workers.\n",
      "[Parallel(n_jobs=-1)]: Done  17 out of  17 | elapsed:    1.2s finished\n",
      "Features: 16/1[Parallel(n_jobs=-1)]: Using backend LokyBackend with 4 concurrent workers.\n",
      "[Parallel(n_jobs=-1)]: Done  16 out of  16 | elapsed:    1.0s finished\n",
      "Features: 15/1[Parallel(n_jobs=-1)]: Using backend LokyBackend with 4 concurrent workers.\n",
      "[Parallel(n_jobs=-1)]: Done  15 out of  15 | elapsed:    1.0s finished\n",
      "Features: 14/1[Parallel(n_jobs=-1)]: Using backend LokyBackend with 4 concurrent workers.\n",
      "[Parallel(n_jobs=-1)]: Done  14 out of  14 | elapsed:    0.9s finished\n",
      "Features: 13/1[Parallel(n_jobs=-1)]: Using backend LokyBackend with 4 concurrent workers.\n",
      "[Parallel(n_jobs=-1)]: Done  13 out of  13 | elapsed:    0.8s finished\n",
      "Features: 12/1[Parallel(n_jobs=-1)]: Using backend LokyBackend with 4 concurrent workers.\n",
      "[Parallel(n_jobs=-1)]: Done  12 out of  12 | elapsed:    0.7s finished\n",
      "Features: 11/1[Parallel(n_jobs=-1)]: Using backend LokyBackend with 4 concurrent workers.\n",
      "[Parallel(n_jobs=-1)]: Done  11 out of  11 | elapsed:    0.7s finished\n",
      "Features: 10/1[Parallel(n_jobs=-1)]: Using backend LokyBackend with 4 concurrent workers.\n",
      "[Parallel(n_jobs=-1)]: Done  10 out of  10 | elapsed:    0.6s finished\n",
      "Features: 9/1[Parallel(n_jobs=-1)]: Using backend LokyBackend with 4 concurrent workers.\n",
      "[Parallel(n_jobs=-1)]: Done   9 out of   9 | elapsed:    0.6s finished\n",
      "Features: 8/1[Parallel(n_jobs=-1)]: Using backend LokyBackend with 4 concurrent workers.\n",
      "[Parallel(n_jobs=-1)]: Done   8 out of   8 | elapsed:    0.5s finished\n",
      "Features: 7/1[Parallel(n_jobs=-1)]: Using backend LokyBackend with 4 concurrent workers.\n",
      "[Parallel(n_jobs=-1)]: Done   7 out of   7 | elapsed:    0.5s finished\n",
      "Features: 6/1[Parallel(n_jobs=-1)]: Using backend LokyBackend with 4 concurrent workers.\n",
      "[Parallel(n_jobs=-1)]: Done   6 out of   6 | elapsed:    0.4s remaining:    0.0s\n",
      "[Parallel(n_jobs=-1)]: Done   6 out of   6 | elapsed:    0.4s finished\n",
      "Features: 5/1[Parallel(n_jobs=-1)]: Using backend LokyBackend with 4 concurrent workers.\n",
      "[Parallel(n_jobs=-1)]: Done   5 out of   5 | elapsed:    0.3s finished\n",
      "Features: 4/1[Parallel(n_jobs=-1)]: Using backend LokyBackend with 4 concurrent workers.\n",
      "[Parallel(n_jobs=-1)]: Done   2 out of   4 | elapsed:    0.2s remaining:    0.2s\n",
      "[Parallel(n_jobs=-1)]: Done   4 out of   4 | elapsed:    0.2s finished\n",
      "Features: 3/1[Parallel(n_jobs=-1)]: Using backend LokyBackend with 4 concurrent workers.\n",
      "[Parallel(n_jobs=-1)]: Done   3 out of   3 | elapsed:    0.2s finished\n",
      "Features: 2/1[Parallel(n_jobs=-1)]: Using backend LokyBackend with 4 concurrent workers.\n",
      "[Parallel(n_jobs=-1)]: Done   2 out of   2 | elapsed:    0.1s finished\n",
      "Features: 1/1"
     ]
    }
   ],
   "source": [
    "verb = 1\n",
    "sfs_backward = SFS(kNN, \n",
    "                  k_features=(1, max_k), \n",
    "                  forward=False, \n",
    "                  floating=False, \n",
    "                  verbose=verb,\n",
    "                  scoring='accuracy',\n",
    "                  cv=10, n_jobs = -1)\n",
    "\n",
    "sfs_backward = sfs_backward.fit(X_train, y_train, \n",
    "                              custom_feature_names=seg_data.columns)"
   ]
  },
  {
   "cell_type": "code",
   "execution_count": 13,
   "metadata": {
    "scrolled": true
   },
   "outputs": [
    {
     "data": {
      "image/png": "[encoded data removed]",
      "text/plain": [
       "<Figure size 432x288 with 1 Axes>"
      ]
     },
     "metadata": {
      "needs_background": "light"
     },
     "output_type": "display_data"
    },
    {
     "name": "stdout",
     "output_type": "stream",
     "text": [
      "('REGION-CENTROID-ROW', 'REGION-PIXEL-COUNT', 'HEDGE-MEAN', 'INTENSITY-MEAN', 'RAWRED-MEAN', 'RAWBLUE-MEAN', 'RAWGREEN-MEAN', 'EXRED-MEAN', 'EXGREEN-MEAN', 'SATURATION-MEAN')\n"
     ]
    }
   ],
   "source": [
    "fig1 = plot_sfs(sfs_backward.get_metric_dict(), \n",
    "                ylabel='Accuracy',\n",
    "                kind='std_dev')\n",
    "\n",
    "plt.ylim([0.5, 1])\n",
    "plt.title('Backward Elimination (w. StdDev)')\n",
    "plt.grid()\n",
    "plt.show()\n",
    "print(sfs_backward.k_feature_names_)"
   ]
  },
  {
   "cell_type": "code",
   "execution_count": 14,
   "metadata": {},
   "outputs": [
    {
     "data": {
      "text/plain": [
       "((1, 2, 7, 9, 10, 11, 12, 13, 15, 17), 10)"
      ]
     },
     "execution_count": 14,
     "metadata": {},
     "output_type": "execute_result"
    }
   ],
   "source": [
    "sfs_backward.k_feature_idx_, len(sfs_backward.k_feature_idx_)"
   ]
  },
  {
   "cell_type": "code",
   "execution_count": 15,
   "metadata": {},
   "outputs": [
    {
     "name": "stdout",
     "output_type": "stream",
     "text": [
      "X_train shape:  (1155, 10)\n",
      "X_Val on BE all features: 0.960\n",
      "Hold Out testing: 10 features selected using BE: 0.945\n"
     ]
    }
   ],
   "source": [
    "X_train_be = sfs_backward.transform(X_train)\n",
    "X_test_be = sfs_backward.transform(X_test)\n",
    "\n",
    "kNN_be = kNN.fit(X_train_be,y_train)\n",
    "y_pred = kNN_be.predict(X_test_be)\n",
    "acc_BE = accuracy_score(y_pred,y_test)\n",
    "cv_acc_BE = cross_val_score(kNN, X_train_be, y_train, cv=8)\n",
    "\n",
    "print(\"X_train shape: \", X_train_be.shape)\n",
    "print(\"X_Val on BE all features: {0:.3f}\".format(cv_acc_BE.mean())) \n",
    "print(\"Hold Out testing: {0:2d} features selected using BE: {1:.3f}\".format(len(sfs_backward.k_feature_idx_), acc_BE)) "
   ]
  },
  {
   "cell_type": "markdown",
   "metadata": {},
   "source": [
    "### Plot the overall results"
   ]
  },
  {
   "cell_type": "code",
   "execution_count": 16,
   "metadata": {},
   "outputs": [
    {
     "data": {
      "image/png": "[encoded data removed]",
      "text/plain": [
       "<Figure size 432x288 with 2 Axes>"
      ]
     },
     "metadata": {
      "needs_background": "light"
     },
     "output_type": "display_data"
    }
   ],
   "source": [
    "fig, ax = plt.subplots()\n",
    "width = 0.2\n",
    "\n",
    "options = ['All', 'SFS', 'BE']\n",
    "n_feat = [X_train.shape[1], X_train_sfs.shape[1], X_train_be.shape[1]]\n",
    "accs = [acc,acc_SFS,acc_BE]\n",
    "xv = [cv_acc.mean(), cv_acc_SFS.mean(), cv_acc_BE.mean()]\n",
    "\n",
    "y_pos = np.arange(len(options))\n",
    "\n",
    "p1 = ax.bar(y_pos-width/2, xv, width, align='center', label = 'Train (X-val)',\n",
    "            color=['blue','blue','blue'],alpha=0.5)\n",
    "p2 = ax.bar(y_pos+width/2, accs , width, align='center', label = 'Test (Hold-out)',\n",
    "            color=['g','g','g'],alpha=0.5)\n",
    "\n",
    "ax.set_ylim([0.7, 1])\n",
    "ax2 = ax.twinx()\n",
    "\n",
    "p3 = ax2.plot([0,1,2],n_feat, color = 'red', label = 'Feature Count',\n",
    "              marker = 'x', ms = 10, linewidth=0)\n",
    "ax2.set_ylim([0, 20])\n",
    "\n",
    "ax.grid(axis = 'y')\n",
    "\n",
    "h1, l1 = ax.get_legend_handles_labels()\n",
    "h2, l2 = ax2.get_legend_handles_labels()\n",
    "ax2.legend(h1+h2, l1+l2, loc='lower right')\n",
    "\n",
    "ax2.yaxis.set_major_locator(MaxNLocator(integer=True))\n",
    "\n",
    "plt.xticks(y_pos, options)\n",
    "ax.set_ylabel('Accuracy')\n",
    "ax2.set_ylabel('Feature Count')\n",
    "\n",
    "plt.show()"
   ]
  },
  {
   "cell_type": "code",
   "execution_count": null,
   "metadata": {},
   "outputs": [],
   "source": []
  }
 ],
 "metadata": {
  "kernelspec": {
   "display_name": "Python 3 (ipykernel)",
   "language": "python",
   "name": "python3"
  },
  "language_info": {
   "codemirror_mode": {
    "name": "ipython",
    "version": 3
   },
   "file_extension": ".py",
   "mimetype": "text/x-python",
   "name": "python",
   "nbconvert_exporter": "python",
   "pygments_lexer": "ipython3",
   "version": "3.7.10"
  }
 },
 "nbformat": 4,
 "nbformat_minor": 2
}
