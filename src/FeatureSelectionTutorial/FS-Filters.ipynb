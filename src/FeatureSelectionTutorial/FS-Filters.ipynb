{
 "cells": [
  {
   "cell_type": "markdown",
   "metadata": {},
   "source": [
    "# Feature Selection using Filters\n",
    "### Feature Scoring - two methods  \n",
    "1. Chi square statistic\n",
    "2. Information Gain"
   ]
  },
  {
   "cell_type": "code",
   "execution_count": 1,
   "metadata": {},
   "outputs": [],
   "source": [
    "import pandas as pd\n",
    "import numpy as np\n",
    "from sklearn.feature_selection import chi2, mutual_info_classif\n",
    "from sklearn.model_selection import train_test_split\n",
    "from sklearn.preprocessing import MinMaxScaler\n",
    "from sklearn.model_selection import cross_val_score\n",
    "import matplotlib.pyplot as plt "
   ]
  },
  {
   "cell_type": "code",
   "execution_count": 2,
   "metadata": {},
   "outputs": [
    {
     "name": "stdout",
     "output_type": "stream",
     "text": [
      "(2310, 20)\n"
     ]
    },
    {
     "data": {
      "text/html": [
       "<div>\n",
       "<style scoped>\n",
       "    .dataframe tbody tr th:only-of-type {\n",
       "        vertical-align: middle;\n",
       "    }\n",
       "\n",
       "    .dataframe tbody tr th {\n",
       "        vertical-align: top;\n",
       "    }\n",
       "\n",
       "    .dataframe thead th {\n",
       "        text-align: right;\n",
       "    }\n",
       "</style>\n",
       "<table border=\"1\" class=\"dataframe\">\n",
       "  <thead>\n",
       "    <tr style=\"text-align: right;\">\n",
       "      <th></th>\n",
       "      <th>Class</th>\n",
       "      <th>REGION-CENTROID-COL</th>\n",
       "      <th>REGION-CENTROID-ROW</th>\n",
       "      <th>REGION-PIXEL-COUNT</th>\n",
       "      <th>SHORT-LINE-DENSITY-5</th>\n",
       "      <th>SHORT-LINE-DENSITY-2</th>\n",
       "      <th>VEDGE-MEAN</th>\n",
       "      <th>VEDGE-SD</th>\n",
       "      <th>HEDGE-MEAN</th>\n",
       "      <th>HEDGE-SD</th>\n",
       "      <th>INTENSITY-MEAN</th>\n",
       "      <th>RAWRED-MEAN</th>\n",
       "      <th>RAWBLUE-MEAN</th>\n",
       "      <th>RAWGREEN-MEAN</th>\n",
       "      <th>EXRED-MEAN</th>\n",
       "      <th>EXBLUE-MEAN</th>\n",
       "      <th>EXGREEN-MEAN</th>\n",
       "      <th>VALUE-MEAN</th>\n",
       "      <th>SATURATION-MEAN</th>\n",
       "      <th>HUE-MEAN</th>\n",
       "    </tr>\n",
       "  </thead>\n",
       "  <tbody>\n",
       "    <tr>\n",
       "      <th>0</th>\n",
       "      <td>BRICKFACE</td>\n",
       "      <td>140.0</td>\n",
       "      <td>125.0</td>\n",
       "      <td>9</td>\n",
       "      <td>0.0</td>\n",
       "      <td>0.0</td>\n",
       "      <td>0.277778</td>\n",
       "      <td>0.062963</td>\n",
       "      <td>0.666667</td>\n",
       "      <td>0.311111</td>\n",
       "      <td>6.185185</td>\n",
       "      <td>7.333334</td>\n",
       "      <td>7.666666</td>\n",
       "      <td>3.555556</td>\n",
       "      <td>3.444444</td>\n",
       "      <td>4.444445</td>\n",
       "      <td>-7.888889</td>\n",
       "      <td>7.777778</td>\n",
       "      <td>0.545635</td>\n",
       "      <td>-1.121818</td>\n",
       "    </tr>\n",
       "    <tr>\n",
       "      <th>1</th>\n",
       "      <td>BRICKFACE</td>\n",
       "      <td>188.0</td>\n",
       "      <td>133.0</td>\n",
       "      <td>9</td>\n",
       "      <td>0.0</td>\n",
       "      <td>0.0</td>\n",
       "      <td>0.333333</td>\n",
       "      <td>0.266667</td>\n",
       "      <td>0.500000</td>\n",
       "      <td>0.077778</td>\n",
       "      <td>6.666666</td>\n",
       "      <td>8.333334</td>\n",
       "      <td>7.777778</td>\n",
       "      <td>3.888889</td>\n",
       "      <td>5.000000</td>\n",
       "      <td>3.333333</td>\n",
       "      <td>-8.333333</td>\n",
       "      <td>8.444445</td>\n",
       "      <td>0.538580</td>\n",
       "      <td>-0.924817</td>\n",
       "    </tr>\n",
       "    <tr>\n",
       "      <th>2</th>\n",
       "      <td>BRICKFACE</td>\n",
       "      <td>105.0</td>\n",
       "      <td>139.0</td>\n",
       "      <td>9</td>\n",
       "      <td>0.0</td>\n",
       "      <td>0.0</td>\n",
       "      <td>0.277778</td>\n",
       "      <td>0.107407</td>\n",
       "      <td>0.833333</td>\n",
       "      <td>0.522222</td>\n",
       "      <td>6.111111</td>\n",
       "      <td>7.555555</td>\n",
       "      <td>7.222222</td>\n",
       "      <td>3.555556</td>\n",
       "      <td>4.333334</td>\n",
       "      <td>3.333333</td>\n",
       "      <td>-7.666666</td>\n",
       "      <td>7.555555</td>\n",
       "      <td>0.532628</td>\n",
       "      <td>-0.965946</td>\n",
       "    </tr>\n",
       "    <tr>\n",
       "      <th>3</th>\n",
       "      <td>BRICKFACE</td>\n",
       "      <td>34.0</td>\n",
       "      <td>137.0</td>\n",
       "      <td>9</td>\n",
       "      <td>0.0</td>\n",
       "      <td>0.0</td>\n",
       "      <td>0.500000</td>\n",
       "      <td>0.166667</td>\n",
       "      <td>1.111111</td>\n",
       "      <td>0.474074</td>\n",
       "      <td>5.851852</td>\n",
       "      <td>7.777778</td>\n",
       "      <td>6.444445</td>\n",
       "      <td>3.333333</td>\n",
       "      <td>5.777778</td>\n",
       "      <td>1.777778</td>\n",
       "      <td>-7.555555</td>\n",
       "      <td>7.777778</td>\n",
       "      <td>0.573633</td>\n",
       "      <td>-0.744272</td>\n",
       "    </tr>\n",
       "    <tr>\n",
       "      <th>4</th>\n",
       "      <td>BRICKFACE</td>\n",
       "      <td>39.0</td>\n",
       "      <td>111.0</td>\n",
       "      <td>9</td>\n",
       "      <td>0.0</td>\n",
       "      <td>0.0</td>\n",
       "      <td>0.722222</td>\n",
       "      <td>0.374074</td>\n",
       "      <td>0.888889</td>\n",
       "      <td>0.429629</td>\n",
       "      <td>6.037037</td>\n",
       "      <td>7.000000</td>\n",
       "      <td>7.666666</td>\n",
       "      <td>3.444444</td>\n",
       "      <td>2.888889</td>\n",
       "      <td>4.888889</td>\n",
       "      <td>-7.777778</td>\n",
       "      <td>7.888889</td>\n",
       "      <td>0.562919</td>\n",
       "      <td>-1.175773</td>\n",
       "    </tr>\n",
       "  </tbody>\n",
       "</table>\n",
       "</div>"
      ],
      "text/plain": [
       "       Class  REGION-CENTROID-COL  REGION-CENTROID-ROW  REGION-PIXEL-COUNT  \\\n",
       "0  BRICKFACE                140.0                125.0                   9   \n",
       "1  BRICKFACE                188.0                133.0                   9   \n",
       "2  BRICKFACE                105.0                139.0                   9   \n",
       "3  BRICKFACE                 34.0                137.0                   9   \n",
       "4  BRICKFACE                 39.0                111.0                   9   \n",
       "\n",
       "   SHORT-LINE-DENSITY-5  SHORT-LINE-DENSITY-2  VEDGE-MEAN  VEDGE-SD  \\\n",
       "0                   0.0                   0.0    0.277778  0.062963   \n",
       "1                   0.0                   0.0    0.333333  0.266667   \n",
       "2                   0.0                   0.0    0.277778  0.107407   \n",
       "3                   0.0                   0.0    0.500000  0.166667   \n",
       "4                   0.0                   0.0    0.722222  0.374074   \n",
       "\n",
       "   HEDGE-MEAN  HEDGE-SD  INTENSITY-MEAN  RAWRED-MEAN  RAWBLUE-MEAN  \\\n",
       "0    0.666667  0.311111        6.185185     7.333334      7.666666   \n",
       "1    0.500000  0.077778        6.666666     8.333334      7.777778   \n",
       "2    0.833333  0.522222        6.111111     7.555555      7.222222   \n",
       "3    1.111111  0.474074        5.851852     7.777778      6.444445   \n",
       "4    0.888889  0.429629        6.037037     7.000000      7.666666   \n",
       "\n",
       "   RAWGREEN-MEAN  EXRED-MEAN  EXBLUE-MEAN  EXGREEN-MEAN  VALUE-MEAN  \\\n",
       "0       3.555556    3.444444     4.444445     -7.888889    7.777778   \n",
       "1       3.888889    5.000000     3.333333     -8.333333    8.444445   \n",
       "2       3.555556    4.333334     3.333333     -7.666666    7.555555   \n",
       "3       3.333333    5.777778     1.777778     -7.555555    7.777778   \n",
       "4       3.444444    2.888889     4.888889     -7.777778    7.888889   \n",
       "\n",
       "   SATURATION-MEAN  HUE-MEAN  \n",
       "0         0.545635 -1.121818  \n",
       "1         0.538580 -0.924817  \n",
       "2         0.532628 -0.965946  \n",
       "3         0.573633 -0.744272  \n",
       "4         0.562919 -1.175773  "
      ]
     },
     "execution_count": 2,
     "metadata": {},
     "output_type": "execute_result"
    }
   ],
   "source": [
    "seg_data = pd.read_csv('segmentation-all.csv')\n",
    "print(seg_data.shape)\n",
    "seg_data.head()"
   ]
  },
  {
   "cell_type": "code",
   "execution_count": 3,
   "metadata": {},
   "outputs": [
    {
     "data": {
      "text/plain": [
       "GRASS        330\n",
       "CEMENT       330\n",
       "SKY          330\n",
       "WINDOW       330\n",
       "BRICKFACE    330\n",
       "PATH         330\n",
       "FOLIAGE      330\n",
       "Name: Class, dtype: int64"
      ]
     },
     "execution_count": 3,
     "metadata": {},
     "output_type": "execute_result"
    }
   ],
   "source": [
    "seg_data['Class'].value_counts()"
   ]
  },
  {
   "cell_type": "markdown",
   "metadata": {},
   "source": [
    "Load the data, scale it and divide into train and test sets.  \n",
    "The filters are *trained* using the training data and then a classifier is trained on the feature subset and tested on the test set. "
   ]
  },
  {
   "cell_type": "code",
   "execution_count": 4,
   "metadata": {},
   "outputs": [
    {
     "data": {
      "text/plain": [
       "((1155, 19), (1155, 19))"
      ]
     },
     "execution_count": 4,
     "metadata": {},
     "output_type": "execute_result"
    }
   ],
   "source": [
    "y = seg_data.pop('Class').values\n",
    "X_raw = seg_data.values\n",
    "\n",
    "X_tr_raw, X_ts_raw, y_train, y_test = train_test_split(X_raw, y, \n",
    "                                                       random_state=1, test_size=1/2)\n",
    "scaler = MinMaxScaler()\n",
    "X_train = scaler.fit_transform(X_tr_raw)\n",
    "X_test = scaler.transform(X_ts_raw)\n",
    "\n",
    "feature_names = seg_data.columns\n",
    "X_train.shape, X_test.shape"
   ]
  },
  {
   "cell_type": "markdown",
   "metadata": {},
   "source": [
    "### Feature Scores  \n",
    "Determine the chi-squared and information gain scores for all features using the training set.   \n",
    "**Note:** The mutual information score returned by `mutual_info_classif` is effectively an information gain score.  "
   ]
  },
  {
   "cell_type": "code",
   "execution_count": 5,
   "metadata": {},
   "outputs": [
    {
     "data": {
      "text/plain": [
       "array([ 14.99569813, 114.86161054,   0.        ,  13.47060858,\n",
       "        27.33137409,  14.52455789,  20.00650221,  17.74732567,\n",
       "        15.4768292 , 293.4360061 , 290.96380025, 303.47783064,\n",
       "       290.11739498,  54.25395182, 111.01924229,  92.91780859,\n",
       "       287.66891553,  81.64654774, 268.86221356])"
      ]
     },
     "execution_count": 5,
     "metadata": {},
     "output_type": "execute_result"
    }
   ],
   "source": [
    "chi2_score, pval = chi2(X_train, y_train)\n",
    "chi2_score = np.nan_to_num(chi2_score)\n",
    "chi2_score\n",
    "# The chi square scores for the features"
   ]
  },
  {
   "cell_type": "code",
   "execution_count": 6,
   "metadata": {},
   "outputs": [
    {
     "data": {
      "text/plain": [
       "array([0.12564121, 0.95086835, 0.        , 0.        , 0.03434048,\n",
       "       0.4961291 , 0.3168763 , 0.46190501, 0.3611665 , 1.16063857,\n",
       "       1.2099681 , 1.10885309, 1.13481537, 0.77131547, 0.91339938,\n",
       "       0.95851425, 1.13550032, 0.92892621, 1.13670514])"
      ]
     },
     "execution_count": 6,
     "metadata": {},
     "output_type": "execute_result"
    }
   ],
   "source": [
    "i_scores = mutual_info_classif(X_train,y_train)\n",
    "i_scores\n",
    "# The i-gain scores for the features"
   ]
  },
  {
   "cell_type": "markdown",
   "metadata": {},
   "source": [
    "Store the scores in a dataframe indexed by the feature names."
   ]
  },
  {
   "cell_type": "code",
   "execution_count": 7,
   "metadata": {},
   "outputs": [
    {
     "data": {
      "text/html": [
       "<div>\n",
       "<style scoped>\n",
       "    .dataframe tbody tr th:only-of-type {\n",
       "        vertical-align: middle;\n",
       "    }\n",
       "\n",
       "    .dataframe tbody tr th {\n",
       "        vertical-align: top;\n",
       "    }\n",
       "\n",
       "    .dataframe thead th {\n",
       "        text-align: right;\n",
       "    }\n",
       "</style>\n",
       "<table border=\"1\" class=\"dataframe\">\n",
       "  <thead>\n",
       "    <tr style=\"text-align: right;\">\n",
       "      <th></th>\n",
       "      <th>Mutual Info.</th>\n",
       "      <th>Chi Square</th>\n",
       "    </tr>\n",
       "    <tr>\n",
       "      <th>Feature</th>\n",
       "      <th></th>\n",
       "      <th></th>\n",
       "    </tr>\n",
       "  </thead>\n",
       "  <tbody>\n",
       "    <tr>\n",
       "      <th>RAWRED-MEAN</th>\n",
       "      <td>1.209968</td>\n",
       "      <td>290.963800</td>\n",
       "    </tr>\n",
       "    <tr>\n",
       "      <th>INTENSITY-MEAN</th>\n",
       "      <td>1.160639</td>\n",
       "      <td>293.436006</td>\n",
       "    </tr>\n",
       "    <tr>\n",
       "      <th>HUE-MEAN</th>\n",
       "      <td>1.136705</td>\n",
       "      <td>268.862214</td>\n",
       "    </tr>\n",
       "    <tr>\n",
       "      <th>VALUE-MEAN</th>\n",
       "      <td>1.135500</td>\n",
       "      <td>287.668916</td>\n",
       "    </tr>\n",
       "    <tr>\n",
       "      <th>RAWGREEN-MEAN</th>\n",
       "      <td>1.134815</td>\n",
       "      <td>290.117395</td>\n",
       "    </tr>\n",
       "    <tr>\n",
       "      <th>RAWBLUE-MEAN</th>\n",
       "      <td>1.108853</td>\n",
       "      <td>303.477831</td>\n",
       "    </tr>\n",
       "    <tr>\n",
       "      <th>EXGREEN-MEAN</th>\n",
       "      <td>0.958514</td>\n",
       "      <td>92.917809</td>\n",
       "    </tr>\n",
       "    <tr>\n",
       "      <th>REGION-CENTROID-ROW</th>\n",
       "      <td>0.950868</td>\n",
       "      <td>114.861611</td>\n",
       "    </tr>\n",
       "    <tr>\n",
       "      <th>SATURATION-MEAN</th>\n",
       "      <td>0.928926</td>\n",
       "      <td>81.646548</td>\n",
       "    </tr>\n",
       "    <tr>\n",
       "      <th>EXBLUE-MEAN</th>\n",
       "      <td>0.913399</td>\n",
       "      <td>111.019242</td>\n",
       "    </tr>\n",
       "    <tr>\n",
       "      <th>EXRED-MEAN</th>\n",
       "      <td>0.771315</td>\n",
       "      <td>54.253952</td>\n",
       "    </tr>\n",
       "    <tr>\n",
       "      <th>VEDGE-MEAN</th>\n",
       "      <td>0.496129</td>\n",
       "      <td>14.524558</td>\n",
       "    </tr>\n",
       "    <tr>\n",
       "      <th>HEDGE-MEAN</th>\n",
       "      <td>0.461905</td>\n",
       "      <td>17.747326</td>\n",
       "    </tr>\n",
       "    <tr>\n",
       "      <th>HEDGE-SD</th>\n",
       "      <td>0.361167</td>\n",
       "      <td>15.476829</td>\n",
       "    </tr>\n",
       "    <tr>\n",
       "      <th>VEDGE-SD</th>\n",
       "      <td>0.316876</td>\n",
       "      <td>20.006502</td>\n",
       "    </tr>\n",
       "    <tr>\n",
       "      <th>REGION-CENTROID-COL</th>\n",
       "      <td>0.125641</td>\n",
       "      <td>14.995698</td>\n",
       "    </tr>\n",
       "    <tr>\n",
       "      <th>SHORT-LINE-DENSITY-2</th>\n",
       "      <td>0.034340</td>\n",
       "      <td>27.331374</td>\n",
       "    </tr>\n",
       "    <tr>\n",
       "      <th>SHORT-LINE-DENSITY-5</th>\n",
       "      <td>0.000000</td>\n",
       "      <td>13.470609</td>\n",
       "    </tr>\n",
       "    <tr>\n",
       "      <th>REGION-PIXEL-COUNT</th>\n",
       "      <td>0.000000</td>\n",
       "      <td>0.000000</td>\n",
       "    </tr>\n",
       "  </tbody>\n",
       "</table>\n",
       "</div>"
      ],
      "text/plain": [
       "                      Mutual Info.  Chi Square\n",
       "Feature                                       \n",
       "RAWRED-MEAN               1.209968  290.963800\n",
       "INTENSITY-MEAN            1.160639  293.436006\n",
       "HUE-MEAN                  1.136705  268.862214\n",
       "VALUE-MEAN                1.135500  287.668916\n",
       "RAWGREEN-MEAN             1.134815  290.117395\n",
       "RAWBLUE-MEAN              1.108853  303.477831\n",
       "EXGREEN-MEAN              0.958514   92.917809\n",
       "REGION-CENTROID-ROW       0.950868  114.861611\n",
       "SATURATION-MEAN           0.928926   81.646548\n",
       "EXBLUE-MEAN               0.913399  111.019242\n",
       "EXRED-MEAN                0.771315   54.253952\n",
       "VEDGE-MEAN                0.496129   14.524558\n",
       "HEDGE-MEAN                0.461905   17.747326\n",
       "HEDGE-SD                  0.361167   15.476829\n",
       "VEDGE-SD                  0.316876   20.006502\n",
       "REGION-CENTROID-COL       0.125641   14.995698\n",
       "SHORT-LINE-DENSITY-2      0.034340   27.331374\n",
       "SHORT-LINE-DENSITY-5      0.000000   13.470609\n",
       "REGION-PIXEL-COUNT        0.000000    0.000000"
      ]
     },
     "execution_count": 7,
     "metadata": {},
     "output_type": "execute_result"
    }
   ],
   "source": [
    "df=pd.DataFrame({'Mutual Info.':i_scores,'Chi Square':chi2_score,'Feature':feature_names})\n",
    "df.set_index('Feature', inplace = True)\n",
    "df.sort_values('Mutual Info.', inplace = True, ascending = False)\n",
    "df"
   ]
  },
  {
   "cell_type": "markdown",
   "metadata": {},
   "source": [
    "### Plotting the Filter scores\n",
    "We see that the two scores are fairly well correlated.  \n",
    "The Spearman correlation is 0.89."
   ]
  },
  {
   "cell_type": "code",
   "execution_count": 8,
   "metadata": {},
   "outputs": [
    {
     "data": {
      "text/plain": [
       "<matplotlib.legend.Legend at 0x7fcf63ab36d0>"
      ]
     },
     "execution_count": 8,
     "metadata": {},
     "output_type": "execute_result"
    },
    {
     "data": {
      "image/png": "[encoded data removed]",
      "text/plain": [
       "<Figure size 432x288 with 2 Axes>"
      ]
     },
     "metadata": {
      "needs_background": "light"
     },
     "output_type": "display_data"
    }
   ],
   "source": [
    "fig, ax = plt.subplots()\n",
    "rr = range(0,len(feature_names))\n",
    "ax2 = ax.twinx()\n",
    "ax.plot(df.index, df[\"Mutual Info.\"], label='I-Gain')\n",
    "ax2.plot(df.index, df[\"Chi Square\"], color='skyblue', label='Chi Squared')\n",
    "ax.set_xticks(rr)\n",
    "\n",
    "ax.set_xticklabels(list(df.index), rotation = 90)\n",
    "ax.set_xlabel('Features', fontsize=12, fontweight='bold')\n",
    "ax.set_ylabel('I-Gain')\n",
    "ax2.set_ylabel('Chi Squared')\n",
    "fig.legend(loc=\"upper right\", bbox_to_anchor=(1,1), bbox_transform=ax.transAxes)"
   ]
  },
  {
   "cell_type": "code",
   "execution_count": 9,
   "metadata": {},
   "outputs": [
    {
     "data": {
      "text/plain": [
       "SpearmanrResult(correlation=0.9065380425140167, pvalue=8.924692961871377e-08)"
      ]
     },
     "execution_count": 9,
     "metadata": {},
     "output_type": "execute_result"
    }
   ],
   "source": [
    "from scipy import stats\n",
    "stats.spearmanr(chi2_score, i_scores)"
   ]
  },
  {
   "cell_type": "markdown",
   "metadata": {},
   "source": [
    "## Feature Selection\n",
    "Compare  \n",
    "- Baseline: all features\n",
    "- Top three, I-Gain and Chi-Square\n",
    "- Top six, I-Gain and Chi-Square\n",
    "- Top half (12), I-Gain and Chi-Square"
   ]
  },
  {
   "cell_type": "code",
   "execution_count": 10,
   "metadata": {},
   "outputs": [],
   "source": [
    "from sklearn.model_selection import train_test_split\n",
    "from sklearn.feature_selection import SelectKBest, mutual_info_classif\n",
    "from sklearn.metrics import accuracy_score\n",
    "from sklearn.neighbors import KNeighborsClassifier"
   ]
  },
  {
   "cell_type": "markdown",
   "metadata": {},
   "source": [
    "### Baseline Classifier"
   ]
  },
  {
   "cell_type": "code",
   "execution_count": 11,
   "metadata": {},
   "outputs": [
    {
     "data": {
      "text/plain": [
       "0.9532467532467532"
      ]
     },
     "execution_count": 11,
     "metadata": {},
     "output_type": "execute_result"
    }
   ],
   "source": [
    "model = KNeighborsClassifier(n_neighbors=3)\n",
    "model = model.fit(X_train,y_train)\n",
    "y_pred = model.predict(X_test)\n",
    "acc = accuracy_score(y_pred,y_test)\n",
    "acc"
   ]
  },
  {
   "cell_type": "code",
   "execution_count": 12,
   "metadata": {},
   "outputs": [
    {
     "data": {
      "text/plain": [
       "19"
      ]
     },
     "execution_count": 12,
     "metadata": {},
     "output_type": "execute_result"
    }
   ],
   "source": [
    "n_features = X_train.shape[1]\n",
    "n_features"
   ]
  },
  {
   "cell_type": "code",
   "execution_count": 13,
   "metadata": {},
   "outputs": [
    {
     "name": "stdout",
     "output_type": "stream",
     "text": [
      "<function mutual_info_classif at 0x7fcf6cc8ee60> 19 0.9532467532467532\n",
      "<function mutual_info_classif at 0x7fcf6cc8ee60> 3 0.8632034632034632\n",
      "<function mutual_info_classif at 0x7fcf6cc8ee60> 6 0.8796536796536797\n",
      "<function mutual_info_classif at 0x7fcf6cc8ee60> 10 0.9558441558441558\n",
      "<function mutual_info_classif at 0x7fcf6cc8ee60> 15 0.9558441558441558\n",
      "<function chi2 at 0x7fcf6d364290> 19 0.9532467532467532\n",
      "<function chi2 at 0x7fcf6d364290> 3 0.8406926406926407\n",
      "<function chi2 at 0x7fcf6d364290> 6 0.8796536796536797\n",
      "<function chi2 at 0x7fcf6d364290> 10 0.9558441558441558\n",
      "<function chi2 at 0x7fcf6d364290> 15 0.9497835497835497\n"
     ]
    }
   ],
   "source": [
    "filters = [mutual_info_classif, chi2]\n",
    "k_options = [n_features, 3, 6, 10, 15]\n",
    "filt_scores = {}\n",
    "chi_scores = {}\n",
    "i_gain_scores = {}\n",
    "\n",
    "for the_filter in filters:\n",
    "    accs = []\n",
    "    for k_val in k_options:\n",
    "        FS_trans = SelectKBest(the_filter, \n",
    "                           k=k_val).fit(X_train, y_train)\n",
    "        X_tR_new = FS_trans.transform(X_train)\n",
    "        X_tS_new = FS_trans.transform(X_test)\n",
    "\n",
    "        model.fit(X_tR_new, y_train)\n",
    "\n",
    "        y_tS_pred = model.predict(X_tS_new)\n",
    "        \n",
    "        acc = accuracy_score(y_test, y_tS_pred)\n",
    "        accs.append(acc)\n",
    "        print(the_filter, k_val, acc)\n",
    "    filt_scores[the_filter.__name__] = accs\n"
   ]
  },
  {
   "cell_type": "code",
   "execution_count": 14,
   "metadata": {},
   "outputs": [
    {
     "data": {
      "image/png": "[encoded data removed]",
      "text/plain": [
       "<Figure size 432x288 with 1 Axes>"
      ]
     },
     "metadata": {
      "needs_background": "light"
     },
     "output_type": "display_data"
    }
   ],
   "source": [
    "import matplotlib.pyplot as plt \n",
    "import numpy as np\n",
    "%matplotlib inline \n",
    "\n",
    "fig, ax = plt.subplots()\n",
    "width = 0.3\n",
    "sb = 'skyblue'\n",
    "\n",
    "options = ['All'] + k_options[1:]\n",
    "ig = filt_scores['mutual_info_classif']\n",
    "ch = filt_scores['chi2']\n",
    "\n",
    "y_pos = np.arange(len(options))\n",
    "\n",
    "p1 = ax.bar(y_pos-width, ig, width, align='center', \n",
    "            color=['red', 'blue', 'blue','blue','blue'],alpha=0.5)\n",
    "p2 = ax.bar(y_pos, ch, width, align='center', \n",
    "            color=['red', sb, sb, sb, sb],alpha=0.5)\n",
    "\n",
    "ax.legend((p1[1], p2[1]), ('I-Gain', 'Chi Squared'),loc='lower right')\n",
    "ax.set_ylim([0.5, 1])\n",
    "plt.grid(axis = 'y')\n",
    "plt.yticks(np.arange(0.5,1.05,0.1))\n",
    "\n",
    "plt.xticks(y_pos, options)\n",
    "plt.ylabel('Test Set Accuracy')\n",
    "plt.xlabel('Feature Counts')\n",
    "plt.show()"
   ]
  },
  {
   "cell_type": "markdown",
   "metadata": {},
   "source": [
    "## Hybrid Filter Wrapper Strategy\n",
    "We rank the features using information gain (well mutual information) and select the _k_ best to build a classifier.  \n",
    "We iterate through increasing values of *k*.  \n",
    "`SelectKBest` is a _transform_ that transforms the training data.\n"
   ]
  },
  {
   "cell_type": "code",
   "execution_count": 15,
   "metadata": {
    "scrolled": true
   },
   "outputs": [
    {
     "name": "stdout",
     "output_type": "stream",
     "text": [
      "9 0.9506166187739464\n"
     ]
    },
    {
     "data": {
      "text/html": [
       "<div>\n",
       "<style scoped>\n",
       "    .dataframe tbody tr th:only-of-type {\n",
       "        vertical-align: middle;\n",
       "    }\n",
       "\n",
       "    .dataframe tbody tr th {\n",
       "        vertical-align: top;\n",
       "    }\n",
       "\n",
       "    .dataframe thead th {\n",
       "        text-align: right;\n",
       "    }\n",
       "</style>\n",
       "<table border=\"1\" class=\"dataframe\">\n",
       "  <thead>\n",
       "    <tr style=\"text-align: right;\">\n",
       "      <th></th>\n",
       "      <th>Mutual Info.</th>\n",
       "      <th>Chi Square</th>\n",
       "      <th>Training Acc.</th>\n",
       "      <th>Test Acc.</th>\n",
       "    </tr>\n",
       "    <tr>\n",
       "      <th>Feature</th>\n",
       "      <th></th>\n",
       "      <th></th>\n",
       "      <th></th>\n",
       "      <th></th>\n",
       "    </tr>\n",
       "  </thead>\n",
       "  <tbody>\n",
       "    <tr>\n",
       "      <th>RAWRED-MEAN</th>\n",
       "      <td>1.209968</td>\n",
       "      <td>290.963800</td>\n",
       "      <td>0.634567</td>\n",
       "      <td>0.613853</td>\n",
       "    </tr>\n",
       "    <tr>\n",
       "      <th>INTENSITY-MEAN</th>\n",
       "      <td>1.160639</td>\n",
       "      <td>293.436006</td>\n",
       "      <td>0.771360</td>\n",
       "      <td>0.777489</td>\n",
       "    </tr>\n",
       "    <tr>\n",
       "      <th>HUE-MEAN</th>\n",
       "      <td>1.136705</td>\n",
       "      <td>268.862214</td>\n",
       "      <td>0.813805</td>\n",
       "      <td>0.811255</td>\n",
       "    </tr>\n",
       "    <tr>\n",
       "      <th>VALUE-MEAN</th>\n",
       "      <td>1.135500</td>\n",
       "      <td>287.668916</td>\n",
       "      <td>0.861428</td>\n",
       "      <td>0.852814</td>\n",
       "    </tr>\n",
       "    <tr>\n",
       "      <th>RAWGREEN-MEAN</th>\n",
       "      <td>1.134815</td>\n",
       "      <td>290.117395</td>\n",
       "      <td>0.867499</td>\n",
       "      <td>0.863203</td>\n",
       "    </tr>\n",
       "    <tr>\n",
       "      <th>RAWBLUE-MEAN</th>\n",
       "      <td>1.108853</td>\n",
       "      <td>303.477831</td>\n",
       "      <td>0.863159</td>\n",
       "      <td>0.879654</td>\n",
       "    </tr>\n",
       "    <tr>\n",
       "      <th>EXGREEN-MEAN</th>\n",
       "      <td>0.958514</td>\n",
       "      <td>92.917809</td>\n",
       "      <td>0.866625</td>\n",
       "      <td>0.891775</td>\n",
       "    </tr>\n",
       "    <tr>\n",
       "      <th>REGION-CENTROID-ROW</th>\n",
       "      <td>0.950868</td>\n",
       "      <td>114.861611</td>\n",
       "      <td>0.943696</td>\n",
       "      <td>0.953247</td>\n",
       "    </tr>\n",
       "    <tr>\n",
       "      <th>SATURATION-MEAN</th>\n",
       "      <td>0.928926</td>\n",
       "      <td>81.646548</td>\n",
       "      <td>0.950617</td>\n",
       "      <td>0.955844</td>\n",
       "    </tr>\n",
       "    <tr>\n",
       "      <th>EXBLUE-MEAN</th>\n",
       "      <td>0.913399</td>\n",
       "      <td>111.019242</td>\n",
       "      <td>0.948000</td>\n",
       "      <td>0.955844</td>\n",
       "    </tr>\n",
       "    <tr>\n",
       "      <th>EXRED-MEAN</th>\n",
       "      <td>0.771315</td>\n",
       "      <td>54.253952</td>\n",
       "      <td>0.950617</td>\n",
       "      <td>0.953247</td>\n",
       "    </tr>\n",
       "    <tr>\n",
       "      <th>VEDGE-MEAN</th>\n",
       "      <td>0.496129</td>\n",
       "      <td>14.524558</td>\n",
       "      <td>0.941104</td>\n",
       "      <td>0.954978</td>\n",
       "    </tr>\n",
       "    <tr>\n",
       "      <th>HEDGE-MEAN</th>\n",
       "      <td>0.461905</td>\n",
       "      <td>17.747326</td>\n",
       "      <td>0.945408</td>\n",
       "      <td>0.956710</td>\n",
       "    </tr>\n",
       "    <tr>\n",
       "      <th>HEDGE-SD</th>\n",
       "      <td>0.361167</td>\n",
       "      <td>15.476829</td>\n",
       "      <td>0.946276</td>\n",
       "      <td>0.955844</td>\n",
       "    </tr>\n",
       "    <tr>\n",
       "      <th>VEDGE-SD</th>\n",
       "      <td>0.316876</td>\n",
       "      <td>20.006502</td>\n",
       "      <td>0.946276</td>\n",
       "      <td>0.955844</td>\n",
       "    </tr>\n",
       "  </tbody>\n",
       "</table>\n",
       "</div>"
      ],
      "text/plain": [
       "                     Mutual Info.  Chi Square  Training Acc.  Test Acc.\n",
       "Feature                                                                \n",
       "RAWRED-MEAN              1.209968  290.963800       0.634567   0.613853\n",
       "INTENSITY-MEAN           1.160639  293.436006       0.771360   0.777489\n",
       "HUE-MEAN                 1.136705  268.862214       0.813805   0.811255\n",
       "VALUE-MEAN               1.135500  287.668916       0.861428   0.852814\n",
       "RAWGREEN-MEAN            1.134815  290.117395       0.867499   0.863203\n",
       "RAWBLUE-MEAN             1.108853  303.477831       0.863159   0.879654\n",
       "EXGREEN-MEAN             0.958514   92.917809       0.866625   0.891775\n",
       "REGION-CENTROID-ROW      0.950868  114.861611       0.943696   0.953247\n",
       "SATURATION-MEAN          0.928926   81.646548       0.950617   0.955844\n",
       "EXBLUE-MEAN              0.913399  111.019242       0.948000   0.955844\n",
       "EXRED-MEAN               0.771315   54.253952       0.950617   0.953247\n",
       "VEDGE-MEAN               0.496129   14.524558       0.941104   0.954978\n",
       "HEDGE-MEAN               0.461905   17.747326       0.945408   0.956710\n",
       "HEDGE-SD                 0.361167   15.476829       0.946276   0.955844\n",
       "VEDGE-SD                 0.316876   20.006502       0.946276   0.955844"
      ]
     },
     "execution_count": 15,
     "metadata": {},
     "output_type": "execute_result"
    }
   ],
   "source": [
    "cv_acc_scores = []\n",
    "tst_acc_scores = []\n",
    "best_acc = 0\n",
    "best_k = 0\n",
    "for kk in range(1, X_train.shape[1]+1):\n",
    "    FS_trans = SelectKBest(mutual_info_classif, \n",
    "                           k=kk).fit(X_train, y_train)\n",
    "    X_tR_new = FS_trans.transform(X_train)\n",
    "    X_tS_new = FS_trans.transform(X_test)\n",
    "    cv_acc = cross_val_score(model, X_tR_new, y_train, cv=8)\n",
    "    cv_acc_scores.append(cv_acc.mean())\n",
    "    y_pred_temp = model.fit(X_tR_new, y_train).predict(X_tS_new)\n",
    "    tst_acc_scores.append(accuracy_score(y_pred_temp, y_test))\n",
    "    if cv_acc.mean() > best_acc:\n",
    "        best_acc = cv_acc.mean()\n",
    "        best_k = kk\n",
    "df['Training Acc.'] = cv_acc_scores\n",
    "df['Test Acc.'] = tst_acc_scores\n",
    "\n",
    "print(best_k, best_acc)\n",
    "df.head(15)"
   ]
  },
  {
   "cell_type": "code",
   "execution_count": 16,
   "metadata": {},
   "outputs": [
    {
     "data": {
      "image/png": "[encoded data removed]",
      "text/plain": [
       "<Figure size 432x288 with 2 Axes>"
      ]
     },
     "metadata": {
      "needs_background": "light"
     },
     "output_type": "display_data"
    }
   ],
   "source": [
    "import matplotlib.pyplot as plt\n",
    "%matplotlib inline\n",
    "\n",
    "n = len(df.index)\n",
    "rr = range(0,n)\n",
    "fig, ax = plt.subplots()\n",
    "ax2 = ax.twinx()\n",
    "ax.bar(df.index, df[\"Mutual Info.\"], label='I-Gain',width=.35)\n",
    "\n",
    "ax2.plot(df.index, df[\"Training Acc.\"], color='green', label='Training Acc.')\n",
    "ax2.plot(df.index, df[\"Test Acc.\"], color='lightgreen', label='Test Acc')\n",
    "ax.set_xticks(rr)\n",
    "ax2.plot(best_k-1,best_acc,'gx') \n",
    "ax.set_xticklabels(list(df.index), rotation = 90)\n",
    "ax.set_xlabel('Features')\n",
    "ax.set_ylabel('I-Gain')\n",
    "ax2.set_ylabel('Accuracy')\n",
    "fig.legend(loc=\"upper right\", bbox_to_anchor=(1,0.8), bbox_transform=ax.transAxes)\n",
    "plt.show()"
   ]
  },
  {
   "cell_type": "code",
   "execution_count": null,
   "metadata": {},
   "outputs": [],
   "source": []
  },
  {
   "cell_type": "code",
   "execution_count": null,
   "metadata": {},
   "outputs": [],
   "source": []
  },
  {
   "cell_type": "code",
   "execution_count": null,
   "metadata": {},
   "outputs": [],
   "source": []
  }
 ],
 "metadata": {
  "kernelspec": {
   "display_name": "Python 3 (ipykernel)",
   "language": "python",
   "name": "python3"
  },
  "language_info": {
   "codemirror_mode": {
    "name": "ipython",
    "version": 3
   },
   "file_extension": ".py",
   "mimetype": "text/x-python",
   "name": "python",
   "nbconvert_exporter": "python",
   "pygments_lexer": "ipython3",
   "version": "3.7.10"
  }
 },
 "nbformat": 4,
 "nbformat_minor": 2
}
